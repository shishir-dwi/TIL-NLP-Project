{
 "cells": [
  {
   "cell_type": "code",
   "execution_count": 14,
   "id": "e5136d92",
   "metadata": {},
   "outputs": [],
   "source": [
    "import pandas as pd\n",
    "df=pd.read_csv('preprocessed data with num count.csv')"
   ]
  },
  {
   "cell_type": "code",
   "execution_count": 15,
   "id": "b2a2b384",
   "metadata": {},
   "outputs": [
    {
     "data": {
      "text/plain": [
       "pharmaceuticals, conditions, and symptoms    20000\n",
       "academic interests                           19984\n",
       "television                                   19965\n",
       "movies                                       19964\n",
       "automotives                                  19952\n",
       "style and fashion                            19951\n",
       "news and politics                            19951\n",
       "sports                                       19947\n",
       "video gaming                                 19942\n",
       "music and audio                              19935\n",
       "arts and culture                             19933\n",
       "pets                                         19930\n",
       "shopping                                     19926\n",
       "food and drinks                              19925\n",
       "health                                       19919\n",
       "travel                                       19912\n",
       "home and garden                              19910\n",
       "real estate                                  19904\n",
       "business and finance                         19904\n",
       "personal finance                             19882\n",
       "hobbies and interests                        19870\n",
       "technology and computing                     19864\n",
       "healthy living                               19857\n",
       "family and relationships                     19840\n",
       "careers                                      19771\n",
       "books and literature                         19560\n",
       "Name: target, dtype: int64"
      ]
     },
     "execution_count": 15,
     "metadata": {},
     "output_type": "execute_result"
    }
   ],
   "source": [
    " df['target'].value_counts()"
   ]
  },
  {
   "cell_type": "code",
   "execution_count": 16,
   "id": "f9a56333",
   "metadata": {},
   "outputs": [
    {
     "name": "stdout",
     "output_type": "stream",
     "text": [
      "Min Num Words: 50\n",
      "Max Num Words: 500\n",
      "Mean Num Words: 180.04719052054307\n"
     ]
    }
   ],
   "source": [
    "min_num_words = df['num_words'].min()\n",
    "max_num_words = df['num_words'].max()\n",
    "mean_num_words = df['num_words'].mean()\n",
    "\n",
    "print(\"Min Num Words:\", min_num_words)\n",
    "print(\"Max Num Words:\", max_num_words)\n",
    "print(\"Mean Num Words:\", mean_num_words)"
   ]
  },
  {
   "cell_type": "code",
   "execution_count": 17,
   "id": "a8ff51f0",
   "metadata": {},
   "outputs": [
    {
     "name": "stdout",
     "output_type": "stream",
     "text": [
      "Percentage of rows with num_words less than mean: 74.79951613339568\n"
     ]
    }
   ],
   "source": [
    "percentage_less_than_mean = (df[df['num_words'] < 250].shape[0] / df.shape[0]) * 100\n",
    "\n",
    "print(\"Percentage of rows with num_words less than mean:\", percentage_less_than_mean)"
   ]
  },
  {
   "cell_type": "code",
   "execution_count": 18,
   "id": "f3fa9db9",
   "metadata": {},
   "outputs": [],
   "source": [
    "import ast\n",
    "def convert_to_list(token_string):\n",
    "    return ast.literal_eval(token_string)\n",
    "\n",
    "df['tokens'] = df['tokens'].apply(convert_to_list)"
   ]
  },
  {
   "cell_type": "code",
   "execution_count": 5,
   "id": "f4e88c7c",
   "metadata": {},
   "outputs": [
    {
     "name": "stdout",
     "output_type": "stream",
     "text": [
      "Requirement already satisfied: gensim in c:\\users\\91836\\anaconda3\\lib\\site-packages (4.3.0)\n",
      "Requirement already satisfied: numpy>=1.18.5 in c:\\users\\91836\\anaconda3\\lib\\site-packages (from gensim) (1.24.3)\n",
      "Requirement already satisfied: scipy>=1.7.0 in c:\\users\\91836\\anaconda3\\lib\\site-packages (from gensim) (1.10.1)\n",
      "Requirement already satisfied: smart-open>=1.8.1 in c:\\users\\91836\\anaconda3\\lib\\site-packages (from gensim) (5.2.1)\n",
      "Requirement already satisfied: FuzzyTM>=0.4.0 in c:\\users\\91836\\anaconda3\\lib\\site-packages (from gensim) (2.0.5)\n",
      "Requirement already satisfied: pandas in c:\\users\\91836\\anaconda3\\lib\\site-packages (from FuzzyTM>=0.4.0->gensim) (1.5.3)\n",
      "Requirement already satisfied: pyfume in c:\\users\\91836\\anaconda3\\lib\\site-packages (from FuzzyTM>=0.4.0->gensim) (0.2.25)\n",
      "Requirement already satisfied: python-dateutil>=2.8.1 in c:\\users\\91836\\anaconda3\\lib\\site-packages (from pandas->FuzzyTM>=0.4.0->gensim) (2.8.2)\n",
      "Requirement already satisfied: pytz>=2020.1 in c:\\users\\91836\\anaconda3\\lib\\site-packages (from pandas->FuzzyTM>=0.4.0->gensim) (2022.7)\n",
      "Requirement already satisfied: simpful in c:\\users\\91836\\anaconda3\\lib\\site-packages (from pyfume->FuzzyTM>=0.4.0->gensim) (2.11.0)\n",
      "Requirement already satisfied: fst-pso in c:\\users\\91836\\anaconda3\\lib\\site-packages (from pyfume->FuzzyTM>=0.4.0->gensim) (1.8.1)\n",
      "Requirement already satisfied: six>=1.5 in c:\\users\\91836\\anaconda3\\lib\\site-packages (from python-dateutil>=2.8.1->pandas->FuzzyTM>=0.4.0->gensim) (1.16.0)\n",
      "Requirement already satisfied: miniful in c:\\users\\91836\\anaconda3\\lib\\site-packages (from fst-pso->pyfume->FuzzyTM>=0.4.0->gensim) (0.0.6)\n"
     ]
    }
   ],
   "source": [
    "!pip install gensim"
   ]
  },
  {
   "cell_type": "code",
   "execution_count": null,
   "id": "11330f19",
   "metadata": {},
   "outputs": [],
   "source": [
    "token_data = df['tokens']\n",
    "model = Word2Vec(sentences=token_data, vector_size=300, window=5, min_count=1, workers=4)\n",
    "model.train(token_data, total_examples=len(token_data), epochs=10)\n",
    "model.save(\"word2vec1.model\")"
   ]
  },
  {
   "cell_type": "code",
   "execution_count": null,
   "id": "009a72f4",
   "metadata": {},
   "outputs": [],
   "source": [
    "from gensim.models import Word2Vec\n",
    "model = Word2Vec.load(\"word2vec.model\")"
   ]
  },
  {
   "cell_type": "code",
   "execution_count": null,
   "id": "e9e38bf2",
   "metadata": {},
   "outputs": [],
   "source": [
    "c=0\n",
    "def calculate_average_embedding(tokens):\n",
    "    global c\n",
    "    embeddings = []\n",
    "    for token in tokens:\n",
    "        if token in model.wv:\n",
    "            embeddings.append(model.wv[token])\n",
    "    if embeddings:\n",
    "        print(c,end=\" \")\n",
    "        c=c+1\n",
    "        return sum(embeddings) / len(embeddings)\n",
    "    return None\n",
    "\n",
    "df['embedding'] = df['tokens'].apply(calculate_average_embedding)"
   ]
  },
  {
   "cell_type": "code",
   "execution_count": 7,
   "id": "4b2a76ec",
   "metadata": {},
   "outputs": [
    {
     "data": {
      "text/html": [
       "<div>\n",
       "<style scoped>\n",
       "    .dataframe tbody tr th:only-of-type {\n",
       "        vertical-align: middle;\n",
       "    }\n",
       "\n",
       "    .dataframe tbody tr th {\n",
       "        vertical-align: top;\n",
       "    }\n",
       "\n",
       "    .dataframe thead th {\n",
       "        text-align: right;\n",
       "    }\n",
       "</style>\n",
       "<table border=\"1\" class=\"dataframe\">\n",
       "  <thead>\n",
       "    <tr style=\"text-align: right;\">\n",
       "      <th></th>\n",
       "      <th>target</th>\n",
       "      <th>tokens</th>\n",
       "      <th>num_words</th>\n",
       "      <th>embedding</th>\n",
       "    </tr>\n",
       "  </thead>\n",
       "  <tbody>\n",
       "    <tr>\n",
       "      <th>0</th>\n",
       "      <td>academic interests</td>\n",
       "      <td>('new', 'delhi', 'andhra', 'pradesh', 'public'...</td>\n",
       "      <td>151</td>\n",
       "      <td>[0.53427327, 0.37777388, 0.67791796, 0.3867578...</td>\n",
       "    </tr>\n",
       "    <tr>\n",
       "      <th>1</th>\n",
       "      <td>academic interests</td>\n",
       "      <td>('pune', 'two', 'week', 'new', 'academic', 'ye...</td>\n",
       "      <td>269</td>\n",
       "      <td>[0.59095967, 0.38041225, 0.62013286, 0.4079250...</td>\n",
       "    </tr>\n",
       "    <tr>\n",
       "      <th>2</th>\n",
       "      <td>academic interests</td>\n",
       "      <td>('guwahati', 'result', 'cbse', 'class', 'x', '...</td>\n",
       "      <td>261</td>\n",
       "      <td>[0.5390837, 0.38063988, 0.6045947, 0.4287805, ...</td>\n",
       "    </tr>\n",
       "    <tr>\n",
       "      <th>3</th>\n",
       "      <td>academic interests</td>\n",
       "      <td>('admission', 'iims', 'say', 'kapoor', 'across...</td>\n",
       "      <td>56</td>\n",
       "      <td>[0.5881605, 0.41108283, 0.6316433, 0.41330895,...</td>\n",
       "    </tr>\n",
       "    <tr>\n",
       "      <th>4</th>\n",
       "      <td>academic interests</td>\n",
       "      <td>('mangaluru', 'mangalore', 'institute', 'techn...</td>\n",
       "      <td>203</td>\n",
       "      <td>[0.5481456, 0.35460985, 0.59127414, 0.3912525,...</td>\n",
       "    </tr>\n",
       "    <tr>\n",
       "      <th>...</th>\n",
       "      <td>...</td>\n",
       "      <td>...</td>\n",
       "      <td>...</td>\n",
       "      <td>...</td>\n",
       "    </tr>\n",
       "    <tr>\n",
       "      <th>517493</th>\n",
       "      <td>video gaming</td>\n",
       "      <td>('nagpur', 'akshay', 'zadgaonkar', 'child', 'p...</td>\n",
       "      <td>291</td>\n",
       "      <td>[0.57505864, 0.38134778, 0.61178786, 0.4232715...</td>\n",
       "    </tr>\n",
       "    <tr>\n",
       "      <th>517494</th>\n",
       "      <td>video gaming</td>\n",
       "      <td>('bayonetta', 'lead', 'hideki', 'kamiya', 'rec...</td>\n",
       "      <td>176</td>\n",
       "      <td>[0.567825, 0.3760271, 0.5777696, 0.38801607, -...</td>\n",
       "    </tr>\n",
       "    <tr>\n",
       "      <th>517495</th>\n",
       "      <td>video gaming</td>\n",
       "      <td>('al', 'pacino', 'think', 'original', 'godfath...</td>\n",
       "      <td>147</td>\n",
       "      <td>[0.54286814, 0.397997, 0.6313829, 0.47130224, ...</td>\n",
       "    </tr>\n",
       "    <tr>\n",
       "      <th>517496</th>\n",
       "      <td>video gaming</td>\n",
       "      <td>('late', 'episode', 'imlie', 'begin', 'aryan',...</td>\n",
       "      <td>130</td>\n",
       "      <td>[0.5818928, 0.41212794, 0.6145405, 0.4231603, ...</td>\n",
       "    </tr>\n",
       "    <tr>\n",
       "      <th>517497</th>\n",
       "      <td>video gaming</td>\n",
       "      <td>('entire', 'world', 'lockdown', 'various', 'de...</td>\n",
       "      <td>115</td>\n",
       "      <td>[0.56467116, 0.39375988, 0.57365155, 0.4210972...</td>\n",
       "    </tr>\n",
       "  </tbody>\n",
       "</table>\n",
       "<p>517498 rows × 4 columns</p>\n",
       "</div>"
      ],
      "text/plain": [
       "                    target                                             tokens  \\\n",
       "0       academic interests  ('new', 'delhi', 'andhra', 'pradesh', 'public'...   \n",
       "1       academic interests  ('pune', 'two', 'week', 'new', 'academic', 'ye...   \n",
       "2       academic interests  ('guwahati', 'result', 'cbse', 'class', 'x', '...   \n",
       "3       academic interests  ('admission', 'iims', 'say', 'kapoor', 'across...   \n",
       "4       academic interests  ('mangaluru', 'mangalore', 'institute', 'techn...   \n",
       "...                    ...                                                ...   \n",
       "517493        video gaming  ('nagpur', 'akshay', 'zadgaonkar', 'child', 'p...   \n",
       "517494        video gaming  ('bayonetta', 'lead', 'hideki', 'kamiya', 'rec...   \n",
       "517495        video gaming  ('al', 'pacino', 'think', 'original', 'godfath...   \n",
       "517496        video gaming  ('late', 'episode', 'imlie', 'begin', 'aryan',...   \n",
       "517497        video gaming  ('entire', 'world', 'lockdown', 'various', 'de...   \n",
       "\n",
       "        num_words                                          embedding  \n",
       "0             151  [0.53427327, 0.37777388, 0.67791796, 0.3867578...  \n",
       "1             269  [0.59095967, 0.38041225, 0.62013286, 0.4079250...  \n",
       "2             261  [0.5390837, 0.38063988, 0.6045947, 0.4287805, ...  \n",
       "3              56  [0.5881605, 0.41108283, 0.6316433, 0.41330895,...  \n",
       "4             203  [0.5481456, 0.35460985, 0.59127414, 0.3912525,...  \n",
       "...           ...                                                ...  \n",
       "517493        291  [0.57505864, 0.38134778, 0.61178786, 0.4232715...  \n",
       "517494        176  [0.567825, 0.3760271, 0.5777696, 0.38801607, -...  \n",
       "517495        147  [0.54286814, 0.397997, 0.6313829, 0.47130224, ...  \n",
       "517496        130  [0.5818928, 0.41212794, 0.6145405, 0.4231603, ...  \n",
       "517497        115  [0.56467116, 0.39375988, 0.57365155, 0.4210972...  \n",
       "\n",
       "[517498 rows x 4 columns]"
      ]
     },
     "execution_count": 7,
     "metadata": {},
     "output_type": "execute_result"
    }
   ],
   "source": [
    "df"
   ]
  },
  {
   "cell_type": "code",
   "execution_count": 9,
   "id": "465b40f4",
   "metadata": {},
   "outputs": [],
   "source": [
    "df.to_csv('preprocessed data with embedding.csv',index=False)"
   ]
  },
  {
   "cell_type": "code",
   "execution_count": 13,
   "id": "b81de627",
   "metadata": {},
   "outputs": [
    {
     "data": {
      "text/plain": [
       "array([-0.79225606,  0.2264642 , -0.01871031, -0.6785605 ,  0.1190737 ,\n",
       "        0.24370694, -0.10918766,  0.09685633, -0.94778407, -0.43241116,\n",
       "        0.58103824,  0.82480866,  0.17008919,  0.13406813,  0.6275418 ,\n",
       "       -0.18033516, -0.00565277,  0.5412641 ,  1.2972784 ,  0.2778126 ,\n",
       "        0.71262264, -0.27429602,  0.20269707, -0.6476198 , -0.4265693 ,\n",
       "       -0.05440651, -0.4906206 , -0.34813997, -0.79070324,  0.02579869,\n",
       "        0.2490433 , -0.67493975, -0.01788101,  0.00755086,  0.5654435 ,\n",
       "        0.34910914,  0.20515788,  0.1374275 ,  0.7569983 ,  0.6993215 ,\n",
       "       -0.2245261 , -0.40676224, -0.25291973, -0.18893625, -0.4297929 ,\n",
       "       -0.5071139 ,  0.23702022, -0.3477308 , -0.21268123,  0.50184226,\n",
       "       -0.52651405, -0.25909674, -0.15228653, -0.48819283, -0.7720032 ,\n",
       "        0.61750364,  0.6125768 ,  0.02352893, -0.13259187, -0.3497903 ,\n",
       "        0.08399867,  0.35973176, -0.23772141,  0.13493022, -0.42031297,\n",
       "       -0.03841439, -0.1789239 ,  0.01542088,  0.09070587, -0.193309  ,\n",
       "        0.4278909 ,  0.03952619,  0.10968546,  0.06115447,  0.02843198,\n",
       "       -0.87503296, -0.30979604, -0.18324682, -0.21609241, -0.10646565,\n",
       "        0.6432257 ,  0.4664401 , -0.31462932, -0.89047164, -0.1437389 ,\n",
       "        0.19937778,  0.03646351, -0.36295196, -0.58527315,  0.2786052 ,\n",
       "        0.16931117,  0.3926979 ,  0.43851772,  0.03200758,  0.33919364,\n",
       "        0.64699036,  0.25155243, -0.12481103,  0.50184965,  0.23368381,\n",
       "        0.14447677, -0.05554469, -0.27230322,  0.098513  ,  0.8507164 ,\n",
       "        0.19800347, -0.24019614,  0.5126636 ,  0.9219425 , -0.12303915,\n",
       "        1.0683215 ,  0.7134961 , -0.42842332, -0.20307344, -0.95673543,\n",
       "        0.11293609, -0.34882313, -0.41621158, -0.35365164, -0.32815337,\n",
       "       -0.06935552,  0.01857021, -0.7144868 ,  0.2504319 , -0.26428065,\n",
       "       -0.21503206,  0.1456483 ,  0.19478984,  0.00216931,  0.00513547,\n",
       "        0.33428952, -0.4110543 ,  0.28967112,  0.5444844 ,  0.38083458,\n",
       "        0.04845265,  0.37330955,  0.6962887 ,  0.01593262,  0.719441  ,\n",
       "        0.14327227, -0.14629094, -0.05464897, -0.41478223, -0.26000243,\n",
       "        0.39396152, -0.24179436,  0.20121004,  0.32364112, -0.63558304,\n",
       "       -0.24176407,  0.5601874 ,  0.3009137 , -0.34355667, -0.217253  ,\n",
       "       -0.14177054, -0.18856063,  0.8178069 , -0.39912966,  0.11816951,\n",
       "        0.33175427,  0.20820509,  0.03026055,  0.01366438, -0.20411356,\n",
       "       -0.07078841,  0.48473442,  0.07771999,  0.3075243 ,  0.85313135,\n",
       "        0.14359497, -0.05460549,  0.54471326,  0.04534278, -0.31780383,\n",
       "       -0.16206399, -0.1132023 ,  0.00883679, -0.07658476, -0.431567  ,\n",
       "        0.50688976, -0.2417802 ,  1.4622346 , -0.29689735, -0.16711846,\n",
       "        0.15534917,  0.04786452, -0.39249653,  0.09941983,  0.00593569,\n",
       "       -0.3320908 ,  0.8515088 , -0.12429421,  0.06903713,  0.04582007,\n",
       "       -0.06599191, -0.17428988,  0.02004629, -0.8453619 ,  0.67830503,\n",
       "       -0.22226195, -0.22290139, -0.08003131, -0.3045254 , -0.48683918,\n",
       "        0.04406384,  0.01844551, -0.6374953 ,  0.53864884,  0.16907468,\n",
       "       -0.04660249,  0.41431242, -0.00471486, -0.44283918,  0.02494268,\n",
       "       -0.20439655,  0.40655133,  1.1562328 ,  1.1432184 ,  0.21551321,\n",
       "        0.35199302, -0.07742368,  0.03544037,  0.27289754, -0.34837797,\n",
       "       -0.71724427, -0.26002073,  0.14954473,  0.11077137,  0.70291287,\n",
       "       -0.36515573, -0.11777505, -0.33685902, -0.40810508, -0.464575  ,\n",
       "       -0.39846617,  0.07880583,  0.48767307, -0.40438455, -0.4702085 ,\n",
       "       -0.13033783, -0.0577025 ,  0.9670932 , -0.6021466 , -0.50442946,\n",
       "        0.5724116 ,  0.16997138, -0.549806  , -0.53381085, -0.20476411,\n",
       "       -0.32082826, -0.13807282, -0.2959157 ,  0.48774335, -0.6041695 ,\n",
       "        0.14638445,  0.24161203,  0.9028258 ,  0.31240714, -0.03695503,\n",
       "       -0.6862833 ,  0.46064565,  0.15373407, -0.24028823, -0.3264972 ,\n",
       "       -0.16473672,  0.46006122,  0.6031824 , -0.3857125 , -0.20525245,\n",
       "       -0.34011373,  0.6925979 , -0.41155934, -0.37634435, -0.51278406,\n",
       "       -0.83726406, -0.4826194 , -0.5147212 , -0.38482648, -0.39025658,\n",
       "       -0.57703763,  0.98039484, -0.32019937,  0.30229878,  0.00992571,\n",
       "        0.02901843, -0.8449858 ,  0.52985865,  0.2786553 ,  0.1196253 ,\n",
       "       -0.46169683,  0.39188743,  0.04047373,  0.37181762, -0.06468816,\n",
       "        0.0739923 , -0.28012076, -0.6765309 , -0.34010994, -0.29932216],\n",
       "      dtype=float32)"
      ]
     },
     "execution_count": 13,
     "metadata": {},
     "output_type": "execute_result"
    }
   ],
   "source": [
    "df.embedding.iloc[13333]"
   ]
  }
 ],
 "metadata": {
  "kernelspec": {
   "display_name": "Python 3 (ipykernel)",
   "language": "python",
   "name": "python3"
  },
  "language_info": {
   "codemirror_mode": {
    "name": "ipython",
    "version": 3
   },
   "file_extension": ".py",
   "mimetype": "text/x-python",
   "name": "python",
   "nbconvert_exporter": "python",
   "pygments_lexer": "ipython3",
   "version": "3.9.7"
  }
 },
 "nbformat": 4,
 "nbformat_minor": 5
}
