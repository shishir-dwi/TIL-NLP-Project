{
 "cells": [
  {
   "cell_type": "code",
   "execution_count": 1,
   "id": "92e65819",
   "metadata": {},
   "outputs": [],
   "source": [
    "import numpy as np\n",
    "import pandas as pd\n",
    "from bs4 import BeautifulSoup\n",
    "import string \n",
    "import emoji\n",
    "import re"
   ]
  },
  {
   "cell_type": "markdown",
   "id": "ff2891bc",
   "metadata": {},
   "source": [
    "# Preprocessing"
   ]
  },
  {
   "cell_type": "code",
   "execution_count": 2,
   "id": "b21b3be7",
   "metadata": {},
   "outputs": [
    {
     "data": {
      "text/html": [
       "<div>\n",
       "<style scoped>\n",
       "    .dataframe tbody tr th:only-of-type {\n",
       "        vertical-align: middle;\n",
       "    }\n",
       "\n",
       "    .dataframe tbody tr th {\n",
       "        vertical-align: top;\n",
       "    }\n",
       "\n",
       "    .dataframe thead th {\n",
       "        text-align: right;\n",
       "    }\n",
       "</style>\n",
       "<table border=\"1\" class=\"dataframe\">\n",
       "  <thead>\n",
       "    <tr style=\"text-align: right;\">\n",
       "      <th></th>\n",
       "      <th>text</th>\n",
       "      <th>target</th>\n",
       "      <th>Word Count</th>\n",
       "    </tr>\n",
       "  </thead>\n",
       "  <tbody>\n",
       "    <tr>\n",
       "      <th>0</th>\n",
       "      <td>NEW DELHI: The Andhra Pradesh Public Service C...</td>\n",
       "      <td>academic interests</td>\n",
       "      <td>239</td>\n",
       "    </tr>\n",
       "    <tr>\n",
       "      <th>1</th>\n",
       "      <td>PUNE: Two weeks after the new academic year ha...</td>\n",
       "      <td>academic interests</td>\n",
       "      <td>500</td>\n",
       "    </tr>\n",
       "    <tr>\n",
       "      <th>2</th>\n",
       "      <td>GUWAHATI: The results of the CBSE Class X exam...</td>\n",
       "      <td>academic interests</td>\n",
       "      <td>470</td>\n",
       "    </tr>\n",
       "    <tr>\n",
       "      <th>3</th>\n",
       "      <td>admission into the IIMs,\" said Kapoor. Across ...</td>\n",
       "      <td>academic interests</td>\n",
       "      <td>108</td>\n",
       "    </tr>\n",
       "    <tr>\n",
       "      <th>4</th>\n",
       "      <td>Mangaluru: The Mangalore Institute of Technolo...</td>\n",
       "      <td>academic interests</td>\n",
       "      <td>336</td>\n",
       "    </tr>\n",
       "    <tr>\n",
       "      <th>...</th>\n",
       "      <td>...</td>\n",
       "      <td>...</td>\n",
       "      <td>...</td>\n",
       "    </tr>\n",
       "    <tr>\n",
       "      <th>519995</th>\n",
       "      <td>NAGPUR: Akshay Zadgaonkar is a child prodigy. ...</td>\n",
       "      <td>video gaming</td>\n",
       "      <td>500</td>\n",
       "    </tr>\n",
       "    <tr>\n",
       "      <th>519996</th>\n",
       "      <td>\\nBayonetta lead Hideki Kamiya reckons the lat...</td>\n",
       "      <td>video gaming</td>\n",
       "      <td>290</td>\n",
       "    </tr>\n",
       "    <tr>\n",
       "      <th>519997</th>\n",
       "      <td>\\nAl Pacino thinks the original Godfather is b...</td>\n",
       "      <td>video gaming</td>\n",
       "      <td>259</td>\n",
       "    </tr>\n",
       "    <tr>\n",
       "      <th>519998</th>\n",
       "      <td>The latest episode of Imlie begins with Aryan ...</td>\n",
       "      <td>video gaming</td>\n",
       "      <td>251</td>\n",
       "    </tr>\n",
       "    <tr>\n",
       "      <th>519999</th>\n",
       "      <td>While the entire world is under lockdown in va...</td>\n",
       "      <td>video gaming</td>\n",
       "      <td>238</td>\n",
       "    </tr>\n",
       "  </tbody>\n",
       "</table>\n",
       "<p>520000 rows × 3 columns</p>\n",
       "</div>"
      ],
      "text/plain": [
       "                                                     text              target  \\\n",
       "0       NEW DELHI: The Andhra Pradesh Public Service C...  academic interests   \n",
       "1       PUNE: Two weeks after the new academic year ha...  academic interests   \n",
       "2       GUWAHATI: The results of the CBSE Class X exam...  academic interests   \n",
       "3       admission into the IIMs,\" said Kapoor. Across ...  academic interests   \n",
       "4       Mangaluru: The Mangalore Institute of Technolo...  academic interests   \n",
       "...                                                   ...                 ...   \n",
       "519995  NAGPUR: Akshay Zadgaonkar is a child prodigy. ...        video gaming   \n",
       "519996  \\nBayonetta lead Hideki Kamiya reckons the lat...        video gaming   \n",
       "519997  \\nAl Pacino thinks the original Godfather is b...        video gaming   \n",
       "519998  The latest episode of Imlie begins with Aryan ...        video gaming   \n",
       "519999  While the entire world is under lockdown in va...        video gaming   \n",
       "\n",
       "        Word Count  \n",
       "0              239  \n",
       "1              500  \n",
       "2              470  \n",
       "3              108  \n",
       "4              336  \n",
       "...            ...  \n",
       "519995         500  \n",
       "519996         290  \n",
       "519997         259  \n",
       "519998         251  \n",
       "519999         238  \n",
       "\n",
       "[520000 rows x 3 columns]"
      ]
     },
     "execution_count": 2,
     "metadata": {},
     "output_type": "execute_result"
    }
   ],
   "source": [
    "df = pd.read_csv(\"sample_df (4).zip\")\n",
    "df"
   ]
  },
  {
   "cell_type": "code",
   "execution_count": 3,
   "id": "e695a7e3",
   "metadata": {},
   "outputs": [
    {
     "name": "stdout",
     "output_type": "stream",
     "text": [
      "26\n"
     ]
    }
   ],
   "source": [
    "print(len(pd.unique(df.target)))"
   ]
  },
  {
   "cell_type": "markdown",
   "id": "8604fb65",
   "metadata": {},
   "source": [
    "# Lowercase the dataset"
   ]
  },
  {
   "cell_type": "code",
   "execution_count": 4,
   "id": "d8f474f3",
   "metadata": {},
   "outputs": [
    {
     "data": {
      "text/plain": [
       "text          object\n",
       "target        object\n",
       "Word Count     int64\n",
       "dtype: object"
      ]
     },
     "execution_count": 4,
     "metadata": {},
     "output_type": "execute_result"
    }
   ],
   "source": [
    "df.text = df.text.str.lower()\n",
    "df.text = df.text.astype(str)\n",
    "df.dtypes"
   ]
  },
  {
   "cell_type": "code",
   "execution_count": 5,
   "id": "0d1d2792",
   "metadata": {
    "scrolled": true
   },
   "outputs": [
    {
     "data": {
      "text/html": [
       "<div>\n",
       "<style scoped>\n",
       "    .dataframe tbody tr th:only-of-type {\n",
       "        vertical-align: middle;\n",
       "    }\n",
       "\n",
       "    .dataframe tbody tr th {\n",
       "        vertical-align: top;\n",
       "    }\n",
       "\n",
       "    .dataframe thead th {\n",
       "        text-align: right;\n",
       "    }\n",
       "</style>\n",
       "<table border=\"1\" class=\"dataframe\">\n",
       "  <thead>\n",
       "    <tr style=\"text-align: right;\">\n",
       "      <th></th>\n",
       "      <th>text</th>\n",
       "      <th>target</th>\n",
       "      <th>Word Count</th>\n",
       "    </tr>\n",
       "  </thead>\n",
       "  <tbody>\n",
       "    <tr>\n",
       "      <th>0</th>\n",
       "      <td>new delhi: the andhra pradesh public service c...</td>\n",
       "      <td>academic interests</td>\n",
       "      <td>239</td>\n",
       "    </tr>\n",
       "    <tr>\n",
       "      <th>1</th>\n",
       "      <td>pune: two weeks after the new academic year ha...</td>\n",
       "      <td>academic interests</td>\n",
       "      <td>500</td>\n",
       "    </tr>\n",
       "    <tr>\n",
       "      <th>2</th>\n",
       "      <td>guwahati: the results of the cbse class x exam...</td>\n",
       "      <td>academic interests</td>\n",
       "      <td>470</td>\n",
       "    </tr>\n",
       "    <tr>\n",
       "      <th>3</th>\n",
       "      <td>admission into the iims,\" said kapoor. across ...</td>\n",
       "      <td>academic interests</td>\n",
       "      <td>108</td>\n",
       "    </tr>\n",
       "    <tr>\n",
       "      <th>4</th>\n",
       "      <td>mangaluru: the mangalore institute of technolo...</td>\n",
       "      <td>academic interests</td>\n",
       "      <td>336</td>\n",
       "    </tr>\n",
       "    <tr>\n",
       "      <th>...</th>\n",
       "      <td>...</td>\n",
       "      <td>...</td>\n",
       "      <td>...</td>\n",
       "    </tr>\n",
       "    <tr>\n",
       "      <th>519995</th>\n",
       "      <td>nagpur: akshay zadgaonkar is a child prodigy. ...</td>\n",
       "      <td>video gaming</td>\n",
       "      <td>500</td>\n",
       "    </tr>\n",
       "    <tr>\n",
       "      <th>519996</th>\n",
       "      <td>\\nbayonetta lead hideki kamiya reckons the lat...</td>\n",
       "      <td>video gaming</td>\n",
       "      <td>290</td>\n",
       "    </tr>\n",
       "    <tr>\n",
       "      <th>519997</th>\n",
       "      <td>\\nal pacino thinks the original godfather is b...</td>\n",
       "      <td>video gaming</td>\n",
       "      <td>259</td>\n",
       "    </tr>\n",
       "    <tr>\n",
       "      <th>519998</th>\n",
       "      <td>the latest episode of imlie begins with aryan ...</td>\n",
       "      <td>video gaming</td>\n",
       "      <td>251</td>\n",
       "    </tr>\n",
       "    <tr>\n",
       "      <th>519999</th>\n",
       "      <td>while the entire world is under lockdown in va...</td>\n",
       "      <td>video gaming</td>\n",
       "      <td>238</td>\n",
       "    </tr>\n",
       "  </tbody>\n",
       "</table>\n",
       "<p>520000 rows × 3 columns</p>\n",
       "</div>"
      ],
      "text/plain": [
       "                                                     text              target  \\\n",
       "0       new delhi: the andhra pradesh public service c...  academic interests   \n",
       "1       pune: two weeks after the new academic year ha...  academic interests   \n",
       "2       guwahati: the results of the cbse class x exam...  academic interests   \n",
       "3       admission into the iims,\" said kapoor. across ...  academic interests   \n",
       "4       mangaluru: the mangalore institute of technolo...  academic interests   \n",
       "...                                                   ...                 ...   \n",
       "519995  nagpur: akshay zadgaonkar is a child prodigy. ...        video gaming   \n",
       "519996  \\nbayonetta lead hideki kamiya reckons the lat...        video gaming   \n",
       "519997  \\nal pacino thinks the original godfather is b...        video gaming   \n",
       "519998  the latest episode of imlie begins with aryan ...        video gaming   \n",
       "519999  while the entire world is under lockdown in va...        video gaming   \n",
       "\n",
       "        Word Count  \n",
       "0              239  \n",
       "1              500  \n",
       "2              470  \n",
       "3              108  \n",
       "4              336  \n",
       "...            ...  \n",
       "519995         500  \n",
       "519996         290  \n",
       "519997         259  \n",
       "519998         251  \n",
       "519999         238  \n",
       "\n",
       "[520000 rows x 3 columns]"
      ]
     },
     "execution_count": 5,
     "metadata": {},
     "output_type": "execute_result"
    }
   ],
   "source": [
    "df"
   ]
  },
  {
   "cell_type": "code",
   "execution_count": 6,
   "id": "e5997857",
   "metadata": {},
   "outputs": [
    {
     "data": {
      "text/plain": [
       "'new delhi: the andhra pradesh public service commission (appsc) has released appsc group 2 notification on its official website on december 31, 2018. as per the notification, there are 446 vacancies to be filled through the examination. interested and eligible candidates can apply for the appsc group 2 vacancies from january 10, 2019 to january 31, 2019 through the official website — https://psc.ap.gov.in/. the ap psc will conduct screening/preliminary test on may 5, 2019 while the main exam for the successful candidates would be conducted on july 18 and 19, 2019. appsc group 2: important dates    event date   opening date of application 1-jan-19   closing date of application 31-jan-19 appsc group 2: vacancy details    type carried forward   executive posts 16   non–executive posts 94   type fresh posts   executive posts 138   non–executive posts 198   total 446 educational qualificationgraduation degree in any discipline from a recognized university or institute. age limit (as on july 1, 2018) minimum: 18 yearsmaximum: 42 years feesapplication fees rs 250 + examination fees rs 80 no examination fees for the candidates belonging to the reserved categories like sc, st, bc, ph & ex-servicemen etc. appsc is conducting this recruitment drive to fill in 446 vacancies in group 2 category. group 2 posts includes asst. commercial tax officer in a.p. commercial taxes sub-ordinate service, deputy tahsildar in a.p. revenue subordinate service, senior auditor in a.p. state audit subordinate service, municipal commissioner grade-iii in a.p. municipal commissioner subordinate service etc. '"
      ]
     },
     "execution_count": 6,
     "metadata": {},
     "output_type": "execute_result"
    }
   ],
   "source": [
    "df[\"text\"].iloc[0]"
   ]
  },
  {
   "cell_type": "markdown",
   "id": "cd0bc6ab",
   "metadata": {},
   "source": [
    "# Removing Punctuations"
   ]
  },
  {
   "cell_type": "code",
   "execution_count": 7,
   "id": "afd7a1e5",
   "metadata": {},
   "outputs": [],
   "source": [
    "import string\n",
    "import pandas as pd\n",
    "\n",
    "def remove_punct(text):\n",
    "    if isinstance(text, str):\n",
    "        # Create a translation table that removes all punctuation except for full stops\n",
    "        translation_table = str.maketrans(\"\", \"\", string.punctuation.replace(\".\", \"\"))\n",
    "        return text.translate(translation_table)\n",
    "    elif pd.notna(text):\n",
    "        return str(text)\n",
    "    else:\n",
    "        return text\n",
    "\n",
    "# Apply the function to the 'text' column in your DataFrame\n",
    "df['text'] = df['text'].apply(remove_punct)\n",
    "\n",
    "# Now, full stops will be preserved in the text"
   ]
  },
  {
   "cell_type": "code",
   "execution_count": 8,
   "id": "1b2109ba",
   "metadata": {},
   "outputs": [
    {
     "data": {
      "text/plain": [
       "'new delhi the andhra pradesh public service commission appsc has released appsc group 2 notification on its official website on december 31 2018. as per the notification there are 446 vacancies to be filled through the examination. interested and eligible candidates can apply for the appsc group 2 vacancies from january 10 2019 to january 31 2019 through the official website — httpspsc.ap.gov.in. the ap psc will conduct screeningpreliminary test on may 5 2019 while the main exam for the successful candidates would be conducted on july 18 and 19 2019. appsc group 2 important dates    event date   opening date of application 1jan19   closing date of application 31jan19 appsc group 2 vacancy details    type carried forward   executive posts 16   non–executive posts 94   type fresh posts   executive posts 138   non–executive posts 198   total 446 educational qualificationgraduation degree in any discipline from a recognized university or institute. age limit as on july 1 2018 minimum 18 yearsmaximum 42 years feesapplication fees rs 250  examination fees rs 80 no examination fees for the candidates belonging to the reserved categories like sc st bc ph  exservicemen etc. appsc is conducting this recruitment drive to fill in 446 vacancies in group 2 category. group 2 posts includes asst. commercial tax officer in a.p. commercial taxes subordinate service deputy tahsildar in a.p. revenue subordinate service senior auditor in a.p. state audit subordinate service municipal commissioner gradeiii in a.p. municipal commissioner subordinate service etc. '"
      ]
     },
     "execution_count": 8,
     "metadata": {},
     "output_type": "execute_result"
    }
   ],
   "source": [
    "df[\"text\"].iloc[0]"
   ]
  },
  {
   "cell_type": "markdown",
   "id": "1169bb46",
   "metadata": {},
   "source": [
    "# Removing URLs and Emojis"
   ]
  },
  {
   "cell_type": "code",
   "execution_count": 9,
   "id": "4a3c060f",
   "metadata": {},
   "outputs": [
    {
     "data": {
      "text/html": [
       "<div>\n",
       "<style scoped>\n",
       "    .dataframe tbody tr th:only-of-type {\n",
       "        vertical-align: middle;\n",
       "    }\n",
       "\n",
       "    .dataframe tbody tr th {\n",
       "        vertical-align: top;\n",
       "    }\n",
       "\n",
       "    .dataframe thead th {\n",
       "        text-align: right;\n",
       "    }\n",
       "</style>\n",
       "<table border=\"1\" class=\"dataframe\">\n",
       "  <thead>\n",
       "    <tr style=\"text-align: right;\">\n",
       "      <th></th>\n",
       "      <th>text</th>\n",
       "      <th>target</th>\n",
       "      <th>Word Count</th>\n",
       "    </tr>\n",
       "  </thead>\n",
       "  <tbody>\n",
       "    <tr>\n",
       "      <th>0</th>\n",
       "      <td>new delhi the andhra pradesh public service co...</td>\n",
       "      <td>academic interests</td>\n",
       "      <td>239</td>\n",
       "    </tr>\n",
       "    <tr>\n",
       "      <th>1</th>\n",
       "      <td>pune two weeks after the new academic year has...</td>\n",
       "      <td>academic interests</td>\n",
       "      <td>500</td>\n",
       "    </tr>\n",
       "    <tr>\n",
       "      <th>2</th>\n",
       "      <td>guwahati the results of the cbse class x exams...</td>\n",
       "      <td>academic interests</td>\n",
       "      <td>470</td>\n",
       "    </tr>\n",
       "    <tr>\n",
       "      <th>3</th>\n",
       "      <td>admission into the iims said kapoor. across 13...</td>\n",
       "      <td>academic interests</td>\n",
       "      <td>108</td>\n",
       "    </tr>\n",
       "    <tr>\n",
       "      <th>4</th>\n",
       "      <td>mangaluru the mangalore institute of technolog...</td>\n",
       "      <td>academic interests</td>\n",
       "      <td>336</td>\n",
       "    </tr>\n",
       "    <tr>\n",
       "      <th>...</th>\n",
       "      <td>...</td>\n",
       "      <td>...</td>\n",
       "      <td>...</td>\n",
       "    </tr>\n",
       "    <tr>\n",
       "      <th>519995</th>\n",
       "      <td>nagpur akshay zadgaonkar is a child prodigy. h...</td>\n",
       "      <td>video gaming</td>\n",
       "      <td>500</td>\n",
       "    </tr>\n",
       "    <tr>\n",
       "      <th>519996</th>\n",
       "      <td>\\nbayonetta lead hideki kamiya reckons the lat...</td>\n",
       "      <td>video gaming</td>\n",
       "      <td>290</td>\n",
       "    </tr>\n",
       "    <tr>\n",
       "      <th>519997</th>\n",
       "      <td>\\nal pacino thinks the original godfather is b...</td>\n",
       "      <td>video gaming</td>\n",
       "      <td>259</td>\n",
       "    </tr>\n",
       "    <tr>\n",
       "      <th>519998</th>\n",
       "      <td>the latest episode of imlie begins with aryan ...</td>\n",
       "      <td>video gaming</td>\n",
       "      <td>251</td>\n",
       "    </tr>\n",
       "    <tr>\n",
       "      <th>519999</th>\n",
       "      <td>while the entire world is under lockdown in va...</td>\n",
       "      <td>video gaming</td>\n",
       "      <td>238</td>\n",
       "    </tr>\n",
       "  </tbody>\n",
       "</table>\n",
       "<p>520000 rows × 3 columns</p>\n",
       "</div>"
      ],
      "text/plain": [
       "                                                     text              target  \\\n",
       "0       new delhi the andhra pradesh public service co...  academic interests   \n",
       "1       pune two weeks after the new academic year has...  academic interests   \n",
       "2       guwahati the results of the cbse class x exams...  academic interests   \n",
       "3       admission into the iims said kapoor. across 13...  academic interests   \n",
       "4       mangaluru the mangalore institute of technolog...  academic interests   \n",
       "...                                                   ...                 ...   \n",
       "519995  nagpur akshay zadgaonkar is a child prodigy. h...        video gaming   \n",
       "519996  \\nbayonetta lead hideki kamiya reckons the lat...        video gaming   \n",
       "519997  \\nal pacino thinks the original godfather is b...        video gaming   \n",
       "519998  the latest episode of imlie begins with aryan ...        video gaming   \n",
       "519999  while the entire world is under lockdown in va...        video gaming   \n",
       "\n",
       "        Word Count  \n",
       "0              239  \n",
       "1              500  \n",
       "2              470  \n",
       "3              108  \n",
       "4              336  \n",
       "...            ...  \n",
       "519995         500  \n",
       "519996         290  \n",
       "519997         259  \n",
       "519998         251  \n",
       "519999         238  \n",
       "\n",
       "[520000 rows x 3 columns]"
      ]
     },
     "execution_count": 9,
     "metadata": {},
     "output_type": "execute_result"
    }
   ],
   "source": [
    "def removeURLandEmoji(text):\n",
    "    text = re.sub(r\"http\\S+|www\\S+|https\\S+\", \"\", text, flags=re.MULTILINE)\n",
    "    text = emoji.demojize(text)\n",
    "    text = re.sub(r\":[^:]+:\", \"\", text)\n",
    "    \n",
    "    return text\n",
    "    \n",
    "df.text = df.text.apply(removeURLandEmoji)\n",
    "df"
   ]
  },
  {
   "cell_type": "code",
   "execution_count": 10,
   "id": "be1789b1",
   "metadata": {},
   "outputs": [
    {
     "data": {
      "text/plain": [
       "'new delhi the andhra pradesh public service commission appsc has released appsc group 2 notification on its official website on december 31 2018. as per the notification there are 446 vacancies to be filled through the examination. interested and eligible candidates can apply for the appsc group 2 vacancies from january 10 2019 to january 31 2019 through the official website —  the ap psc will conduct screeningpreliminary test on may 5 2019 while the main exam for the successful candidates would be conducted on july 18 and 19 2019. appsc group 2 important dates    event date   opening date of application 1jan19   closing date of application 31jan19 appsc group 2 vacancy details    type carried forward   executive posts 16   non–executive posts 94   type fresh posts   executive posts 138   non–executive posts 198   total 446 educational qualificationgraduation degree in any discipline from a recognized university or institute. age limit as on july 1 2018 minimum 18 yearsmaximum 42 years feesapplication fees rs 250  examination fees rs 80 no examination fees for the candidates belonging to the reserved categories like sc st bc ph  exservicemen etc. appsc is conducting this recruitment drive to fill in 446 vacancies in group 2 category. group 2 posts includes asst. commercial tax officer in a.p. commercial taxes subordinate service deputy tahsildar in a.p. revenue subordinate service senior auditor in a.p. state audit subordinate service municipal commissioner gradeiii in a.p. municipal commissioner subordinate service etc. '"
      ]
     },
     "execution_count": 10,
     "metadata": {},
     "output_type": "execute_result"
    }
   ],
   "source": [
    "df[\"text\"].iloc[0]"
   ]
  },
  {
   "cell_type": "markdown",
   "id": "70017c0e",
   "metadata": {},
   "source": [
    "# Remove Emails and Numbers\n",
    "    "
   ]
  },
  {
   "cell_type": "code",
   "execution_count": 11,
   "id": "bbedc200",
   "metadata": {},
   "outputs": [
    {
     "data": {
      "text/html": [
       "<div>\n",
       "<style scoped>\n",
       "    .dataframe tbody tr th:only-of-type {\n",
       "        vertical-align: middle;\n",
       "    }\n",
       "\n",
       "    .dataframe tbody tr th {\n",
       "        vertical-align: top;\n",
       "    }\n",
       "\n",
       "    .dataframe thead th {\n",
       "        text-align: right;\n",
       "    }\n",
       "</style>\n",
       "<table border=\"1\" class=\"dataframe\">\n",
       "  <thead>\n",
       "    <tr style=\"text-align: right;\">\n",
       "      <th></th>\n",
       "      <th>text</th>\n",
       "      <th>target</th>\n",
       "      <th>Word Count</th>\n",
       "    </tr>\n",
       "  </thead>\n",
       "  <tbody>\n",
       "    <tr>\n",
       "      <th>0</th>\n",
       "      <td>new delhi the andhra pradesh public service co...</td>\n",
       "      <td>academic interests</td>\n",
       "      <td>239</td>\n",
       "    </tr>\n",
       "    <tr>\n",
       "      <th>1</th>\n",
       "      <td>pune two weeks after the new academic year has...</td>\n",
       "      <td>academic interests</td>\n",
       "      <td>500</td>\n",
       "    </tr>\n",
       "    <tr>\n",
       "      <th>2</th>\n",
       "      <td>guwahati the results of the cbse class x exams...</td>\n",
       "      <td>academic interests</td>\n",
       "      <td>470</td>\n",
       "    </tr>\n",
       "    <tr>\n",
       "      <th>3</th>\n",
       "      <td>admission into the iims said kapoor. across  i...</td>\n",
       "      <td>academic interests</td>\n",
       "      <td>108</td>\n",
       "    </tr>\n",
       "    <tr>\n",
       "      <th>4</th>\n",
       "      <td>mangaluru the mangalore institute of technolog...</td>\n",
       "      <td>academic interests</td>\n",
       "      <td>336</td>\n",
       "    </tr>\n",
       "    <tr>\n",
       "      <th>...</th>\n",
       "      <td>...</td>\n",
       "      <td>...</td>\n",
       "      <td>...</td>\n",
       "    </tr>\n",
       "    <tr>\n",
       "      <th>519995</th>\n",
       "      <td>nagpur akshay zadgaonkar is a child prodigy. h...</td>\n",
       "      <td>video gaming</td>\n",
       "      <td>500</td>\n",
       "    </tr>\n",
       "    <tr>\n",
       "      <th>519996</th>\n",
       "      <td>\\nbayonetta lead hideki kamiya reckons the lat...</td>\n",
       "      <td>video gaming</td>\n",
       "      <td>290</td>\n",
       "    </tr>\n",
       "    <tr>\n",
       "      <th>519997</th>\n",
       "      <td>\\nal pacino thinks the original godfather is b...</td>\n",
       "      <td>video gaming</td>\n",
       "      <td>259</td>\n",
       "    </tr>\n",
       "    <tr>\n",
       "      <th>519998</th>\n",
       "      <td>the latest episode of imlie begins with aryan ...</td>\n",
       "      <td>video gaming</td>\n",
       "      <td>251</td>\n",
       "    </tr>\n",
       "    <tr>\n",
       "      <th>519999</th>\n",
       "      <td>while the entire world is under lockdown in va...</td>\n",
       "      <td>video gaming</td>\n",
       "      <td>238</td>\n",
       "    </tr>\n",
       "  </tbody>\n",
       "</table>\n",
       "<p>520000 rows × 3 columns</p>\n",
       "</div>"
      ],
      "text/plain": [
       "                                                     text              target  \\\n",
       "0       new delhi the andhra pradesh public service co...  academic interests   \n",
       "1       pune two weeks after the new academic year has...  academic interests   \n",
       "2       guwahati the results of the cbse class x exams...  academic interests   \n",
       "3       admission into the iims said kapoor. across  i...  academic interests   \n",
       "4       mangaluru the mangalore institute of technolog...  academic interests   \n",
       "...                                                   ...                 ...   \n",
       "519995  nagpur akshay zadgaonkar is a child prodigy. h...        video gaming   \n",
       "519996  \\nbayonetta lead hideki kamiya reckons the lat...        video gaming   \n",
       "519997  \\nal pacino thinks the original godfather is b...        video gaming   \n",
       "519998  the latest episode of imlie begins with aryan ...        video gaming   \n",
       "519999  while the entire world is under lockdown in va...        video gaming   \n",
       "\n",
       "        Word Count  \n",
       "0              239  \n",
       "1              500  \n",
       "2              470  \n",
       "3              108  \n",
       "4              336  \n",
       "...            ...  \n",
       "519995         500  \n",
       "519996         290  \n",
       "519997         259  \n",
       "519998         251  \n",
       "519999         238  \n",
       "\n",
       "[520000 rows x 3 columns]"
      ]
     },
     "execution_count": 11,
     "metadata": {},
     "output_type": "execute_result"
    }
   ],
   "source": [
    "def remove_Emails_and_Numbers(text):\n",
    "    email_pattern = r'\\S+@\\S+\\.\\S+'\n",
    "    number_pattern = r'\\b\\d+\\b'\n",
    "\n",
    "    cleaned_text = re.sub(email_pattern, '', text)\n",
    "    cleaned_text = re.sub(number_pattern, '', cleaned_text)\n",
    "    return cleaned_text\n",
    "\n",
    "df.text = df.text.apply(remove_Emails_and_Numbers)\n",
    "df"
   ]
  },
  {
   "cell_type": "code",
   "execution_count": 12,
   "id": "b6004eb0",
   "metadata": {},
   "outputs": [
    {
     "data": {
      "text/plain": [
       "'new delhi the andhra pradesh public service commission appsc has released appsc group  notification on its official website on december  . as per the notification there are  vacancies to be filled through the examination. interested and eligible candidates can apply for the appsc group  vacancies from january   to january   through the official website —  the ap psc will conduct screeningpreliminary test on may   while the main exam for the successful candidates would be conducted on july  and  . appsc group  important dates    event date   opening date of application 1jan19   closing date of application 31jan19 appsc group  vacancy details    type carried forward   executive posts    non–executive posts    type fresh posts   executive posts    non–executive posts    total  educational qualificationgraduation degree in any discipline from a recognized university or institute. age limit as on july   minimum  yearsmaximum  years feesapplication fees rs   examination fees rs  no examination fees for the candidates belonging to the reserved categories like sc st bc ph  exservicemen etc. appsc is conducting this recruitment drive to fill in  vacancies in group  category. group  posts includes asst. commercial tax officer in a.p. commercial taxes subordinate service deputy tahsildar in a.p. revenue subordinate service senior auditor in a.p. state audit subordinate service municipal commissioner gradeiii in a.p. municipal commissioner subordinate service etc. '"
      ]
     },
     "execution_count": 12,
     "metadata": {},
     "output_type": "execute_result"
    }
   ],
   "source": [
    "df[\"text\"].iloc[0]"
   ]
  },
  {
   "cell_type": "code",
   "execution_count": 13,
   "id": "f5dbc079",
   "metadata": {},
   "outputs": [],
   "source": [
    "import re\n",
    "import codecs\n",
    "\n",
    "def removeSpecialChar(text):\n",
    "    pattern = r'[^a-zA-Z\\s.]'  # Include '.' in the pattern\n",
    "\n",
    "    cleaned_text = re.sub(pattern, '', text)\n",
    "    cleaned_text = cleaned_text.replace('\\n', ' ') # remove '\\n' with ' '\n",
    "    cleaned_text = codecs.decode(cleaned_text, 'unicode_escape') # remove '\\' with ''\n",
    "    cleaned_text = cleaned_text.replace('\\xa0', ' ') # remove '\\xa0' with ' '\n",
    "    return cleaned_text\n",
    "\n",
    "# Apply the modified function to the 'text' column in your DataFrame\n",
    "df['text'] = df['text'].apply(removeSpecialChar)\n"
   ]
  },
  {
   "cell_type": "code",
   "execution_count": 14,
   "id": "6f5e785b",
   "metadata": {},
   "outputs": [
    {
     "data": {
      "text/plain": [
       "'new delhi the andhra pradesh public service commission appsc has released appsc group  notification on its official website on december  . as per the notification there are  vacancies to be filled through the examination. interested and eligible candidates can apply for the appsc group  vacancies from january   to january   through the official website   the ap psc will conduct screeningpreliminary test on may   while the main exam for the successful candidates would be conducted on july  and  . appsc group  important dates    event date   opening date of application jan   closing date of application jan appsc group  vacancy details    type carried forward   executive posts    nonexecutive posts    type fresh posts   executive posts    nonexecutive posts    total  educational qualificationgraduation degree in any discipline from a recognized university or institute. age limit as on july   minimum  yearsmaximum  years feesapplication fees rs   examination fees rs  no examination fees for the candidates belonging to the reserved categories like sc st bc ph  exservicemen etc. appsc is conducting this recruitment drive to fill in  vacancies in group  category. group  posts includes asst. commercial tax officer in a.p. commercial taxes subordinate service deputy tahsildar in a.p. revenue subordinate service senior auditor in a.p. state audit subordinate service municipal commissioner gradeiii in a.p. municipal commissioner subordinate service etc. '"
      ]
     },
     "execution_count": 14,
     "metadata": {},
     "output_type": "execute_result"
    }
   ],
   "source": [
    "df[\"text\"].iloc[0]"
   ]
  },
  {
   "cell_type": "code",
   "execution_count": 15,
   "id": "1cc15812",
   "metadata": {},
   "outputs": [
    {
     "data": {
      "text/plain": [
       "'pune two weeks after the new academic year has begun over  seats reserved for students from the economically backward sections in private unaided schools under the right to education rte act remain vacant in pune and mumbai schools. a study by the rte resource centre established at the indian institute of management iim ahmedabad says not a single school in mumbai has filled up all its vacancies while in pune only  schools have  admissions for the  reserved quota. the study also reveals that  schools in pune and mumbai have failed to admit a single student under the act at the standard i entry level. the analysis reveals that only  seats have been filled in standard i and  in preprimary at the end of first round of rte admissions in mumbai during the  academic year. while pune received more applications than vacancies for admission in preprimary classes nearly twothirds of the seats remain vacant at the end of the first round of the admission process in the city. even in standard i only  of seats have been filled in pune. the study revealed that there were two reasons for the low admissions  imbalance in the seat allotment with several students getting multiple allotments while some were allotted just one school that resulted in the disappointing turnout. the second factor was  of the children who were allocated admissions in one or more schools could not secure final admission.nishank varshney research associate at the centre told toi from our observation the primary reason was that many parents were sent back from schools which used means like demanding fees delaying the dates of admissions or even refusing to admit children outright in some cases. varshney added that the reason for poor admission cannot be attributed to low applications as full allocations have been allocated in  schools in standard i and  schools in preprimary section in pune. rajendra singh spokesperson of the maharashtra english school trustees association said the sudden drop in the number of admissions this year is due to a complete failure of the government to implement the act in the state and also failing to reimburse the fees of admitted students. in the first year close to  students took admission while in the following year about  students in the state took admission under rte. the third year of the implementation of the act also saw about  admissions in the state. however for all these admissions conducted by the schools there has been no reimbursement of fees by the government. hence many schools have been reluctant this year to conduct admissions he added. maitreyee shankar of kagad kach patra kashtakari panchayat kkpkp said they had received complaints from parents regarding some schools not granting admission in standard i and some refusing to admit students in the preprimary. the panchayat helps its members secure admissions under the rte for their children in various schools in pune. matin mujawar'"
      ]
     },
     "execution_count": 15,
     "metadata": {},
     "output_type": "execute_result"
    }
   ],
   "source": [
    "df[\"text\"].iloc[1]"
   ]
  },
  {
   "cell_type": "code",
   "execution_count": 16,
   "id": "4d8b5c6d",
   "metadata": {},
   "outputs": [
    {
     "data": {
      "text/plain": [
       "'admission into the iims said kapoor. across  iims  seats have been added for admissions this year a total of  seats. the number of women appearing for cat has been steadily increasing as well  from  in  to  in . for  more than  women appeared for the cat. additionally female aspirants are achieving better success on the cat with  women scoring higher than the  percentile on cat . fraudulent universities even conducted admission melas in the city about two years ago and admitted genuine students from the state who faced deportation following the state department crackdown said a source.'"
      ]
     },
     "execution_count": 16,
     "metadata": {},
     "output_type": "execute_result"
    }
   ],
   "source": [
    "df[\"text\"].iloc[3]"
   ]
  },
  {
   "cell_type": "code",
   "execution_count": 18,
   "id": "2b98b60a",
   "metadata": {},
   "outputs": [],
   "source": [
    "df.to_csv(\"text_preprocessed_df.csv\")"
   ]
  },
  {
   "cell_type": "code",
   "execution_count": 5,
   "id": "7324610b",
   "metadata": {},
   "outputs": [
    {
     "data": {
      "text/html": [
       "<div>\n",
       "<style scoped>\n",
       "    .dataframe tbody tr th:only-of-type {\n",
       "        vertical-align: middle;\n",
       "    }\n",
       "\n",
       "    .dataframe tbody tr th {\n",
       "        vertical-align: top;\n",
       "    }\n",
       "\n",
       "    .dataframe thead th {\n",
       "        text-align: right;\n",
       "    }\n",
       "</style>\n",
       "<table border=\"1\" class=\"dataframe\">\n",
       "  <thead>\n",
       "    <tr style=\"text-align: right;\">\n",
       "      <th></th>\n",
       "      <th>Unnamed: 0</th>\n",
       "      <th>text</th>\n",
       "      <th>target</th>\n",
       "      <th>Word Count</th>\n",
       "    </tr>\n",
       "  </thead>\n",
       "  <tbody>\n",
       "    <tr>\n",
       "      <th>0</th>\n",
       "      <td>0</td>\n",
       "      <td>new delhi the andhra pradesh public service co...</td>\n",
       "      <td>academic interests</td>\n",
       "      <td>239</td>\n",
       "    </tr>\n",
       "    <tr>\n",
       "      <th>1</th>\n",
       "      <td>1</td>\n",
       "      <td>pune two weeks after the new academic year has...</td>\n",
       "      <td>academic interests</td>\n",
       "      <td>500</td>\n",
       "    </tr>\n",
       "    <tr>\n",
       "      <th>2</th>\n",
       "      <td>2</td>\n",
       "      <td>guwahati the results of the cbse class x exams...</td>\n",
       "      <td>academic interests</td>\n",
       "      <td>470</td>\n",
       "    </tr>\n",
       "    <tr>\n",
       "      <th>3</th>\n",
       "      <td>3</td>\n",
       "      <td>admission into the iims said kapoor. across  i...</td>\n",
       "      <td>academic interests</td>\n",
       "      <td>108</td>\n",
       "    </tr>\n",
       "    <tr>\n",
       "      <th>4</th>\n",
       "      <td>4</td>\n",
       "      <td>mangaluru the mangalore institute of technolog...</td>\n",
       "      <td>academic interests</td>\n",
       "      <td>336</td>\n",
       "    </tr>\n",
       "    <tr>\n",
       "      <th>...</th>\n",
       "      <td>...</td>\n",
       "      <td>...</td>\n",
       "      <td>...</td>\n",
       "      <td>...</td>\n",
       "    </tr>\n",
       "    <tr>\n",
       "      <th>519995</th>\n",
       "      <td>519995</td>\n",
       "      <td>nagpur akshay zadgaonkar is a child prodigy. h...</td>\n",
       "      <td>video gaming</td>\n",
       "      <td>500</td>\n",
       "    </tr>\n",
       "    <tr>\n",
       "      <th>519996</th>\n",
       "      <td>519996</td>\n",
       "      <td>bayonetta lead hideki kamiya reckons the late...</td>\n",
       "      <td>video gaming</td>\n",
       "      <td>290</td>\n",
       "    </tr>\n",
       "    <tr>\n",
       "      <th>519997</th>\n",
       "      <td>519997</td>\n",
       "      <td>al pacino thinks the original godfather is be...</td>\n",
       "      <td>video gaming</td>\n",
       "      <td>259</td>\n",
       "    </tr>\n",
       "    <tr>\n",
       "      <th>519998</th>\n",
       "      <td>519998</td>\n",
       "      <td>the latest episode of imlie begins with aryan ...</td>\n",
       "      <td>video gaming</td>\n",
       "      <td>251</td>\n",
       "    </tr>\n",
       "    <tr>\n",
       "      <th>519999</th>\n",
       "      <td>519999</td>\n",
       "      <td>while the entire world is under lockdown in va...</td>\n",
       "      <td>video gaming</td>\n",
       "      <td>238</td>\n",
       "    </tr>\n",
       "  </tbody>\n",
       "</table>\n",
       "<p>520000 rows × 4 columns</p>\n",
       "</div>"
      ],
      "text/plain": [
       "        Unnamed: 0                                               text  \\\n",
       "0                0  new delhi the andhra pradesh public service co...   \n",
       "1                1  pune two weeks after the new academic year has...   \n",
       "2                2  guwahati the results of the cbse class x exams...   \n",
       "3                3  admission into the iims said kapoor. across  i...   \n",
       "4                4  mangaluru the mangalore institute of technolog...   \n",
       "...            ...                                                ...   \n",
       "519995      519995  nagpur akshay zadgaonkar is a child prodigy. h...   \n",
       "519996      519996   bayonetta lead hideki kamiya reckons the late...   \n",
       "519997      519997   al pacino thinks the original godfather is be...   \n",
       "519998      519998  the latest episode of imlie begins with aryan ...   \n",
       "519999      519999  while the entire world is under lockdown in va...   \n",
       "\n",
       "                    target  Word Count  \n",
       "0       academic interests         239  \n",
       "1       academic interests         500  \n",
       "2       academic interests         470  \n",
       "3       academic interests         108  \n",
       "4       academic interests         336  \n",
       "...                    ...         ...  \n",
       "519995        video gaming         500  \n",
       "519996        video gaming         290  \n",
       "519997        video gaming         259  \n",
       "519998        video gaming         251  \n",
       "519999        video gaming         238  \n",
       "\n",
       "[520000 rows x 4 columns]"
      ]
     },
     "execution_count": 5,
     "metadata": {},
     "output_type": "execute_result"
    }
   ],
   "source": [
    "import pandas as pd\n",
    "df=pd.read_csv(\"text_preprocessed_df.csv\")\n",
    "df"
   ]
  },
  {
   "cell_type": "markdown",
   "id": "029f3811",
   "metadata": {},
   "source": [
    "# 26 IAB Categories "
   ]
  },
  {
   "cell_type": "code",
   "execution_count": 17,
   "id": "74a242da",
   "metadata": {},
   "outputs": [
    {
     "data": {
      "text/plain": [
       "array(['academic interests', 'arts and culture', 'automotives',\n",
       "       'books and literature', 'business and finance', 'careers',\n",
       "       'family and relationships', 'food and drinks', 'health',\n",
       "       'healthy living', 'hobbies and interests', 'home and garden',\n",
       "       'movies', 'music and audio', 'news and politics',\n",
       "       'personal finance', 'pets',\n",
       "       'pharmaceuticals, conditions, and symptoms', 'real estate',\n",
       "       'shopping', 'sports', 'style and fashion',\n",
       "       'technology and computing', 'television', 'travel', 'video gaming'],\n",
       "      dtype=object)"
      ]
     },
     "execution_count": 17,
     "metadata": {},
     "output_type": "execute_result"
    }
   ],
   "source": [
    "categories=df.target.unique()\n",
    "categories"
   ]
  },
  {
   "cell_type": "markdown",
   "id": "cf7fb7a7",
   "metadata": {},
   "source": [
    "# 10  Sample from each Categories"
   ]
  },
  {
   "cell_type": "code",
   "execution_count": 18,
   "id": "97288163",
   "metadata": {},
   "outputs": [
    {
     "data": {
      "text/html": [
       "<div>\n",
       "<style scoped>\n",
       "    .dataframe tbody tr th:only-of-type {\n",
       "        vertical-align: middle;\n",
       "    }\n",
       "\n",
       "    .dataframe tbody tr th {\n",
       "        vertical-align: top;\n",
       "    }\n",
       "\n",
       "    .dataframe thead th {\n",
       "        text-align: right;\n",
       "    }\n",
       "</style>\n",
       "<table border=\"1\" class=\"dataframe\">\n",
       "  <thead>\n",
       "    <tr style=\"text-align: right;\">\n",
       "      <th></th>\n",
       "      <th>text</th>\n",
       "      <th>target</th>\n",
       "      <th>Word Count</th>\n",
       "    </tr>\n",
       "  </thead>\n",
       "  <tbody>\n",
       "    <tr>\n",
       "      <th>0</th>\n",
       "      <td>guwahati covid has compelled the national test...</td>\n",
       "      <td>academic interests</td>\n",
       "      <td>500.0</td>\n",
       "    </tr>\n",
       "    <tr>\n",
       "      <th>1</th>\n",
       "      <td>mathematics is an essential part of our everyd...</td>\n",
       "      <td>academic interests</td>\n",
       "      <td>500.0</td>\n",
       "    </tr>\n",
       "    <tr>\n",
       "      <th>2</th>\n",
       "      <td>the indian institute of foreign trade iift rec...</td>\n",
       "      <td>academic interests</td>\n",
       "      <td>308.0</td>\n",
       "    </tr>\n",
       "    <tr>\n",
       "      <th>3</th>\n",
       "      <td>tamil nadu common entrance test tancet  admit ...</td>\n",
       "      <td>academic interests</td>\n",
       "      <td>246.0</td>\n",
       "    </tr>\n",
       "    <tr>\n",
       "      <th>4</th>\n",
       "      <td>to their consumer base. the lockdown has broug...</td>\n",
       "      <td>academic interests</td>\n",
       "      <td>320.0</td>\n",
       "    </tr>\n",
       "    <tr>\n",
       "      <th>...</th>\n",
       "      <td>...</td>\n",
       "      <td>...</td>\n",
       "      <td>...</td>\n",
       "    </tr>\n",
       "    <tr>\n",
       "      <th>255</th>\n",
       "      <td>the lord of the rings gollum has finally gott...</td>\n",
       "      <td>video gaming</td>\n",
       "      <td>364.0</td>\n",
       "    </tr>\n",
       "    <tr>\n",
       "      <th>256</th>\n",
       "      <td>unrequited love a friendship going awry or a m...</td>\n",
       "      <td>video gaming</td>\n",
       "      <td>233.0</td>\n",
       "    </tr>\n",
       "    <tr>\n",
       "      <th>257</th>\n",
       "      <td>there havent been any public updates on the d...</td>\n",
       "      <td>video gaming</td>\n",
       "      <td>341.0</td>\n",
       "    </tr>\n",
       "    <tr>\n",
       "      <th>258</th>\n",
       "      <td>star wars jedi survivor introduces plenty of ...</td>\n",
       "      <td>video gaming</td>\n",
       "      <td>474.0</td>\n",
       "    </tr>\n",
       "    <tr>\n",
       "      <th>259</th>\n",
       "      <td>the witcher season  may be getting a twopart ...</td>\n",
       "      <td>video gaming</td>\n",
       "      <td>263.0</td>\n",
       "    </tr>\n",
       "  </tbody>\n",
       "</table>\n",
       "<p>260 rows × 3 columns</p>\n",
       "</div>"
      ],
      "text/plain": [
       "                                                  text              target  \\\n",
       "0    guwahati covid has compelled the national test...  academic interests   \n",
       "1    mathematics is an essential part of our everyd...  academic interests   \n",
       "2    the indian institute of foreign trade iift rec...  academic interests   \n",
       "3    tamil nadu common entrance test tancet  admit ...  academic interests   \n",
       "4    to their consumer base. the lockdown has broug...  academic interests   \n",
       "..                                                 ...                 ...   \n",
       "255   the lord of the rings gollum has finally gott...        video gaming   \n",
       "256  unrequited love a friendship going awry or a m...        video gaming   \n",
       "257   there havent been any public updates on the d...        video gaming   \n",
       "258   star wars jedi survivor introduces plenty of ...        video gaming   \n",
       "259   the witcher season  may be getting a twopart ...        video gaming   \n",
       "\n",
       "     Word Count  \n",
       "0         500.0  \n",
       "1         500.0  \n",
       "2         308.0  \n",
       "3         246.0  \n",
       "4         320.0  \n",
       "..          ...  \n",
       "255       364.0  \n",
       "256       233.0  \n",
       "257       341.0  \n",
       "258       474.0  \n",
       "259       263.0  \n",
       "\n",
       "[260 rows x 3 columns]"
      ]
     },
     "execution_count": 18,
     "metadata": {},
     "output_type": "execute_result"
    }
   ],
   "source": [
    "sample_df = pd.DataFrame(columns=['text', 'target'])\n",
    "for category in categories:\n",
    "    category_samples = df[df['target'] == category].sample(10)\n",
    "    sample_df = pd.concat([sample_df, category_samples])\n",
    "\n",
    "sample_df.reset_index(drop=True, inplace=True)\n",
    "sample_df"
   ]
  },
  {
   "cell_type": "markdown",
   "id": "194b3723",
   "metadata": {},
   "source": [
    "#  Generating word embeddings using DistilBert Model"
   ]
  },
  {
   "cell_type": "code",
   "execution_count": 19,
   "id": "e3056e5d",
   "metadata": {},
   "outputs": [
    {
     "name": "stderr",
     "output_type": "stream",
     "text": [
      "Some weights of the model checkpoint at distilbert-base-uncased were not used when initializing DistilBertModel: ['vocab_layer_norm.bias', 'vocab_projector.weight', 'vocab_transform.bias', 'vocab_layer_norm.weight', 'vocab_transform.weight', 'vocab_projector.bias']\n",
      "- This IS expected if you are initializing DistilBertModel from the checkpoint of a model trained on another task or with another architecture (e.g. initializing a BertForSequenceClassification model from a BertForPreTraining model).\n",
      "- This IS NOT expected if you are initializing DistilBertModel from the checkpoint of a model that you expect to be exactly identical (initializing a BertForSequenceClassification model from a BertForSequenceClassification model).\n"
     ]
    },
    {
     "data": {
      "text/html": [
       "<div>\n",
       "<style scoped>\n",
       "    .dataframe tbody tr th:only-of-type {\n",
       "        vertical-align: middle;\n",
       "    }\n",
       "\n",
       "    .dataframe tbody tr th {\n",
       "        vertical-align: top;\n",
       "    }\n",
       "\n",
       "    .dataframe thead th {\n",
       "        text-align: right;\n",
       "    }\n",
       "</style>\n",
       "<table border=\"1\" class=\"dataframe\">\n",
       "  <thead>\n",
       "    <tr style=\"text-align: right;\">\n",
       "      <th></th>\n",
       "      <th>text</th>\n",
       "      <th>target</th>\n",
       "      <th>Word Count</th>\n",
       "      <th>embeddings</th>\n",
       "    </tr>\n",
       "  </thead>\n",
       "  <tbody>\n",
       "    <tr>\n",
       "      <th>0</th>\n",
       "      <td>guwahati covid has compelled the national test...</td>\n",
       "      <td>academic interests</td>\n",
       "      <td>500.0</td>\n",
       "      <td>[[[tensor(-0.0325, grad_fn=&lt;UnbindBackward0&gt;),...</td>\n",
       "    </tr>\n",
       "    <tr>\n",
       "      <th>1</th>\n",
       "      <td>mathematics is an essential part of our everyd...</td>\n",
       "      <td>academic interests</td>\n",
       "      <td>500.0</td>\n",
       "      <td>[[[tensor(-0.1660, grad_fn=&lt;UnbindBackward0&gt;),...</td>\n",
       "    </tr>\n",
       "    <tr>\n",
       "      <th>2</th>\n",
       "      <td>the indian institute of foreign trade iift rec...</td>\n",
       "      <td>academic interests</td>\n",
       "      <td>308.0</td>\n",
       "      <td>[[[tensor(-0.1927, grad_fn=&lt;UnbindBackward0&gt;),...</td>\n",
       "    </tr>\n",
       "    <tr>\n",
       "      <th>3</th>\n",
       "      <td>tamil nadu common entrance test tancet  admit ...</td>\n",
       "      <td>academic interests</td>\n",
       "      <td>246.0</td>\n",
       "      <td>[[[tensor(-0.1798, grad_fn=&lt;UnbindBackward0&gt;),...</td>\n",
       "    </tr>\n",
       "    <tr>\n",
       "      <th>4</th>\n",
       "      <td>to their consumer base. the lockdown has broug...</td>\n",
       "      <td>academic interests</td>\n",
       "      <td>320.0</td>\n",
       "      <td>[[[tensor(0.0231, grad_fn=&lt;UnbindBackward0&gt;), ...</td>\n",
       "    </tr>\n",
       "    <tr>\n",
       "      <th>...</th>\n",
       "      <td>...</td>\n",
       "      <td>...</td>\n",
       "      <td>...</td>\n",
       "      <td>...</td>\n",
       "    </tr>\n",
       "    <tr>\n",
       "      <th>255</th>\n",
       "      <td>the lord of the rings gollum has finally gott...</td>\n",
       "      <td>video gaming</td>\n",
       "      <td>364.0</td>\n",
       "      <td>[[[tensor(-0.2078, grad_fn=&lt;UnbindBackward0&gt;),...</td>\n",
       "    </tr>\n",
       "    <tr>\n",
       "      <th>256</th>\n",
       "      <td>unrequited love a friendship going awry or a m...</td>\n",
       "      <td>video gaming</td>\n",
       "      <td>233.0</td>\n",
       "      <td>[[[tensor(-0.2623, grad_fn=&lt;UnbindBackward0&gt;),...</td>\n",
       "    </tr>\n",
       "    <tr>\n",
       "      <th>257</th>\n",
       "      <td>there havent been any public updates on the d...</td>\n",
       "      <td>video gaming</td>\n",
       "      <td>341.0</td>\n",
       "      <td>[[[tensor(-0.2989, grad_fn=&lt;UnbindBackward0&gt;),...</td>\n",
       "    </tr>\n",
       "    <tr>\n",
       "      <th>258</th>\n",
       "      <td>star wars jedi survivor introduces plenty of ...</td>\n",
       "      <td>video gaming</td>\n",
       "      <td>474.0</td>\n",
       "      <td>[[[tensor(-0.0432, grad_fn=&lt;UnbindBackward0&gt;),...</td>\n",
       "    </tr>\n",
       "    <tr>\n",
       "      <th>259</th>\n",
       "      <td>the witcher season  may be getting a twopart ...</td>\n",
       "      <td>video gaming</td>\n",
       "      <td>263.0</td>\n",
       "      <td>[[[tensor(0.1465, grad_fn=&lt;UnbindBackward0&gt;), ...</td>\n",
       "    </tr>\n",
       "  </tbody>\n",
       "</table>\n",
       "<p>260 rows × 4 columns</p>\n",
       "</div>"
      ],
      "text/plain": [
       "                                                  text              target  \\\n",
       "0    guwahati covid has compelled the national test...  academic interests   \n",
       "1    mathematics is an essential part of our everyd...  academic interests   \n",
       "2    the indian institute of foreign trade iift rec...  academic interests   \n",
       "3    tamil nadu common entrance test tancet  admit ...  academic interests   \n",
       "4    to their consumer base. the lockdown has broug...  academic interests   \n",
       "..                                                 ...                 ...   \n",
       "255   the lord of the rings gollum has finally gott...        video gaming   \n",
       "256  unrequited love a friendship going awry or a m...        video gaming   \n",
       "257   there havent been any public updates on the d...        video gaming   \n",
       "258   star wars jedi survivor introduces plenty of ...        video gaming   \n",
       "259   the witcher season  may be getting a twopart ...        video gaming   \n",
       "\n",
       "     Word Count                                         embeddings  \n",
       "0         500.0  [[[tensor(-0.0325, grad_fn=<UnbindBackward0>),...  \n",
       "1         500.0  [[[tensor(-0.1660, grad_fn=<UnbindBackward0>),...  \n",
       "2         308.0  [[[tensor(-0.1927, grad_fn=<UnbindBackward0>),...  \n",
       "3         246.0  [[[tensor(-0.1798, grad_fn=<UnbindBackward0>),...  \n",
       "4         320.0  [[[tensor(0.0231, grad_fn=<UnbindBackward0>), ...  \n",
       "..          ...                                                ...  \n",
       "255       364.0  [[[tensor(-0.2078, grad_fn=<UnbindBackward0>),...  \n",
       "256       233.0  [[[tensor(-0.2623, grad_fn=<UnbindBackward0>),...  \n",
       "257       341.0  [[[tensor(-0.2989, grad_fn=<UnbindBackward0>),...  \n",
       "258       474.0  [[[tensor(-0.0432, grad_fn=<UnbindBackward0>),...  \n",
       "259       263.0  [[[tensor(0.1465, grad_fn=<UnbindBackward0>), ...  \n",
       "\n",
       "[260 rows x 4 columns]"
      ]
     },
     "execution_count": 19,
     "metadata": {},
     "output_type": "execute_result"
    }
   ],
   "source": [
    "from transformers import DistilBertTokenizer, DistilBertModel\n",
    "import pandas as pd\n",
    "import torch\n",
    "\n",
    "# Load the pretrained DistilBERT model and tokenizer\n",
    "model_name = \"distilbert-base-uncased\"\n",
    "tokenizer = DistilBertTokenizer.from_pretrained(model_name)\n",
    "model = DistilBertModel.from_pretrained(model_name)\n",
    "\n",
    "def generate_embeddings(text):\n",
    "    # Tokenize and encode the text\n",
    "    inputs = tokenizer(text, return_tensors=\"pt\", padding=True, truncation=True,max_length=512)\n",
    "    \n",
    "    # Pass the input through the model\n",
    "    outputs = model(**inputs)\n",
    "    \n",
    "    # Extract embeddings from the hidden states (outputs[0])\n",
    "    embeddings = outputs[0]\n",
    "    \n",
    "    return embeddings\n",
    "\n",
    "\n",
    "\n",
    "# Apply the generate_embeddings function to the 'text' of the DataFrame\n",
    "sample_df[\"embeddings\"] =sample_df[\"text\"].apply(generate_embeddings)\n",
    "sample_df"
   ]
  },
  {
   "cell_type": "code",
   "execution_count": 20,
   "id": "59546640",
   "metadata": {},
   "outputs": [
    {
     "data": {
      "text/plain": [
       "torch.Size([1, 512, 768])"
      ]
     },
     "execution_count": 20,
     "metadata": {},
     "output_type": "execute_result"
    }
   ],
   "source": [
    "sample_df[\"embeddings\"].iloc[0].shape"
   ]
  },
  {
   "cell_type": "code",
   "execution_count": 21,
   "id": "e8a02541",
   "metadata": {},
   "outputs": [],
   "source": [
    "def convert(inp):\n",
    "    inp=np.array(torch.detach(inp[0]))\n",
    "    return inp  "
   ]
  },
  {
   "cell_type": "code",
   "execution_count": 22,
   "id": "4d21810b",
   "metadata": {},
   "outputs": [],
   "source": [
    "import torch\n",
    "X=sample_df[\"embeddings\"].apply(convert)\n"
   ]
  },
  {
   "cell_type": "code",
   "execution_count": 23,
   "id": "21b0b5ad",
   "metadata": {},
   "outputs": [],
   "source": [
    "x=X.values"
   ]
  },
  {
   "cell_type": "code",
   "execution_count": 28,
   "id": "1182b2c5",
   "metadata": {},
   "outputs": [
    {
     "data": {
      "text/plain": [
       "(260,)"
      ]
     },
     "execution_count": 28,
     "metadata": {},
     "output_type": "execute_result"
    }
   ],
   "source": [
    "x.shape"
   ]
  },
  {
   "cell_type": "code",
   "execution_count": 29,
   "id": "03935719",
   "metadata": {},
   "outputs": [
    {
     "data": {
      "text/plain": [
       "(512, 768)"
      ]
     },
     "execution_count": 29,
     "metadata": {},
     "output_type": "execute_result"
    }
   ],
   "source": [
    "x[0].shape"
   ]
  },
  {
   "cell_type": "code",
   "execution_count": 30,
   "id": "41828b90",
   "metadata": {},
   "outputs": [
    {
     "data": {
      "text/plain": [
       "(379, 768)"
      ]
     },
     "execution_count": 30,
     "metadata": {},
     "output_type": "execute_result"
    }
   ],
   "source": [
    "x[4].shape"
   ]
  },
  {
   "cell_type": "markdown",
   "id": "98d6c812",
   "metadata": {},
   "source": [
    "# Padding x to fixed dimension"
   ]
  },
  {
   "cell_type": "code",
   "execution_count": 31,
   "id": "b7bebf53",
   "metadata": {},
   "outputs": [],
   "source": [
    "import numpy as np\n",
    "\n",
    "# Assuming you have a 2D NumPy array X where each row is a sequence\n",
    "\n",
    "# Calculate the maximum sequence length\n",
    "max_length = max(len(seq) for seq in x)\n",
    "\n",
    "# Create a new array for padded sequences\n",
    "padded_x = []\n",
    "\n",
    "# Perform zero-padding for each sequence in X\n",
    "for seq in x:\n",
    "    # Calculate the length of the current sequence\n",
    "    seq_len = len(seq)\n",
    "    \n",
    "    # Calculate the amount of padding needed\n",
    "    padding_len = max_length - seq_len\n",
    "    \n",
    "    # Pad the sequence with zeros using np.pad along the second axis (axis=1)\n",
    "    padded_seq = np.pad(seq, [(padding_len, 0), (0, 0)], constant_values=0.0)\n",
    "    \n",
    "    # Append the padded sequence to the list\n",
    "    padded_x.append(padded_seq)\n",
    "\n",
    "# Convert the list of padded sequences to a 2D NumPy array\n",
    "padded_x = np.array(padded_x, dtype=np.float32)\n"
   ]
  },
  {
   "cell_type": "code",
   "execution_count": 32,
   "id": "b50d2ed4",
   "metadata": {},
   "outputs": [
    {
     "data": {
      "text/plain": [
       "(512, 768)"
      ]
     },
     "execution_count": 32,
     "metadata": {},
     "output_type": "execute_result"
    }
   ],
   "source": [
    "padded_x[0].shape"
   ]
  },
  {
   "cell_type": "code",
   "execution_count": 33,
   "id": "bd18136e",
   "metadata": {},
   "outputs": [
    {
     "data": {
      "text/plain": [
       "(512, 768)"
      ]
     },
     "execution_count": 33,
     "metadata": {},
     "output_type": "execute_result"
    }
   ],
   "source": [
    "padded_x[4].shape"
   ]
  },
  {
   "cell_type": "code",
   "execution_count": 34,
   "id": "81f6e5b5",
   "metadata": {},
   "outputs": [
    {
     "data": {
      "text/plain": [
       "array(['academic interests', 'academic interests', 'academic interests',\n",
       "       'academic interests', 'academic interests', 'academic interests',\n",
       "       'academic interests', 'academic interests', 'academic interests',\n",
       "       'academic interests', 'arts and culture', 'arts and culture',\n",
       "       'arts and culture', 'arts and culture', 'arts and culture',\n",
       "       'arts and culture', 'arts and culture', 'arts and culture',\n",
       "       'arts and culture', 'arts and culture', 'automotives',\n",
       "       'automotives', 'automotives', 'automotives', 'automotives',\n",
       "       'automotives', 'automotives', 'automotives', 'automotives',\n",
       "       'automotives', 'books and literature', 'books and literature',\n",
       "       'books and literature', 'books and literature',\n",
       "       'books and literature', 'books and literature',\n",
       "       'books and literature', 'books and literature',\n",
       "       'books and literature', 'books and literature',\n",
       "       'business and finance', 'business and finance',\n",
       "       'business and finance', 'business and finance',\n",
       "       'business and finance', 'business and finance',\n",
       "       'business and finance', 'business and finance',\n",
       "       'business and finance', 'business and finance', 'careers',\n",
       "       'careers', 'careers', 'careers', 'careers', 'careers', 'careers',\n",
       "       'careers', 'careers', 'careers', 'family and relationships',\n",
       "       'family and relationships', 'family and relationships',\n",
       "       'family and relationships', 'family and relationships',\n",
       "       'family and relationships', 'family and relationships',\n",
       "       'family and relationships', 'family and relationships',\n",
       "       'family and relationships', 'food and drinks', 'food and drinks',\n",
       "       'food and drinks', 'food and drinks', 'food and drinks',\n",
       "       'food and drinks', 'food and drinks', 'food and drinks',\n",
       "       'food and drinks', 'food and drinks', 'health', 'health', 'health',\n",
       "       'health', 'health', 'health', 'health', 'health', 'health',\n",
       "       'health', 'healthy living', 'healthy living', 'healthy living',\n",
       "       'healthy living', 'healthy living', 'healthy living',\n",
       "       'healthy living', 'healthy living', 'healthy living',\n",
       "       'healthy living', 'hobbies and interests', 'hobbies and interests',\n",
       "       'hobbies and interests', 'hobbies and interests',\n",
       "       'hobbies and interests', 'hobbies and interests',\n",
       "       'hobbies and interests', 'hobbies and interests',\n",
       "       'hobbies and interests', 'hobbies and interests',\n",
       "       'home and garden', 'home and garden', 'home and garden',\n",
       "       'home and garden', 'home and garden', 'home and garden',\n",
       "       'home and garden', 'home and garden', 'home and garden',\n",
       "       'home and garden', 'movies', 'movies', 'movies', 'movies',\n",
       "       'movies', 'movies', 'movies', 'movies', 'movies', 'movies',\n",
       "       'music and audio', 'music and audio', 'music and audio',\n",
       "       'music and audio', 'music and audio', 'music and audio',\n",
       "       'music and audio', 'music and audio', 'music and audio',\n",
       "       'music and audio', 'news and politics', 'news and politics',\n",
       "       'news and politics', 'news and politics', 'news and politics',\n",
       "       'news and politics', 'news and politics', 'news and politics',\n",
       "       'news and politics', 'news and politics', 'personal finance',\n",
       "       'personal finance', 'personal finance', 'personal finance',\n",
       "       'personal finance', 'personal finance', 'personal finance',\n",
       "       'personal finance', 'personal finance', 'personal finance', 'pets',\n",
       "       'pets', 'pets', 'pets', 'pets', 'pets', 'pets', 'pets', 'pets',\n",
       "       'pets', 'pharmaceuticals, conditions, and symptoms',\n",
       "       'pharmaceuticals, conditions, and symptoms',\n",
       "       'pharmaceuticals, conditions, and symptoms',\n",
       "       'pharmaceuticals, conditions, and symptoms',\n",
       "       'pharmaceuticals, conditions, and symptoms',\n",
       "       'pharmaceuticals, conditions, and symptoms',\n",
       "       'pharmaceuticals, conditions, and symptoms',\n",
       "       'pharmaceuticals, conditions, and symptoms',\n",
       "       'pharmaceuticals, conditions, and symptoms',\n",
       "       'pharmaceuticals, conditions, and symptoms', 'real estate',\n",
       "       'real estate', 'real estate', 'real estate', 'real estate',\n",
       "       'real estate', 'real estate', 'real estate', 'real estate',\n",
       "       'real estate', 'shopping', 'shopping', 'shopping', 'shopping',\n",
       "       'shopping', 'shopping', 'shopping', 'shopping', 'shopping',\n",
       "       'shopping', 'sports', 'sports', 'sports', 'sports', 'sports',\n",
       "       'sports', 'sports', 'sports', 'sports', 'sports',\n",
       "       'style and fashion', 'style and fashion', 'style and fashion',\n",
       "       'style and fashion', 'style and fashion', 'style and fashion',\n",
       "       'style and fashion', 'style and fashion', 'style and fashion',\n",
       "       'style and fashion', 'technology and computing',\n",
       "       'technology and computing', 'technology and computing',\n",
       "       'technology and computing', 'technology and computing',\n",
       "       'technology and computing', 'technology and computing',\n",
       "       'technology and computing', 'technology and computing',\n",
       "       'technology and computing', 'television', 'television',\n",
       "       'television', 'television', 'television', 'television',\n",
       "       'television', 'television', 'television', 'television', 'travel',\n",
       "       'travel', 'travel', 'travel', 'travel', 'travel', 'travel',\n",
       "       'travel', 'travel', 'travel', 'video gaming', 'video gaming',\n",
       "       'video gaming', 'video gaming', 'video gaming', 'video gaming',\n",
       "       'video gaming', 'video gaming', 'video gaming', 'video gaming'],\n",
       "      dtype=object)"
      ]
     },
     "execution_count": 34,
     "metadata": {},
     "output_type": "execute_result"
    }
   ],
   "source": [
    "y=sample_df[\"target\"].values\n",
    "y"
   ]
  },
  {
   "cell_type": "code",
   "execution_count": 35,
   "id": "15dc3edd",
   "metadata": {},
   "outputs": [
    {
     "data": {
      "text/plain": [
       "<260x26 sparse matrix of type '<class 'numpy.float64'>'\n",
       "\twith 260 stored elements in Compressed Sparse Row format>"
      ]
     },
     "execution_count": 35,
     "metadata": {},
     "output_type": "execute_result"
    }
   ],
   "source": [
    "from sklearn.preprocessing import OneHotEncoder\n",
    "label=OneHotEncoder()\n",
    "y=label.fit_transform(sample_df[[\"target\"]])\n",
    "y"
   ]
  },
  {
   "cell_type": "code",
   "execution_count": 36,
   "id": "866d3d22",
   "metadata": {},
   "outputs": [
    {
     "data": {
      "text/plain": [
       "array([[1., 0., 0., ..., 0., 0., 0.],\n",
       "       [1., 0., 0., ..., 0., 0., 0.],\n",
       "       [1., 0., 0., ..., 0., 0., 0.],\n",
       "       ...,\n",
       "       [0., 0., 0., ..., 0., 0., 1.],\n",
       "       [0., 0., 0., ..., 0., 0., 1.],\n",
       "       [0., 0., 0., ..., 0., 0., 1.]])"
      ]
     },
     "execution_count": 36,
     "metadata": {},
     "output_type": "execute_result"
    }
   ],
   "source": [
    "y=y.toarray()\n",
    "y"
   ]
  },
  {
   "cell_type": "code",
   "execution_count": 37,
   "id": "fda88aa8",
   "metadata": {},
   "outputs": [],
   "source": [
    "from sklearn.model_selection import train_test_split\n",
    "# Train-test split\n",
    "X_train, X_test, y_train, y_test = train_test_split(padded_x, y, test_size=0.2, random_state=42)"
   ]
  },
  {
   "cell_type": "markdown",
   "id": "172c2a17",
   "metadata": {},
   "source": [
    "# LSTM"
   ]
  },
  {
   "cell_type": "code",
   "execution_count": 38,
   "id": "e99f02dd",
   "metadata": {},
   "outputs": [
    {
     "name": "stderr",
     "output_type": "stream",
     "text": [
      "2023-09-13 07:45:52.393040: I tensorflow/core/platform/cpu_feature_guard.cc:193] This TensorFlow binary is optimized with oneAPI Deep Neural Network Library (oneDNN) to use the following CPU instructions in performance-critical operations:  AVX2 AVX512F AVX512_VNNI FMA\n",
      "To enable them in other operations, rebuild TensorFlow with the appropriate compiler flags.\n",
      "2023-09-13 07:45:55.156602: I tensorflow/core/util/port.cc:104] oneDNN custom operations are on. You may see slightly different numerical results due to floating-point round-off errors from different computation orders. To turn them off, set the environment variable `TF_ENABLE_ONEDNN_OPTS=0`.\n",
      "2023-09-13 07:46:06.129830: W tensorflow/compiler/xla/stream_executor/platform/default/dso_loader.cc:64] Could not load dynamic library 'libnvinfer.so.7'; dlerror: libnvinfer.so.7: cannot open shared object file: No such file or directory\n",
      "2023-09-13 07:46:06.130151: W tensorflow/compiler/xla/stream_executor/platform/default/dso_loader.cc:64] Could not load dynamic library 'libnvinfer_plugin.so.7'; dlerror: libnvinfer_plugin.so.7: cannot open shared object file: No such file or directory\n",
      "2023-09-13 07:46:06.130168: W tensorflow/compiler/tf2tensorrt/utils/py_utils.cc:38] TF-TRT Warning: Cannot dlopen some TensorRT libraries. If you would like to use Nvidia GPU with TensorRT, please make sure the missing libraries mentioned above are installed properly.\n",
      "2023-09-13 07:46:19.351736: E tensorflow/compiler/xla/stream_executor/cuda/cuda_driver.cc:267] failed call to cuInit: CUDA_ERROR_NO_DEVICE: no CUDA-capable device is detected\n",
      "2023-09-13 07:46:19.351816: I tensorflow/compiler/xla/stream_executor/cuda/cuda_diagnostics.cc:156] kernel driver does not appear to be running on this host (toi): /proc/driver/nvidia/version does not exist\n",
      "2023-09-13 07:46:19.361138: I tensorflow/core/platform/cpu_feature_guard.cc:193] This TensorFlow binary is optimized with oneAPI Deep Neural Network Library (oneDNN) to use the following CPU instructions in performance-critical operations:  AVX2 AVX512F AVX512_VNNI FMA\n",
      "To enable them in other operations, rebuild TensorFlow with the appropriate compiler flags.\n"
     ]
    }
   ],
   "source": [
    "import tensorflow as tf\n",
    "from tensorflow.keras.models import Sequential\n",
    "from tensorflow.keras.layers import LSTM, Dense,Dropout\n",
    "\n",
    "# Define your LSTM model\n",
    "model = Sequential([\n",
    "    LSTM(256, return_sequences=True, input_shape=(512,768)),\n",
    "    Dropout(0.4),\n",
    "    LSTM(128, return_sequences=False),\n",
    "    Dropout(0.4),\n",
    "    Dense(64, activation='relu'),\n",
    "    Dropout(0.4),\n",
    "    Dense(26, activation='softmax')\n",
    "])"
   ]
  },
  {
   "cell_type": "code",
   "execution_count": 39,
   "id": "661e3475",
   "metadata": {},
   "outputs": [
    {
     "name": "stdout",
     "output_type": "stream",
     "text": [
      "Epoch 1/100\n",
      "6/6 [==============================] - 18s 1s/step - loss: 3.3380 - accuracy: 0.0241 - val_loss: 3.2486 - val_accuracy: 0.0476\n",
      "Epoch 2/100\n",
      "6/6 [==============================] - 7s 1s/step - loss: 3.2237 - accuracy: 0.0783 - val_loss: 3.2952 - val_accuracy: 0.0238\n",
      "Epoch 3/100\n",
      "6/6 [==============================] - 7s 1s/step - loss: 3.2241 - accuracy: 0.1084 - val_loss: 3.2876 - val_accuracy: 0.0000e+00\n",
      "Epoch 4/100\n",
      "6/6 [==============================] - 6s 1s/step - loss: 3.1506 - accuracy: 0.1145 - val_loss: 3.3086 - val_accuracy: 0.0714\n",
      "Epoch 5/100\n",
      "6/6 [==============================] - 6s 1s/step - loss: 3.0702 - accuracy: 0.1325 - val_loss: 3.1657 - val_accuracy: 0.1190\n",
      "Epoch 6/100\n",
      "6/6 [==============================] - 6s 1s/step - loss: 2.9480 - accuracy: 0.1928 - val_loss: 3.2326 - val_accuracy: 0.0714\n",
      "Epoch 7/100\n",
      "6/6 [==============================] - 6s 1s/step - loss: 2.8160 - accuracy: 0.2349 - val_loss: 3.1545 - val_accuracy: 0.0714\n",
      "Epoch 8/100\n",
      "6/6 [==============================] - 6s 1s/step - loss: 2.7510 - accuracy: 0.1928 - val_loss: 3.1722 - val_accuracy: 0.0952\n",
      "Epoch 9/100\n",
      "6/6 [==============================] - 7s 1s/step - loss: 2.6599 - accuracy: 0.2470 - val_loss: 3.1191 - val_accuracy: 0.0952\n",
      "Epoch 10/100\n",
      "6/6 [==============================] - 7s 1s/step - loss: 2.5216 - accuracy: 0.2771 - val_loss: 3.1368 - val_accuracy: 0.1190\n",
      "Epoch 11/100\n",
      "6/6 [==============================] - 6s 1s/step - loss: 2.3487 - accuracy: 0.2952 - val_loss: 3.3173 - val_accuracy: 0.1667\n",
      "Epoch 12/100\n",
      "6/6 [==============================] - 7s 1s/step - loss: 2.2708 - accuracy: 0.3614 - val_loss: 3.5087 - val_accuracy: 0.0952\n",
      "Epoch 13/100\n",
      "6/6 [==============================] - 6s 1s/step - loss: 2.1669 - accuracy: 0.3795 - val_loss: 3.0982 - val_accuracy: 0.1667\n",
      "Epoch 14/100\n",
      "6/6 [==============================] - 7s 1s/step - loss: 1.9295 - accuracy: 0.4819 - val_loss: 3.4114 - val_accuracy: 0.0952\n",
      "Epoch 15/100\n",
      "6/6 [==============================] - 6s 1s/step - loss: 1.8619 - accuracy: 0.4458 - val_loss: 3.1187 - val_accuracy: 0.1190\n",
      "Epoch 16/100\n",
      "6/6 [==============================] - 6s 1s/step - loss: 1.7047 - accuracy: 0.5060 - val_loss: 3.1947 - val_accuracy: 0.1190\n",
      "Epoch 17/100\n",
      "6/6 [==============================] - 7s 1s/step - loss: 1.5588 - accuracy: 0.5843 - val_loss: 3.2046 - val_accuracy: 0.1905\n",
      "Epoch 18/100\n",
      "6/6 [==============================] - 7s 1s/step - loss: 1.7524 - accuracy: 0.5000 - val_loss: 3.3389 - val_accuracy: 0.1190\n",
      "Epoch 19/100\n",
      "6/6 [==============================] - 7s 1s/step - loss: 1.4790 - accuracy: 0.5663 - val_loss: 3.1446 - val_accuracy: 0.1190\n",
      "Epoch 20/100\n",
      "6/6 [==============================] - 7s 1s/step - loss: 1.3370 - accuracy: 0.6205 - val_loss: 3.3239 - val_accuracy: 0.0952\n",
      "Epoch 21/100\n",
      "6/6 [==============================] - 7s 1s/step - loss: 1.2152 - accuracy: 0.6747 - val_loss: 3.2023 - val_accuracy: 0.1905\n",
      "Epoch 22/100\n",
      "6/6 [==============================] - 6s 1s/step - loss: 1.0089 - accuracy: 0.7289 - val_loss: 3.5238 - val_accuracy: 0.1667\n",
      "Epoch 23/100\n",
      "6/6 [==============================] - 7s 1s/step - loss: 1.0774 - accuracy: 0.6867 - val_loss: 3.4129 - val_accuracy: 0.0952\n",
      "Epoch 24/100\n",
      "6/6 [==============================] - 7s 1s/step - loss: 0.8973 - accuracy: 0.7831 - val_loss: 3.6694 - val_accuracy: 0.0952\n",
      "Epoch 25/100\n",
      "6/6 [==============================] - 7s 1s/step - loss: 0.9087 - accuracy: 0.7530 - val_loss: 3.9486 - val_accuracy: 0.1667\n",
      "Epoch 26/100\n",
      "6/6 [==============================] - 7s 1s/step - loss: 0.6821 - accuracy: 0.8133 - val_loss: 3.6664 - val_accuracy: 0.1905\n",
      "Epoch 27/100\n",
      "6/6 [==============================] - 7s 1s/step - loss: 0.5652 - accuracy: 0.8855 - val_loss: 4.2295 - val_accuracy: 0.1190\n",
      "Epoch 28/100\n",
      "6/6 [==============================] - 6s 1s/step - loss: 0.5213 - accuracy: 0.8614 - val_loss: 3.9999 - val_accuracy: 0.1429\n",
      "Epoch 29/100\n",
      "6/6 [==============================] - 7s 1s/step - loss: 0.4561 - accuracy: 0.9036 - val_loss: 4.0670 - val_accuracy: 0.1905\n",
      "Epoch 30/100\n",
      "6/6 [==============================] - 7s 1s/step - loss: 0.3981 - accuracy: 0.9217 - val_loss: 4.0537 - val_accuracy: 0.1667\n",
      "Epoch 31/100\n",
      "6/6 [==============================] - 7s 1s/step - loss: 0.4717 - accuracy: 0.8916 - val_loss: 4.3146 - val_accuracy: 0.0952\n",
      "Epoch 32/100\n",
      "6/6 [==============================] - 7s 1s/step - loss: 0.3677 - accuracy: 0.9036 - val_loss: 4.3702 - val_accuracy: 0.1429\n",
      "Epoch 33/100\n",
      "6/6 [==============================] - 7s 1s/step - loss: 0.3519 - accuracy: 0.9217 - val_loss: 4.3975 - val_accuracy: 0.1429\n",
      "Epoch 34/100\n",
      "6/6 [==============================] - 7s 1s/step - loss: 0.2522 - accuracy: 0.9578 - val_loss: 4.8821 - val_accuracy: 0.0714\n",
      "Epoch 35/100\n",
      "6/6 [==============================] - 7s 1s/step - loss: 0.2230 - accuracy: 0.9578 - val_loss: 4.3066 - val_accuracy: 0.2143\n",
      "Epoch 36/100\n",
      "6/6 [==============================] - 7s 1s/step - loss: 0.2469 - accuracy: 0.9578 - val_loss: 4.3395 - val_accuracy: 0.2143\n",
      "Epoch 37/100\n",
      "6/6 [==============================] - 7s 1s/step - loss: 0.2211 - accuracy: 0.9337 - val_loss: 4.8148 - val_accuracy: 0.1429\n",
      "Epoch 38/100\n",
      "6/6 [==============================] - 7s 1s/step - loss: 0.1919 - accuracy: 0.9578 - val_loss: 5.0351 - val_accuracy: 0.1429\n",
      "Epoch 39/100\n",
      "6/6 [==============================] - 7s 1s/step - loss: 0.2369 - accuracy: 0.9578 - val_loss: 4.3024 - val_accuracy: 0.2381\n",
      "Epoch 40/100\n",
      "6/6 [==============================] - 6s 1s/step - loss: 0.2071 - accuracy: 0.9578 - val_loss: 4.3905 - val_accuracy: 0.1429\n",
      "Epoch 41/100\n",
      "6/6 [==============================] - 7s 1s/step - loss: 0.1591 - accuracy: 0.9699 - val_loss: 4.4662 - val_accuracy: 0.1667\n",
      "Epoch 42/100\n",
      "6/6 [==============================] - 7s 1s/step - loss: 0.1576 - accuracy: 0.9759 - val_loss: 4.6458 - val_accuracy: 0.1905\n",
      "Epoch 43/100\n",
      "6/6 [==============================] - 7s 1s/step - loss: 0.1665 - accuracy: 0.9578 - val_loss: 4.7069 - val_accuracy: 0.1905\n",
      "Epoch 44/100\n",
      "6/6 [==============================] - 7s 1s/step - loss: 0.1581 - accuracy: 0.9699 - val_loss: 4.9394 - val_accuracy: 0.2143\n",
      "Epoch 45/100\n",
      "6/6 [==============================] - 7s 1s/step - loss: 0.1161 - accuracy: 0.9759 - val_loss: 5.0240 - val_accuracy: 0.2143\n",
      "Epoch 46/100\n",
      "6/6 [==============================] - 7s 1s/step - loss: 0.1384 - accuracy: 0.9699 - val_loss: 5.1251 - val_accuracy: 0.2381\n",
      "Epoch 47/100\n",
      "6/6 [==============================] - 7s 1s/step - loss: 0.1423 - accuracy: 0.9759 - val_loss: 5.1392 - val_accuracy: 0.2619\n",
      "Epoch 48/100\n",
      "6/6 [==============================] - 7s 1s/step - loss: 0.1129 - accuracy: 0.9880 - val_loss: 5.2013 - val_accuracy: 0.2381\n",
      "Epoch 49/100\n",
      "6/6 [==============================] - 7s 1s/step - loss: 0.1015 - accuracy: 0.9880 - val_loss: 5.1154 - val_accuracy: 0.1905\n",
      "Epoch 50/100\n",
      "6/6 [==============================] - 7s 1s/step - loss: 0.1049 - accuracy: 0.9699 - val_loss: 5.1115 - val_accuracy: 0.2143\n",
      "Epoch 51/100\n",
      "6/6 [==============================] - 6s 1s/step - loss: 0.0668 - accuracy: 0.9940 - val_loss: 5.1464 - val_accuracy: 0.2143\n",
      "Epoch 52/100\n",
      "6/6 [==============================] - 7s 1s/step - loss: 0.0891 - accuracy: 0.9880 - val_loss: 5.2645 - val_accuracy: 0.1190\n",
      "Epoch 53/100\n",
      "6/6 [==============================] - 7s 1s/step - loss: 0.0866 - accuracy: 0.9880 - val_loss: 5.1094 - val_accuracy: 0.1905\n",
      "Epoch 54/100\n",
      "6/6 [==============================] - 7s 1s/step - loss: 0.1086 - accuracy: 0.9759 - val_loss: 4.8490 - val_accuracy: 0.2143\n",
      "Epoch 55/100\n",
      "6/6 [==============================] - 6s 1s/step - loss: 0.0914 - accuracy: 0.9759 - val_loss: 5.1557 - val_accuracy: 0.2143\n",
      "Epoch 56/100\n",
      "6/6 [==============================] - 6s 1s/step - loss: 0.0452 - accuracy: 0.9940 - val_loss: 5.5425 - val_accuracy: 0.2143\n",
      "Epoch 57/100\n",
      "6/6 [==============================] - 7s 1s/step - loss: 0.0767 - accuracy: 0.9940 - val_loss: 5.5672 - val_accuracy: 0.2381\n",
      "Epoch 58/100\n",
      "6/6 [==============================] - 7s 1s/step - loss: 0.0609 - accuracy: 1.0000 - val_loss: 5.6698 - val_accuracy: 0.2381\n",
      "Epoch 59/100\n",
      "6/6 [==============================] - 6s 1s/step - loss: 0.0557 - accuracy: 0.9880 - val_loss: 5.6229 - val_accuracy: 0.2143\n",
      "Epoch 60/100\n",
      "6/6 [==============================] - 7s 1s/step - loss: 0.0608 - accuracy: 1.0000 - val_loss: 5.3135 - val_accuracy: 0.2381\n",
      "Epoch 61/100\n",
      "6/6 [==============================] - 7s 1s/step - loss: 0.0696 - accuracy: 0.9880 - val_loss: 5.1545 - val_accuracy: 0.2143\n",
      "Epoch 62/100\n",
      "6/6 [==============================] - 7s 1s/step - loss: 0.0489 - accuracy: 1.0000 - val_loss: 5.2980 - val_accuracy: 0.1429\n",
      "Epoch 63/100\n",
      "6/6 [==============================] - 6s 1s/step - loss: 0.0771 - accuracy: 0.9880 - val_loss: 5.3530 - val_accuracy: 0.1905\n",
      "Epoch 64/100\n",
      "6/6 [==============================] - 6s 1s/step - loss: 0.0536 - accuracy: 0.9940 - val_loss: 5.3160 - val_accuracy: 0.1905\n",
      "Epoch 65/100\n",
      "6/6 [==============================] - 6s 1s/step - loss: 0.0618 - accuracy: 0.9880 - val_loss: 5.7851 - val_accuracy: 0.1667\n",
      "Epoch 66/100\n",
      "6/6 [==============================] - 7s 1s/step - loss: 0.0649 - accuracy: 0.9819 - val_loss: 5.7538 - val_accuracy: 0.1667\n",
      "Epoch 67/100\n",
      "6/6 [==============================] - 7s 1s/step - loss: 0.3249 - accuracy: 0.9337 - val_loss: 6.0445 - val_accuracy: 0.1667\n",
      "Epoch 68/100\n",
      "6/6 [==============================] - 7s 1s/step - loss: 0.7099 - accuracy: 0.7952 - val_loss: 3.9210 - val_accuracy: 0.1190\n",
      "Epoch 69/100\n",
      "6/6 [==============================] - 7s 1s/step - loss: 0.5586 - accuracy: 0.8494 - val_loss: 4.5658 - val_accuracy: 0.0952\n",
      "Epoch 70/100\n",
      "6/6 [==============================] - 7s 1s/step - loss: 0.5319 - accuracy: 0.8313 - val_loss: 4.6689 - val_accuracy: 0.0952\n",
      "Epoch 71/100\n",
      "6/6 [==============================] - 7s 1s/step - loss: 0.4691 - accuracy: 0.8735 - val_loss: 4.0685 - val_accuracy: 0.1667\n",
      "Epoch 72/100\n",
      "6/6 [==============================] - 7s 1s/step - loss: 0.2784 - accuracy: 0.9217 - val_loss: 4.3657 - val_accuracy: 0.1190\n",
      "Epoch 73/100\n",
      "6/6 [==============================] - 7s 1s/step - loss: 0.1714 - accuracy: 0.9639 - val_loss: 4.6514 - val_accuracy: 0.1905\n",
      "Epoch 74/100\n",
      "6/6 [==============================] - 6s 1s/step - loss: 0.1382 - accuracy: 0.9759 - val_loss: 4.7149 - val_accuracy: 0.1190\n",
      "Epoch 75/100\n",
      "6/6 [==============================] - 7s 1s/step - loss: 0.0841 - accuracy: 0.9880 - val_loss: 4.7052 - val_accuracy: 0.1905\n",
      "Epoch 76/100\n",
      "6/6 [==============================] - 7s 1s/step - loss: 0.1051 - accuracy: 0.9759 - val_loss: 4.8974 - val_accuracy: 0.1190\n",
      "Epoch 77/100\n",
      "6/6 [==============================] - 7s 1s/step - loss: 0.1094 - accuracy: 0.9699 - val_loss: 5.1147 - val_accuracy: 0.1190\n",
      "Epoch 78/100\n",
      "6/6 [==============================] - 7s 1s/step - loss: 0.0702 - accuracy: 1.0000 - val_loss: 5.1469 - val_accuracy: 0.1667\n",
      "Epoch 79/100\n",
      "6/6 [==============================] - 7s 1s/step - loss: 0.0519 - accuracy: 1.0000 - val_loss: 5.2360 - val_accuracy: 0.1667\n",
      "Epoch 80/100\n",
      "6/6 [==============================] - 7s 1s/step - loss: 0.0504 - accuracy: 0.9819 - val_loss: 5.3653 - val_accuracy: 0.1190\n",
      "Epoch 81/100\n",
      "6/6 [==============================] - 7s 1s/step - loss: 0.0711 - accuracy: 0.9940 - val_loss: 5.2711 - val_accuracy: 0.1667\n",
      "Epoch 82/100\n",
      "6/6 [==============================] - 7s 1s/step - loss: 0.0571 - accuracy: 0.9940 - val_loss: 5.1473 - val_accuracy: 0.1667\n",
      "Epoch 83/100\n",
      "6/6 [==============================] - 7s 1s/step - loss: 0.0550 - accuracy: 0.9880 - val_loss: 5.0797 - val_accuracy: 0.2381\n",
      "Epoch 84/100\n",
      "6/6 [==============================] - 7s 1s/step - loss: 0.0653 - accuracy: 0.9880 - val_loss: 5.1455 - val_accuracy: 0.2143\n",
      "Epoch 85/100\n",
      "6/6 [==============================] - 7s 1s/step - loss: 0.0463 - accuracy: 0.9940 - val_loss: 5.2637 - val_accuracy: 0.1667\n",
      "Epoch 86/100\n",
      "6/6 [==============================] - 7s 1s/step - loss: 0.0461 - accuracy: 0.9880 - val_loss: 5.4115 - val_accuracy: 0.1667\n",
      "Epoch 87/100\n",
      "6/6 [==============================] - 7s 1s/step - loss: 0.0371 - accuracy: 1.0000 - val_loss: 5.4253 - val_accuracy: 0.1667\n",
      "Epoch 88/100\n",
      "6/6 [==============================] - 7s 1s/step - loss: 0.0416 - accuracy: 0.9940 - val_loss: 5.4314 - val_accuracy: 0.1905\n",
      "Epoch 89/100\n",
      "6/6 [==============================] - 7s 1s/step - loss: 0.0402 - accuracy: 0.9940 - val_loss: 5.4521 - val_accuracy: 0.1905\n",
      "Epoch 90/100\n",
      "6/6 [==============================] - 7s 1s/step - loss: 0.0412 - accuracy: 0.9880 - val_loss: 5.4667 - val_accuracy: 0.1905\n",
      "Epoch 91/100\n",
      "6/6 [==============================] - 7s 1s/step - loss: 0.0272 - accuracy: 1.0000 - val_loss: 5.3580 - val_accuracy: 0.1667\n",
      "Epoch 92/100\n",
      "6/6 [==============================] - 7s 1s/step - loss: 0.0280 - accuracy: 0.9940 - val_loss: 5.2994 - val_accuracy: 0.1667\n",
      "Epoch 93/100\n",
      "6/6 [==============================] - 7s 1s/step - loss: 0.0212 - accuracy: 1.0000 - val_loss: 5.2926 - val_accuracy: 0.1667\n",
      "Epoch 94/100\n",
      "6/6 [==============================] - 7s 1s/step - loss: 0.0301 - accuracy: 1.0000 - val_loss: 5.3746 - val_accuracy: 0.1667\n",
      "Epoch 95/100\n",
      "6/6 [==============================] - 7s 1s/step - loss: 0.0265 - accuracy: 1.0000 - val_loss: 5.4213 - val_accuracy: 0.1905\n",
      "Epoch 96/100\n",
      "6/6 [==============================] - 7s 1s/step - loss: 0.0356 - accuracy: 0.9940 - val_loss: 5.4872 - val_accuracy: 0.1667\n",
      "Epoch 97/100\n",
      "6/6 [==============================] - 7s 1s/step - loss: 0.0257 - accuracy: 1.0000 - val_loss: 5.7987 - val_accuracy: 0.1667\n",
      "Epoch 98/100\n",
      "6/6 [==============================] - 7s 1s/step - loss: 0.0137 - accuracy: 1.0000 - val_loss: 5.9387 - val_accuracy: 0.1667\n",
      "Epoch 99/100\n",
      "6/6 [==============================] - 7s 1s/step - loss: 0.0403 - accuracy: 0.9940 - val_loss: 5.8758 - val_accuracy: 0.1905\n",
      "Epoch 100/100\n",
      "6/6 [==============================] - 7s 1s/step - loss: 0.0242 - accuracy: 1.0000 - val_loss: 5.8560 - val_accuracy: 0.1905\n",
      "2/2 [==============================] - 1s 296ms/step - loss: 6.4715 - accuracy: 0.2115\n",
      "Test Loss: 6.4715\n",
      "Test Accuracy: 21.15%\n"
     ]
    }
   ],
   "source": [
    "model.compile(loss='categorical_crossentropy', optimizer='adam', metrics=['accuracy'])\n",
    "\n",
    "# Train the model\n",
    "history = model.fit(X_train,y_train, epochs=100, validation_split=0.2, shuffle=True)\n",
    "\n"
   ]
  },
  {
   "cell_type": "code",
   "execution_count": 40,
   "id": "15c776c3",
   "metadata": {},
   "outputs": [
    {
     "name": "stdout",
     "output_type": "stream",
     "text": [
      "2/2 [==============================] - 1s 305ms/step - loss: 6.4715 - accuracy: 0.2115\n",
      "Test Loss: 6.4715\n",
      "Test Accuracy: 21.15%\n"
     ]
    }
   ],
   "source": [
    "# Evaluate the model\n",
    "loss, accuracy = model.evaluate(X_test, y_test)\n",
    "print(f'Test Loss: {loss:.4f}')\n",
    "print(f'Test Accuracy: {accuracy * 100:.2f}%')"
   ]
  },
  {
   "cell_type": "code",
   "execution_count": null,
   "id": "7934a0f1",
   "metadata": {},
   "outputs": [],
   "source": []
  }
 ],
 "metadata": {
  "kernelspec": {
   "display_name": "Python 3.8 - AzureML",
   "language": "python",
   "name": "python38-azureml"
  },
  "language_info": {
   "codemirror_mode": {
    "name": "ipython",
    "version": 3
   },
   "file_extension": ".py",
   "mimetype": "text/x-python",
   "name": "python",
   "nbconvert_exporter": "python",
   "pygments_lexer": "ipython3",
   "version": "3.8.5"
  }
 },
 "nbformat": 4,
 "nbformat_minor": 5
}
