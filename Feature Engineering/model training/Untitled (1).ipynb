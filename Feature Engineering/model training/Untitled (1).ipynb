{
  "cells": [
    {
      "cell_type": "code",
      "source": [
        "pip install fasttext"
      ],
      "outputs": [
        {
          "output_type": "display_data",
          "data": {
            "application/vnd.livy.statement-meta+json": {
              "spark_pool": "c99f7e44-fcd4-4ee0-8ec8-7fc665560eee",
              "session_id": "28",
              "statement_id": 6,
              "state": "finished",
              "livy_statement_state": "available",
              "queued_time": "2023-09-27T17:40:27.8292008Z",
              "session_start_time": "2023-09-27T17:40:27.8306036Z",
              "execution_start_time": "2023-09-27T17:44:05.006625Z",
              "execution_finish_time": "2023-09-27T17:45:13.1643543Z",
              "spark_jobs": {
                "numbers": {
                  "RUNNING": 0,
                  "SUCCEEDED": 0,
                  "UNKNOWN": 0,
                  "FAILED": 0
                },
                "jobs": [],
                "limit": 20,
                "rule": "ALL_DESC"
              },
              "parent_msg_id": "82cd7de0-c8a9-4f65-bb83-1fc08376c530"
            },
            "text/plain": "StatementMeta(c99f7e44-fcd4-4ee0-8ec8-7fc665560eee, 28, 6, Finished, Available)"
          },
          "metadata": {}
        },
        {
          "output_type": "stream",
          "name": "stdout",
          "text": "Successfully mount artifact container to path:  /synfs/notebook/AmlJobLogs/dcid.18aeb47c-5d25-4c5c-a864-987f8a95eeae\nStarting log upload threads\nCollecting fasttext\n  Downloading fasttext-0.9.2.tar.gz (68 kB)\n\u001b[K     |████████████████████████████████| 68 kB 8.3 MB/s  eta 0:00:01\n\u001b[?25hCollecting pybind11>=2.2\n  Using cached pybind11-2.11.1-py3-none-any.whl (227 kB)\nRequirement already satisfied: setuptools>=0.7.0 in /home/trusted-service-user/cluster-env/env/lib/python3.8/site-packages (from fasttext) (49.6.0.post20210108)\nRequirement already satisfied: numpy in /home/trusted-service-user/cluster-env/env/lib/python3.8/site-packages (from fasttext) (1.19.4)\nBuilding wheels for collected packages: fasttext\n  Building wheel for fasttext (setup.py) ... \u001b[?25l-\b \b\\\b \b|\b \b/\b \b-\b \b\\\b \b|\b \b/\b \b-\b \b\\\b \b|\b \b/\b \b-\b \b\\\b \b|\b \b/\b \b-\b \b\\\b \b|\b \b/\b \b-\b \b\\\b \b|\b \b/\b \b-\b \b\\\b \b|\b \b/\b \bdone\n\u001b[?25h  Created wheel for fasttext: filename=fasttext-0.9.2-cp38-cp38-linux_x86_64.whl size=3324792 sha256=fefb8f6c07397bfe2ee4edd3e433402d06019766ec824a3348fff1ded0c75160\n  Stored in directory: /home/trusted-service-user/.cache/pip/wheels/93/61/2a/c54711a91c418ba06ba195b1d78ff24fcaad8592f2a694ac94\nSuccessfully built fasttext\nInstalling collected packages: pybind11, fasttext\nSuccessfully installed fasttext-0.9.2 pybind11-2.11.1\nNote: you may need to restart the kernel to use updated packages.\n"
        }
      ],
      "execution_count": 1,
      "metadata": {
        "jupyter": {
          "source_hidden": false,
          "outputs_hidden": false
        },
        "nteract": {
          "transient": {
            "deleting": false
          }
        },
        "gather": {
          "logged": 1695836713282
        }
      }
    },
    {
      "cell_type": "code",
      "source": [
        "pip install emoji"
      ],
      "outputs": [
        {
          "output_type": "display_data",
          "data": {
            "application/vnd.livy.statement-meta+json": {
              "spark_pool": "c99f7e44-fcd4-4ee0-8ec8-7fc665560eee",
              "session_id": "28",
              "statement_id": 7,
              "state": "finished",
              "livy_statement_state": "available",
              "queued_time": "2023-09-27T17:40:27.8300797Z",
              "session_start_time": null,
              "execution_start_time": "2023-09-27T17:45:13.2282325Z",
              "execution_finish_time": "2023-09-27T17:45:16.876064Z",
              "spark_jobs": {
                "numbers": {
                  "RUNNING": 0,
                  "SUCCEEDED": 0,
                  "UNKNOWN": 0,
                  "FAILED": 0
                },
                "jobs": [],
                "limit": 20,
                "rule": "ALL_DESC"
              },
              "parent_msg_id": "a64bd03a-83dd-406d-847d-de8af79cc16e"
            },
            "text/plain": "StatementMeta(c99f7e44-fcd4-4ee0-8ec8-7fc665560eee, 28, 7, Finished, Available)"
          },
          "metadata": {}
        },
        {
          "output_type": "stream",
          "name": "stdout",
          "text": "Collecting emoji\n  Downloading emoji-2.8.0-py2.py3-none-any.whl (358 kB)\n\u001b[K     |████████████████████████████████| 358 kB 9.3 MB/s eta 0:00:01\n\u001b[?25hInstalling collected packages: emoji\nSuccessfully installed emoji-2.8.0\nNote: you may need to restart the kernel to use updated packages.\n"
        }
      ],
      "execution_count": 2,
      "metadata": {
        "jupyter": {
          "source_hidden": false,
          "outputs_hidden": false
        },
        "nteract": {
          "transient": {
            "deleting": false
          }
        },
        "gather": {
          "logged": 1695836716974
        }
      }
    },
    {
      "cell_type": "code",
      "source": [
        "import nltk\n",
        "nltk.download('punkt')\n",
        "nltk.download('stopwords')\n",
        "nltk.download('averaged_perceptron_tagger')\n",
        "nltk.download('wordnet')"
      ],
      "outputs": [
        {
          "output_type": "display_data",
          "data": {
            "application/vnd.livy.statement-meta+json": {
              "spark_pool": "c99f7e44-fcd4-4ee0-8ec8-7fc665560eee",
              "session_id": "28",
              "statement_id": 8,
              "state": "finished",
              "livy_statement_state": "available",
              "queued_time": "2023-09-27T17:40:27.8307883Z",
              "session_start_time": null,
              "execution_start_time": "2023-09-27T17:45:16.9395297Z",
              "execution_finish_time": "2023-09-27T17:45:29.2091688Z",
              "spark_jobs": {
                "numbers": {
                  "RUNNING": 0,
                  "SUCCEEDED": 0,
                  "UNKNOWN": 0,
                  "FAILED": 0
                },
                "jobs": [],
                "limit": 20,
                "rule": "ALL_DESC"
              },
              "parent_msg_id": "01c65d3b-4dee-4b64-a2ee-17b556fed851"
            },
            "text/plain": "StatementMeta(c99f7e44-fcd4-4ee0-8ec8-7fc665560eee, 28, 8, Finished, Available)"
          },
          "metadata": {}
        },
        {
          "output_type": "stream",
          "name": "stderr",
          "text": "[nltk_data] Downloading package punkt to /home/trusted-service-\n[nltk_data]     user/nltk_data...\n[nltk_data]   Unzipping tokenizers/punkt.zip.\n[nltk_data] Downloading package stopwords to /home/trusted-service-\n[nltk_data]     user/nltk_data...\n[nltk_data]   Unzipping corpora/stopwords.zip.\n[nltk_data] Downloading package averaged_perceptron_tagger to\n[nltk_data]     /home/trusted-service-user/nltk_data...\n[nltk_data]   Unzipping taggers/averaged_perceptron_tagger.zip.\n[nltk_data] Downloading package wordnet to /home/trusted-service-\n[nltk_data]     user/nltk_data...\n"
        },
        {
          "output_type": "execute_result",
          "execution_count": 15,
          "data": {
            "text/plain": "True"
          },
          "metadata": {}
        }
      ],
      "execution_count": 3,
      "metadata": {
        "jupyter": {
          "source_hidden": false,
          "outputs_hidden": false
        },
        "nteract": {
          "transient": {
            "deleting": false
          }
        },
        "gather": {
          "logged": 1695836729345
        }
      }
    },
    {
      "cell_type": "code",
      "source": [
        "from tensorflow.keras.models import load_model\n",
        "model_path='lstm_model.h5'\n",
        "model = load_model(model_path)"
      ],
      "outputs": [
        {
          "output_type": "display_data",
          "data": {
            "application/vnd.livy.statement-meta+json": {
              "spark_pool": "c99f7e44-fcd4-4ee0-8ec8-7fc665560eee",
              "session_id": "28",
              "statement_id": 9,
              "state": "finished",
              "livy_statement_state": "available",
              "queued_time": "2023-09-27T17:40:27.8315462Z",
              "session_start_time": null,
              "execution_start_time": "2023-09-27T17:45:29.2734677Z",
              "execution_finish_time": "2023-09-27T17:46:03.5751858Z",
              "spark_jobs": {
                "numbers": {
                  "RUNNING": 0,
                  "SUCCEEDED": 0,
                  "UNKNOWN": 0,
                  "FAILED": 0
                },
                "jobs": [],
                "limit": 20,
                "rule": "ALL_DESC"
              },
              "parent_msg_id": "6f6360d3-9685-4f21-a4bb-3fa77d62beb0"
            },
            "text/plain": "StatementMeta(c99f7e44-fcd4-4ee0-8ec8-7fc665560eee, 28, 9, Finished, Available)"
          },
          "metadata": {}
        },
        {
          "output_type": "stream",
          "name": "stderr",
          "text": "2023-09-27 17:45:59.901789: I tensorflow/core/platform/cpu_feature_guard.cc:142] This TensorFlow binary is optimized with oneAPI Deep Neural Network Library (oneDNN) to use the following CPU instructions in performance-critical operations:  SSE4.1 SSE4.2 AVX AVX2 AVX512F FMA\nTo enable them in other operations, rebuild TensorFlow with the appropriate compiler flags.\n"
        }
      ],
      "execution_count": 4,
      "metadata": {
        "jupyter": {
          "source_hidden": false,
          "outputs_hidden": false
        },
        "nteract": {
          "transient": {
            "deleting": false
          }
        },
        "gather": {
          "logged": 1695836763680
        }
      }
    },
    {
      "cell_type": "code",
      "source": [
        "import fasttext\n",
        "fasttext_model_path='Users/Tanvi.20B0311066/fasttext1.model'\n",
        "fasttext_model = fasttext.load_model(fasttext_model_path)"
      ],
      "outputs": [
        {
          "output_type": "display_data",
          "data": {
            "application/vnd.livy.statement-meta+json": {
              "spark_pool": "c99f7e44-fcd4-4ee0-8ec8-7fc665560eee",
              "session_id": "28",
              "statement_id": 10,
              "state": "finished",
              "livy_statement_state": "available",
              "queued_time": "2023-09-27T17:40:27.833726Z",
              "session_start_time": null,
              "execution_start_time": "2023-09-27T17:46:03.6616758Z",
              "execution_finish_time": "2023-09-27T17:46:35.8435187Z",
              "spark_jobs": {
                "numbers": {
                  "RUNNING": 0,
                  "SUCCEEDED": 0,
                  "UNKNOWN": 0,
                  "FAILED": 0
                },
                "jobs": [],
                "limit": 20,
                "rule": "ALL_DESC"
              },
              "parent_msg_id": "ce3a4c5a-0edd-4550-9609-c9c8e8db60f6"
            },
            "text/plain": "StatementMeta(c99f7e44-fcd4-4ee0-8ec8-7fc665560eee, 28, 10, Finished, Available)"
          },
          "metadata": {}
        },
        {
          "output_type": "stream",
          "name": "stderr",
          "text": "Warning : `load_model` does not return WordVectorModel or SupervisedModel any more, but a `FastText` object which is very similar.\n"
        }
      ],
      "execution_count": 5,
      "metadata": {
        "jupyter": {
          "source_hidden": false,
          "outputs_hidden": false
        },
        "nteract": {
          "transient": {
            "deleting": false
          }
        },
        "gather": {
          "logged": 1695836795946
        }
      }
    },
    {
      "cell_type": "code",
      "source": [
        "import string\n",
        "import emoji\n",
        "import re\n",
        "import nltk\n",
        "import numpy as np\n",
        "from nltk.tokenize import word_tokenize\n",
        "from nltk.stem import WordNetLemmatizer\n",
        "from nltk.corpus import wordnet\n",
        "from nltk.corpus import stopwords\n",
        "import fasttext\n",
        "\n",
        "class NewsClassifier:\n",
        "    def __init__(self, model, fasttext_model):\n",
        "        # Load the Keras LSTM model\n",
        "        self.model = model\n",
        "        \n",
        "        # Load the FastText model\n",
        "        self.fasttext_model = fasttext_model\n",
        "\n",
        "    def preprocess_text(self, text):\n",
        "        # Lowercasing\n",
        "        text = text.lower()\n",
        "\n",
        "        # Removing punctuations using string module\n",
        "        text = text.translate(str.maketrans(\"\", \"\", string.punctuation))\n",
        "\n",
        "        # Removing URLs and Emojis\n",
        "        text = re.sub(r\"http\\S+|www\\S+|https\\S+\", \"\", text, flags=re.MULTILINE)\n",
        "        text = emoji.demojize(text)\n",
        "        text = re.sub(r\":[^:]+:\", \"\", text)\n",
        "\n",
        "        # Removing Emails and Numbers\n",
        "        email_pattern = r'\\S+@\\S+\\.\\S+'\n",
        "        number_pattern = r'\\b\\d+\\b'\n",
        "        text = re.sub(email_pattern, '', text)\n",
        "        text = re.sub(number_pattern, '', text)\n",
        "\n",
        "        # Removing Special Characters\n",
        "        pattern = r'[^a-zA-Z\\s]'\n",
        "        text = re.sub(pattern, '', text)\n",
        "        text = text.replace('\\n', ' ')\n",
        "        text = text.encode('ascii', 'ignore').decode('ascii')  # Remove non-ASCII characters\n",
        "\n",
        "        # Tokenization\n",
        "        tokens = word_tokenize(text)\n",
        "\n",
        "        # Removing stopwords\n",
        "        stops = set(stopwords.words('english'))\n",
        "        tokens = [token for token in tokens if token.lower() not in stops]\n",
        "\n",
        "        # Lemmatization\n",
        "        lemmatizer = WordNetLemmatizer()\n",
        "        def pos_tagger(nltk_tag):\n",
        "            if nltk_tag.startswith('J'):\n",
        "                return wordnet.ADJ\n",
        "            elif nltk_tag.startswith('V'):\n",
        "                return wordnet.VERB\n",
        "            elif nltk_tag.startswith('N'):\n",
        "                return wordnet.NOUN\n",
        "            elif nltk_tag.startswith('R'):\n",
        "                return wordnet.ADV\n",
        "            else:\n",
        "                return wordnet.NOUN  # Default to noun\n",
        "        pos_tagged = nltk.pos_tag(tokens)\n",
        "        wordnet_tagged = [(word, pos_tagger(tag)) for word, tag in pos_tagged]\n",
        "        lemmatized = [lemmatizer.lemmatize(word, tag) for word, tag in wordnet_tagged]\n",
        "\n",
        "        return ' '.join(lemmatized)\n",
        "\n",
        "    def fasttext_vectorize(self, text):\n",
        "        # Tokenization\n",
        "        tokens = word_tokenize(text)\n",
        "\n",
        "        embeddings = []\n",
        "        for token in tokens:\n",
        "            if token in self.fasttext_model.words:\n",
        "                embeddings.append(self.fasttext_model.get_word_vector(token))\n",
        "        \n",
        "        if embeddings:\n",
        "            return sum(embeddings) / len(embeddings)\n",
        "        return None\n",
        "\n",
        "    def predict_category(self, text):\n",
        "        preprocessed_text = self.preprocess_text(text)\n",
        "        text_vectorized = self.fasttext_vectorize(preprocessed_text)\n",
        "        text_vectorized=text_vectorized.reshape(1,300)\n",
        "        if text_vectorized is not None:\n",
        "            predictions = self.model.predict(np.array([text_vectorized]))\n",
        "            predicted_class = np.argmax(predictions[0])\n",
        "            return predicted_class\n",
        "        else:\n",
        "            return \"Unable to vectorize input text\"\n"
      ],
      "outputs": [
        {
          "output_type": "display_data",
          "data": {
            "application/vnd.livy.statement-meta+json": {
              "spark_pool": "c99f7e44-fcd4-4ee0-8ec8-7fc665560eee",
              "session_id": "28",
              "statement_id": 21,
              "state": "finished",
              "livy_statement_state": "available",
              "queued_time": "2023-09-27T17:51:01.094782Z",
              "session_start_time": null,
              "execution_start_time": "2023-09-27T17:51:01.1571953Z",
              "execution_finish_time": "2023-09-27T17:51:01.4636956Z",
              "spark_jobs": {
                "numbers": {
                  "RUNNING": 0,
                  "SUCCEEDED": 0,
                  "UNKNOWN": 0,
                  "FAILED": 0
                },
                "jobs": [],
                "limit": 20,
                "rule": "ALL_DESC"
              },
              "parent_msg_id": "ded0c7bb-f907-4002-ac79-b6ccb6841b3b"
            },
            "text/plain": "StatementMeta(c99f7e44-fcd4-4ee0-8ec8-7fc665560eee, 28, 21, Finished, Available)"
          },
          "metadata": {}
        }
      ],
      "execution_count": 16,
      "metadata": {
        "jupyter": {
          "source_hidden": false,
          "outputs_hidden": false
        },
        "nteract": {
          "transient": {
            "deleting": false
          }
        },
        "gather": {
          "logged": 1695837061563
        },
        "collapsed": false
      }
    },
    {
      "cell_type": "code",
      "source": [
        "input_text = '''BJP'''"
      ],
      "outputs": [
        {
          "output_type": "display_data",
          "data": {
            "application/vnd.livy.statement-meta+json": {
              "spark_pool": "c99f7e44-fcd4-4ee0-8ec8-7fc665560eee",
              "session_id": "28",
              "statement_id": 37,
              "state": "finished",
              "livy_statement_state": "available",
              "queued_time": "2023-09-27T17:53:40.5661413Z",
              "session_start_time": null,
              "execution_start_time": "2023-09-27T17:53:40.6282145Z",
              "execution_finish_time": "2023-09-27T17:53:40.9804267Z",
              "spark_jobs": {
                "numbers": {
                  "RUNNING": 0,
                  "SUCCEEDED": 0,
                  "UNKNOWN": 0,
                  "FAILED": 0
                },
                "jobs": [],
                "limit": 20,
                "rule": "ALL_DESC"
              },
              "parent_msg_id": "e252e9bf-4aeb-4b38-88be-af696175f0b5"
            },
            "text/plain": "StatementMeta(c99f7e44-fcd4-4ee0-8ec8-7fc665560eee, 28, 37, Finished, Available)"
          },
          "metadata": {}
        }
      ],
      "execution_count": 32,
      "metadata": {
        "jupyter": {
          "source_hidden": false,
          "outputs_hidden": false
        },
        "nteract": {
          "transient": {
            "deleting": false
          }
        },
        "gather": {
          "logged": 1695837221100
        }
      }
    },
    {
      "cell_type": "code",
      "source": [
        "classifier = NewsClassifier(model,fasttext_model)"
      ],
      "outputs": [
        {
          "output_type": "display_data",
          "data": {
            "application/vnd.livy.statement-meta+json": {
              "spark_pool": "c99f7e44-fcd4-4ee0-8ec8-7fc665560eee",
              "session_id": "28",
              "statement_id": 38,
              "state": "finished",
              "livy_statement_state": "available",
              "queued_time": "2023-09-27T17:53:41.0659276Z",
              "session_start_time": null,
              "execution_start_time": "2023-09-27T17:53:41.126767Z",
              "execution_finish_time": "2023-09-27T17:53:41.4397143Z",
              "spark_jobs": {
                "numbers": {
                  "RUNNING": 0,
                  "SUCCEEDED": 0,
                  "UNKNOWN": 0,
                  "FAILED": 0
                },
                "jobs": [],
                "limit": 20,
                "rule": "ALL_DESC"
              },
              "parent_msg_id": "88ecd731-e7e8-482a-a838-0bfc117a0dd2"
            },
            "text/plain": "StatementMeta(c99f7e44-fcd4-4ee0-8ec8-7fc665560eee, 28, 38, Finished, Available)"
          },
          "metadata": {}
        }
      ],
      "execution_count": 33,
      "metadata": {
        "jupyter": {
          "source_hidden": false,
          "outputs_hidden": false
        },
        "nteract": {
          "transient": {
            "deleting": false
          }
        },
        "gather": {
          "logged": 1695837221696
        }
      }
    },
    {
      "cell_type": "code",
      "source": [
        "import time\n",
        "start_time = time.time()\n",
        "predicted_index= classifier.predict_category(input_text)\n",
        "end_time = time.time()\n",
        "inference_time = end_time - start_time\n",
        "category_labels = [\n",
        "    'academic interests', 'arts and culture', 'automotives', 'books and literature',\n",
        "    'business and finance', 'careers', 'family and relationships', 'food and drinks',\n",
        "    'health', 'healthy living', 'hobbies and interests', 'home and garden', 'movies',\n",
        "    'music and audio', 'news and politics', 'personal finance', 'pets',\n",
        "    'pharmaceuticals, conditions, and symptoms', 'real estate', 'shopping', 'sports',\n",
        "    'style and fashion', 'technology and computing', 'television', 'travel', 'video gaming'\n",
        "]\n",
        "predicted_label = category_labels[predicted_index]\n",
        "print(f\"Predicted category: {predicted_label}\")\n",
        "print(\"INFERENCE TIME USING LSTM:- \",inference_time)"
      ],
      "outputs": [
        {
          "output_type": "display_data",
          "data": {
            "application/vnd.livy.statement-meta+json": {
              "spark_pool": "c99f7e44-fcd4-4ee0-8ec8-7fc665560eee",
              "session_id": "28",
              "statement_id": 39,
              "state": "finished",
              "livy_statement_state": "available",
              "queued_time": "2023-09-27T17:53:41.6716206Z",
              "session_start_time": null,
              "execution_start_time": "2023-09-27T17:53:41.7343282Z",
              "execution_finish_time": "2023-09-27T17:53:42.2575839Z",
              "spark_jobs": {
                "numbers": {
                  "RUNNING": 0,
                  "SUCCEEDED": 0,
                  "UNKNOWN": 0,
                  "FAILED": 0
                },
                "jobs": [],
                "limit": 20,
                "rule": "ALL_DESC"
              },
              "parent_msg_id": "59f2941c-1cac-435b-8654-43a5a3ca42aa"
            },
            "text/plain": "StatementMeta(c99f7e44-fcd4-4ee0-8ec8-7fc665560eee, 28, 39, Finished, Available)"
          },
          "metadata": {}
        },
        {
          "output_type": "stream",
          "name": "stdout",
          "text": "Predicted category: news and politics\nINFERENCE TIME USING LSTM:-  0.033579349517822266\n"
        }
      ],
      "execution_count": 34,
      "metadata": {
        "jupyter": {
          "source_hidden": false,
          "outputs_hidden": false
        },
        "nteract": {
          "transient": {
            "deleting": false
          }
        },
        "gather": {
          "logged": 1695837222354
        }
      }
    }
  ],
  "metadata": {
    "kernelspec": {
      "name": "synapse_pyspark",
      "language": "Python",
      "display_name": "Synapse PySpark"
    },
    "language_info": {
      "name": "python",
      "version": "3.8.0",
      "mimetype": "text/x-python",
      "file_extension": ".py",
      "pygments_lexer": "ipython",
      "codemirror_mode": "ipython",
      "nbconvert_exporter": "python"
    },
    "microsoft": {
      "ms_spell_check": {
        "ms_spell_check_language": "en"
      },
      "host": {
        "AzureML": {
          "notebookHasBeenCompleted": true
        }
      }
    },
    "kernel_info": {
      "name": "synapse_pyspark"
    },
    "nteract": {
      "version": "nteract-front-end@1.0.0"
    }
  },
  "nbformat": 4,
  "nbformat_minor": 2
}