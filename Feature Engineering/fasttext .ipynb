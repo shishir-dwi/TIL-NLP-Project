{
 "cells": [
  {
   "cell_type": "code",
   "execution_count": 1,
   "id": "702565a4",
   "metadata": {},
   "outputs": [],
   "source": [
    "import pandas as pd\n",
    "df=pd.read_csv('preprocessed data with num count.csv')"
   ]
  },
  {
   "cell_type": "code",
   "execution_count": 4,
   "id": "ce8e4a2a",
   "metadata": {},
   "outputs": [
    {
     "data": {
      "text/html": [
       "<div>\n",
       "<style scoped>\n",
       "    .dataframe tbody tr th:only-of-type {\n",
       "        vertical-align: middle;\n",
       "    }\n",
       "\n",
       "    .dataframe tbody tr th {\n",
       "        vertical-align: top;\n",
       "    }\n",
       "\n",
       "    .dataframe thead th {\n",
       "        text-align: right;\n",
       "    }\n",
       "</style>\n",
       "<table border=\"1\" class=\"dataframe\">\n",
       "  <thead>\n",
       "    <tr style=\"text-align: right;\">\n",
       "      <th></th>\n",
       "      <th>target</th>\n",
       "      <th>tokens</th>\n",
       "      <th>num_words</th>\n",
       "    </tr>\n",
       "  </thead>\n",
       "  <tbody>\n",
       "    <tr>\n",
       "      <th>0</th>\n",
       "      <td>academic interests</td>\n",
       "      <td>('new', 'delhi', 'andhra', 'pradesh', 'public'...</td>\n",
       "      <td>151</td>\n",
       "    </tr>\n",
       "    <tr>\n",
       "      <th>1</th>\n",
       "      <td>academic interests</td>\n",
       "      <td>('pune', 'two', 'week', 'new', 'academic', 'ye...</td>\n",
       "      <td>269</td>\n",
       "    </tr>\n",
       "    <tr>\n",
       "      <th>2</th>\n",
       "      <td>academic interests</td>\n",
       "      <td>('guwahati', 'result', 'cbse', 'class', 'x', '...</td>\n",
       "      <td>261</td>\n",
       "    </tr>\n",
       "    <tr>\n",
       "      <th>3</th>\n",
       "      <td>academic interests</td>\n",
       "      <td>('admission', 'iims', 'say', 'kapoor', 'across...</td>\n",
       "      <td>56</td>\n",
       "    </tr>\n",
       "    <tr>\n",
       "      <th>4</th>\n",
       "      <td>academic interests</td>\n",
       "      <td>('mangaluru', 'mangalore', 'institute', 'techn...</td>\n",
       "      <td>203</td>\n",
       "    </tr>\n",
       "    <tr>\n",
       "      <th>...</th>\n",
       "      <td>...</td>\n",
       "      <td>...</td>\n",
       "      <td>...</td>\n",
       "    </tr>\n",
       "    <tr>\n",
       "      <th>517493</th>\n",
       "      <td>video gaming</td>\n",
       "      <td>('nagpur', 'akshay', 'zadgaonkar', 'child', 'p...</td>\n",
       "      <td>291</td>\n",
       "    </tr>\n",
       "    <tr>\n",
       "      <th>517494</th>\n",
       "      <td>video gaming</td>\n",
       "      <td>('bayonetta', 'lead', 'hideki', 'kamiya', 'rec...</td>\n",
       "      <td>176</td>\n",
       "    </tr>\n",
       "    <tr>\n",
       "      <th>517495</th>\n",
       "      <td>video gaming</td>\n",
       "      <td>('al', 'pacino', 'think', 'original', 'godfath...</td>\n",
       "      <td>147</td>\n",
       "    </tr>\n",
       "    <tr>\n",
       "      <th>517496</th>\n",
       "      <td>video gaming</td>\n",
       "      <td>('late', 'episode', 'imlie', 'begin', 'aryan',...</td>\n",
       "      <td>130</td>\n",
       "    </tr>\n",
       "    <tr>\n",
       "      <th>517497</th>\n",
       "      <td>video gaming</td>\n",
       "      <td>('entire', 'world', 'lockdown', 'various', 'de...</td>\n",
       "      <td>115</td>\n",
       "    </tr>\n",
       "  </tbody>\n",
       "</table>\n",
       "<p>517498 rows × 3 columns</p>\n",
       "</div>"
      ],
      "text/plain": [
       "                    target                                             tokens  \\\n",
       "0       academic interests  ('new', 'delhi', 'andhra', 'pradesh', 'public'...   \n",
       "1       academic interests  ('pune', 'two', 'week', 'new', 'academic', 'ye...   \n",
       "2       academic interests  ('guwahati', 'result', 'cbse', 'class', 'x', '...   \n",
       "3       academic interests  ('admission', 'iims', 'say', 'kapoor', 'across...   \n",
       "4       academic interests  ('mangaluru', 'mangalore', 'institute', 'techn...   \n",
       "...                    ...                                                ...   \n",
       "517493        video gaming  ('nagpur', 'akshay', 'zadgaonkar', 'child', 'p...   \n",
       "517494        video gaming  ('bayonetta', 'lead', 'hideki', 'kamiya', 'rec...   \n",
       "517495        video gaming  ('al', 'pacino', 'think', 'original', 'godfath...   \n",
       "517496        video gaming  ('late', 'episode', 'imlie', 'begin', 'aryan',...   \n",
       "517497        video gaming  ('entire', 'world', 'lockdown', 'various', 'de...   \n",
       "\n",
       "        num_words  \n",
       "0             151  \n",
       "1             269  \n",
       "2             261  \n",
       "3              56  \n",
       "4             203  \n",
       "...           ...  \n",
       "517493        291  \n",
       "517494        176  \n",
       "517495        147  \n",
       "517496        130  \n",
       "517497        115  \n",
       "\n",
       "[517498 rows x 3 columns]"
      ]
     },
     "execution_count": 4,
     "metadata": {},
     "output_type": "execute_result"
    }
   ],
   "source": [
    "df"
   ]
  },
  {
   "cell_type": "code",
   "execution_count": 5,
   "id": "9405cb3a",
   "metadata": {},
   "outputs": [],
   "source": [
    "import ast\n",
    "def convert_to_list(token_string):\n",
    "    return ast.literal_eval(token_string)\n",
    "df['tokens'] = df['tokens'].apply(convert_to_list)"
   ]
  },
  {
   "cell_type": "code",
   "execution_count": 8,
   "id": "8c65d801",
   "metadata": {},
   "outputs": [],
   "source": [
    "import fasttext\n",
    "\n",
    "with open('fasttext_data.txt', 'w', encoding='utf-8') as f:\n",
    "    for idx, row in df.iterrows():\n",
    "        label = row['target']\n",
    "        text = ' '.join(row['tokens'])\n",
    "        f.write(f'__label__{label} {text}\\n')"
   ]
  },
  {
   "cell_type": "code",
   "execution_count": 9,
   "id": "cb184f16",
   "metadata": {},
   "outputs": [],
   "source": [
    "model = fasttext.train_supervised('fasttext_data.txt', epoch=10, wordNgrams=3, lr=0.15, dim=300)\n",
    "\n",
    "model.save_model(\"fasttext1.model\")"
   ]
  },
  {
   "cell_type": "code",
   "execution_count": null,
   "id": "2866742e",
   "metadata": {},
   "outputs": [],
   "source": [
    "import fasttext\n",
    "\n",
    "model = fasttext.load_model(\"/content/drive/MyDrive/fasttext1.model\")"
   ]
  },
  {
   "cell_type": "code",
   "execution_count": 10,
   "id": "5392a697",
   "metadata": {},
   "outputs": [
    {
     "name": "stdout",
     "output_type": "stream",
     "text": [
      "0 [ 2.2841852e-02 -6.1843190e-02  1.8199410e-02  1.9721305e-02\n",
      " -1.3232980e-02 -3.7522063e-02  3.4542467e-02 -5.9761107e-03\n",
      " -2.5990104e-02  3.7976012e-02 -2.9447533e-02 -2.0467583e-02\n",
      "  1.6337380e-02 -5.5860989e-03 -7.0836893e-03 -1.5373227e-02\n",
      "  2.9371526e-02  2.9402511e-02 -5.8623478e-02 -3.2192218e-04\n",
      " -4.4965213e-03  1.1314569e-02  3.3725549e-02 -2.0774061e-02\n",
      "  2.8214613e-03  3.9384509e-03 -1.4350550e-02 -1.1550186e-02\n",
      "  3.7413482e-02  2.4549928e-04 -1.6239978e-02 -3.4793417e-03\n",
      "  4.5377105e-02 -1.7819524e-02 -8.3714025e-03  2.0417951e-02\n",
      "  9.0876687e-04  1.9609548e-02  6.3143496e-04  3.0241858e-03\n",
      " -1.3985212e-02 -3.0197175e-02 -7.9407720e-03  9.6074734e-03\n",
      " -2.5971632e-02  2.7651133e-03  9.7869467e-03  4.4794153e-02\n",
      " -2.9899841e-02  2.0151179e-02  7.1638562e-03  7.2164269e-04\n",
      "  3.5474591e-02 -1.4146139e-03 -1.0354938e-02  4.5928318e-02\n",
      "  5.9044398e-03 -9.5000798e-03 -3.1201877e-02 -6.5596667e-03\n",
      " -4.9042506e-03  2.3252978e-03 -1.9161204e-02  1.3386472e-02\n",
      " -1.0283443e-02  1.4746877e-02 -1.4617473e-02  3.3198554e-02\n",
      "  2.1226522e-02  2.0493118e-02 -7.5184242e-03  1.7398154e-02\n",
      "  1.0237720e-02  2.2398207e-02  7.3391711e-03  4.3549291e-03\n",
      " -1.2365426e-02 -8.6880224e-03 -9.3979361e-03  1.4337147e-02\n",
      " -7.9973327e-04 -2.4285937e-02 -2.4049127e-02 -4.1635364e-02\n",
      "  1.6288938e-02 -6.7813522e-03  1.4541842e-03 -3.6968883e-02\n",
      " -3.9785248e-03  1.2453631e-02 -5.0987573e-03 -1.3998289e-04\n",
      " -2.6371907e-02 -1.2990584e-03 -1.9902898e-02  3.2032251e-02\n",
      "  7.1028732e-03 -3.2485433e-02  1.6753178e-02 -1.0251479e-02\n",
      " -2.3651045e-02  5.9455140e-03 -1.5199865e-03 -7.6179579e-04\n",
      " -2.2435574e-02 -8.4052524e-03  1.1749239e-02  1.1955754e-02\n",
      " -4.5731369e-02 -2.0449342e-02 -1.0449340e-02  4.1211225e-02\n",
      " -8.6706560e-03  7.6130047e-03 -1.9796180e-02 -2.0555848e-02\n",
      "  1.2545409e-02  2.4162820e-02  4.2482112e-02  3.9194608e-03\n",
      " -2.8347995e-02  2.2103520e-02 -5.0452668e-03 -3.0456265e-02\n",
      " -1.4083004e-03  1.5049791e-02 -5.6647375e-02 -3.2197692e-02\n",
      " -2.5386805e-02  1.7954944e-02  6.4009160e-04  2.7492570e-02\n",
      "  2.3482578e-02  1.1933754e-02  3.6834639e-02 -2.9793726e-02\n",
      "  7.2630825e-03 -2.7188865e-04  3.2500487e-02 -2.6399461e-03\n",
      "  1.7565522e-02 -1.1768731e-02 -1.5331859e-02 -2.1503588e-02\n",
      " -3.2667518e-02  3.3589337e-02  2.5393176e-03 -3.7226431e-02\n",
      " -2.3755664e-03  3.9773267e-02 -2.3141701e-03  9.5537109e-03\n",
      "  8.8031683e-03 -6.7265816e-02 -1.6527060e-02 -6.6085061e-04\n",
      " -7.2140344e-03 -1.5553387e-03  2.5919210e-02 -2.1038922e-02\n",
      " -1.3668887e-02 -1.2367721e-02 -1.0579569e-02 -2.4085186e-02\n",
      " -1.8000435e-02 -2.2768280e-03  3.0435740e-03 -2.0902980e-02\n",
      "  1.3997525e-02 -5.6963908e-03  2.1079578e-02 -1.0102082e-02\n",
      "  2.2797661e-02  9.5386188e-03 -3.0854648e-02  2.4181455e-02\n",
      "  5.2382489e-04 -2.6190402e-02  1.3049698e-02  2.8674962e-02\n",
      "  1.7544845e-02  1.7048800e-02  9.0573996e-04 -2.1733494e-02\n",
      " -2.0409892e-03 -1.6596094e-02 -5.1163901e-03 -2.7647749e-02\n",
      "  3.6166493e-02  1.6580375e-02 -7.0325751e-03  5.0250851e-03\n",
      " -5.6305129e-02  1.3169688e-02  2.3159940e-02  1.8118577e-02\n",
      "  3.2385036e-02  5.1881438e-03 -1.5490570e-03  1.0833069e-02\n",
      "  2.2309925e-02  1.3148689e-02 -1.4704489e-02 -8.0443053e-03\n",
      "  4.2413812e-02  1.3620612e-02  2.2782509e-03 -1.0078413e-02\n",
      " -1.2378922e-02 -8.6177075e-03 -6.1046206e-03 -3.8040690e-02\n",
      "  2.9692581e-02 -2.5277961e-02  1.9306812e-02 -2.0969229e-02\n",
      "  5.6417943e-03 -1.4927701e-02 -3.2454550e-02  1.7024932e-02\n",
      " -1.6157215e-02 -1.3945007e-02 -1.0357942e-03  3.1674065e-02\n",
      " -3.0800980e-03 -2.0450857e-02  2.0659920e-02  1.8294770e-02\n",
      "  2.9511483e-02  4.9691731e-03  2.3109669e-02 -1.3356299e-02\n",
      "  3.5742413e-02  1.0517361e-02 -4.1627724e-02  1.0387281e-02\n",
      "  8.7842550e-03  3.5519961e-02  1.5500334e-02  3.4255750e-02\n",
      "  2.8200971e-02  4.4784263e-02 -1.3988075e-02 -3.7472043e-02\n",
      "  8.2414765e-03 -1.2539181e-02 -3.1537201e-02  1.8399706e-02\n",
      "  1.9293059e-02 -2.4347769e-02  2.9945824e-02  4.8551215e-03\n",
      "  1.9057250e-02  1.2218120e-03  1.1258611e-03  7.0448401e-03\n",
      " -1.9201886e-02  6.3296896e-03 -1.8260496e-03  5.7717990e-03\n",
      " -2.3254097e-02 -5.5568181e-03 -5.6931566e-02 -1.4380171e-02\n",
      " -1.3581912e-02 -2.1119583e-02  5.2677598e-03 -1.5370593e-02\n",
      " -7.2962386e-03  1.1390842e-02  1.3268530e-02  8.5632624e-03\n",
      " -5.6401271e-02  1.9387705e-03  4.7903351e-02 -4.1185779e-04\n",
      " -2.5810523e-02 -7.6155891e-03  8.7152030e-03 -1.8493066e-02\n",
      " -1.1243304e-02 -9.5689483e-03 -2.5865197e-02 -1.7833756e-02\n",
      " -3.3078596e-02  1.3725610e-02 -9.7126961e-03 -3.3191029e-02\n",
      " -2.1734601e-02  3.2533710e-03  8.3691264e-03  2.9554339e-02\n",
      " -7.3588113e-03  4.2883395e-03  1.0537395e-02  3.4042206e-04\n",
      " -3.5116524e-02 -3.2209352e-02  1.5941691e-03  8.1423845e-05]\n"
     ]
    }
   ],
   "source": [
    "c = 0\n",
    "\n",
    "def calculate_average_embedding(tokens):\n",
    "    global c\n",
    "    embeddings = []\n",
    "    for token in tokens:\n",
    "        if token in model.words:\n",
    "            embeddings.append(model.get_word_vector(token))\n",
    "    if embeddings:\n",
    "        print(c, end=\" \")\n",
    "        c = c + 1\n",
    "        return sum(embeddings) / len(embeddings)\n",
    "    return None\n",
    "\n",
    "sample_index = 0\n",
    "sample_tokens = df.at[sample_index, 'tokens']\n",
    "sample_embedding = calculate_average_embedding(sample_tokens)\n",
    "print(sample_embedding)"
   ]
  },
  {
   "cell_type": "code",
   "execution_count": 11,
   "id": "94b5f7b9",
   "metadata": {},
   "outputs": [
    {
     "data": {
      "text/plain": [
       "(300,)"
      ]
     },
     "execution_count": 11,
     "metadata": {},
     "output_type": "execute_result"
    }
   ],
   "source": [
    "sample_embedding.shape"
   ]
  },
  {
   "cell_type": "code",
   "execution_count": null,
   "id": "bcc43ae3",
   "metadata": {},
   "outputs": [],
   "source": [
    "def calculate_average_embedding(tokens):\n",
    "    global c\n",
    "    embeddings = []\n",
    "    for token in tokens:\n",
    "        if token in model.words:\n",
    "            embeddings.append(model.get_word_vector(token))\n",
    "    if embeddings:\n",
    "        print(c, end=\" \")\n",
    "        c = c + 1\n",
    "        return sum(embeddings) / len(embeddings)\n",
    "    return None\n",
    "\n",
    "df['embedding'] = df['tokens'].apply(calculate_average_embedding)"
   ]
  },
  {
   "cell_type": "code",
   "execution_count": 2,
   "id": "eba6112e",
   "metadata": {},
   "outputs": [],
   "source": [
    "import pandas as pd\n",
    "df=pd.read_csv('preprocessed data with embedding new.csv')"
   ]
  },
  {
   "cell_type": "code",
   "execution_count": null,
   "id": "6fd3aac6",
   "metadata": {},
   "outputs": [],
   "source": [
    "import numpy as np\n",
    "def convert_embedding_text_to_list(embedding_text):\n",
    "    embedding_text = embedding_text.strip('[]')\n",
    "    return np.array([float(val) for val in embedding_text.split()])\n",
    "df['embedding'] = df['embedding'].apply(convert_embedding_text_to_list)"
   ]
  },
  {
   "cell_type": "code",
   "execution_count": 1,
   "id": "bf6c760a",
   "metadata": {},
   "outputs": [
    {
     "name": "stderr",
     "output_type": "stream",
     "text": [
      "Warning : `load_model` does not return WordVectorModel or SupervisedModel any more, but a `FastText` object which is very similar.\n"
     ]
    }
   ],
   "source": [
    "import fasttext\n",
    "model = fasttext.load_model(\"fasttext1.model\")"
   ]
  },
  {
   "cell_type": "code",
   "execution_count": null,
   "id": "11b7b2d2",
   "metadata": {},
   "outputs": [],
   "source": [
    "df"
   ]
  },
  {
   "cell_type": "code",
   "execution_count": 4,
   "id": "0feeb840",
   "metadata": {},
   "outputs": [
    {
     "data": {
      "text/plain": [
       "'[-1.30272750e-02 -4.18373235e-02  5.47302850e-02 -1.65502690e-02\\n  2.61915810e-02  1.81818958e-02  5.29810903e-04  8.59068334e-03\\n -4.37802374e-02  1.12811588e-01  2.18477263e-03  5.15055545e-02\\n  7.70787075e-02 -2.10558511e-02 -1.11093847e-02 -8.97094235e-03\\n  3.68309319e-02  3.34026059e-03 -7.97583908e-02 -3.95215712e-02\\n -7.29698688e-03  5.04203094e-03  5.38174808e-02 -3.33480984e-02\\n -1.47589203e-02  5.27783344e-03  7.03976825e-02  1.89414974e-02\\n -5.80153079e-04  1.40405167e-02 -4.74160798e-02  6.15441520e-03\\n  3.25674564e-02  2.07555108e-02 -6.37127971e-03  2.78642634e-03\\n -1.99108347e-02 -1.27702756e-02  2.73479130e-02  3.36416513e-02\\n  1.96124744e-02  7.94289983e-04 -6.27895351e-03  4.15738998e-03\\n -9.78818536e-03 -1.33958580e-02 -3.15814130e-02  5.08455411e-02\\n -4.20942456e-02  9.30176675e-03 -4.14014794e-02 -1.26739275e-02\\n -3.17272171e-02 -2.33235899e-02  1.99605953e-02  5.67271002e-02\\n  8.71937536e-03 -5.86331030e-03  1.50389057e-02 -5.39531186e-02\\n -9.43452958e-03 -4.85417293e-03  4.76508439e-02 -1.68666318e-02\\n  2.12416071e-02  4.79296688e-03 -6.13312833e-02  8.06563273e-02\\n  4.18188572e-02 -2.04554736e-03 -3.02662943e-02 -1.79659128e-02\\n -2.00480260e-02 -2.30326001e-02 -2.84906803e-03 -1.51152571e-03\\n -4.85552736e-02 -3.75485839e-03  3.21230330e-02  1.67463515e-02\\n  1.73172746e-02  1.29635213e-02 -1.79922464e-03 -4.55818810e-02\\n -1.77442301e-02 -2.42493469e-02  1.78972876e-03 -7.88825098e-03\\n  4.92823310e-02 -3.31927799e-02  6.93591684e-02 -3.71057680e-03\\n  4.88018915e-02 -2.06023566e-02  3.47701758e-02  4.22879048e-02\\n  4.61834893e-02  2.75462773e-02 -1.95280705e-02 -9.68239922e-03\\n  1.18596792e-01  2.74216495e-02  2.82694548e-02 -1.71367470e-02\\n  1.05497632e-02  1.94888003e-02 -1.33707393e-02  2.73365714e-02\\n -5.98659515e-02  9.56943817e-03 -5.02687804e-02 -3.72770652e-02\\n -4.59686704e-02  9.71792452e-03 -1.69830881e-02  4.25149575e-02\\n  3.22189368e-02 -3.79875563e-02 -2.21653022e-02 -1.00280773e-02\\n  9.23170708e-03  1.65158175e-02 -5.71127748e-03 -3.11418362e-02\\n -1.19102243e-02 -5.67224100e-02  2.00439878e-02 -7.46193063e-03\\n  2.87173148e-02  2.93871015e-02  6.28245343e-03 -2.81995591e-02\\n  6.97797388e-02 -4.75764871e-02 -5.16505428e-02 -3.22248526e-02\\n -4.31662984e-03  3.27923782e-02  1.90774538e-02  1.51082026e-02\\n -2.19924096e-02  5.21582877e-03 -2.12900452e-02  1.81895085e-02\\n -4.18443568e-02  1.54577717e-02  4.42394987e-02 -3.39460857e-02\\n  8.89636762e-03  1.28058465e-02 -4.51131575e-02  4.73877154e-02\\n  1.72979422e-02 -4.50538769e-02 -6.85982406e-02  3.19180335e-03\\n -8.17878544e-03 -3.79096568e-02  2.85625309e-02 -2.83006188e-02\\n -4.14503291e-02  3.69573943e-03 -6.47046492e-02  2.81542595e-02\\n  3.31429318e-02  1.48607297e-02 -3.68344150e-02  3.53060439e-02\\n  6.73493594e-02 -1.64366271e-02  2.26131678e-02  2.35344586e-03\\n  3.77232693e-02  5.62873110e-03 -4.43866588e-02  2.37009451e-02\\n  2.63163447e-02 -1.02017298e-02  2.07458735e-02  3.73992026e-02\\n  5.41738980e-02  3.00399177e-02 -4.17122133e-02 -2.44449489e-02\\n -5.42816985e-03  4.81517762e-02 -2.52673030e-03 -6.55091107e-02\\n  1.86469816e-02  5.86662181e-02 -1.96223892e-02 -3.30670513e-02\\n -7.55364681e-03 -5.56422658e-02  2.98311673e-02  5.43028489e-02\\n  6.36253804e-02  8.97931121e-03 -8.37740302e-03  4.38714549e-02\\n  2.44458094e-02  4.05475721e-02 -1.94725953e-02 -2.46109348e-03\\n -1.23101159e-03 -2.13155486e-02 -2.38745660e-02  1.97617300e-02\\n -2.72476254e-03 -1.36882234e-02 -2.49068905e-03 -6.14169948e-02\\n  2.15476267e-02  1.17887510e-02  6.54886826e-04  5.16294651e-02\\n  1.02545312e-02 -2.51327939e-02 -9.12889559e-03  2.70543341e-02\\n -7.01144477e-03 -1.60981547e-02  1.52544659e-02  3.08315698e-02\\n -2.02641021e-02  8.15595035e-03 -1.20829861e-03 -2.30191387e-02\\n  5.84773719e-02  4.13588062e-02  4.39479463e-02 -3.39712128e-02\\n  8.33038427e-03 -5.68793900e-02 -4.94364649e-02 -3.60226408e-02\\n  4.34325635e-03  2.47683786e-02 -9.63535131e-05  8.83550756e-03\\n -2.36078855e-02  4.04195115e-02 -5.15091419e-02 -5.60441241e-03\\n  6.44428879e-02  3.23517695e-02  3.98723558e-02 -2.63442867e-03\\n -5.13997972e-02 -1.01978164e-02 -4.61518988e-02 -4.78025042e-02\\n  1.15692765e-02  1.31914672e-02 -5.50526790e-02  2.38727368e-02\\n  1.77054817e-03  7.92382099e-03  1.00762984e-02  1.94994323e-02\\n -3.15671158e-03  9.88442358e-03 -3.36426194e-03 -2.25269627e-02\\n -8.46852213e-02  7.76081532e-03 -3.23659293e-02 -6.85282126e-02\\n  3.09845842e-02 -5.84431365e-02  2.80443742e-03  2.38255505e-03\\n  2.18113922e-02  4.64698300e-02  6.06658235e-02  3.21376249e-02\\n  1.73741281e-02 -1.30348336e-02  9.20822937e-03 -2.11855713e-02\\n  1.41180921e-02 -2.78241131e-02 -5.24712019e-02 -1.08340392e-02\\n  1.08683165e-02 -9.99394506e-02  3.13672647e-02  4.74002445e-03\\n -1.61221884e-02 -1.45277847e-03  1.83806289e-02  2.81306654e-02\\n  1.94443315e-02 -1.39552057e-02 -2.42553186e-02 -1.30910678e-02\\n  5.07267714e-02 -2.71415226e-02  3.36680040e-02 -2.93472502e-02]'"
      ]
     },
     "execution_count": 4,
     "metadata": {},
     "output_type": "execute_result"
    }
   ],
   "source": [
    "df.embedding.iloc[417345]"
   ]
  },
  {
   "cell_type": "code",
   "execution_count": 4,
   "id": "0146f201",
   "metadata": {},
   "outputs": [
    {
     "data": {
      "text/plain": [
       "array(['academic interests', 'arts and culture', 'automotives',\n",
       "       'books and literature', 'business and finance', 'careers',\n",
       "       'family and relationships', 'food and drinks', 'health',\n",
       "       'healthy living', 'hobbies and interests', 'home and garden',\n",
       "       'movies', 'music and audio', 'news and politics',\n",
       "       'personal finance', 'pets',\n",
       "       'pharmaceuticals, conditions, and symptoms', 'real estate',\n",
       "       'shopping', 'sports', 'style and fashion',\n",
       "       'technology and computing', 'television', 'travel', 'video gaming'],\n",
       "      dtype=object)"
      ]
     },
     "execution_count": 4,
     "metadata": {},
     "output_type": "execute_result"
    }
   ],
   "source": [
    "categories=df.target.unique()\n",
    "categories"
   ]
  },
  {
   "cell_type": "code",
   "execution_count": 5,
   "id": "8485680c",
   "metadata": {},
   "outputs": [
    {
     "data": {
      "text/html": [
       "<div>\n",
       "<style scoped>\n",
       "    .dataframe tbody tr th:only-of-type {\n",
       "        vertical-align: middle;\n",
       "    }\n",
       "\n",
       "    .dataframe tbody tr th {\n",
       "        vertical-align: top;\n",
       "    }\n",
       "\n",
       "    .dataframe thead th {\n",
       "        text-align: right;\n",
       "    }\n",
       "</style>\n",
       "<table border=\"1\" class=\"dataframe\">\n",
       "  <thead>\n",
       "    <tr style=\"text-align: right;\">\n",
       "      <th></th>\n",
       "      <th>embedding</th>\n",
       "      <th>target</th>\n",
       "      <th>tokens</th>\n",
       "      <th>num_words</th>\n",
       "    </tr>\n",
       "  </thead>\n",
       "  <tbody>\n",
       "    <tr>\n",
       "      <th>0</th>\n",
       "      <td>[0.0555544, -0.03734458, 0.01071035, 0.0271636...</td>\n",
       "      <td>academic interests</td>\n",
       "      <td>('new', 'delhi', 'child', 'currently', 'class'...</td>\n",
       "      <td>246.0</td>\n",
       "    </tr>\n",
       "    <tr>\n",
       "      <th>1</th>\n",
       "      <td>[0.0464008301, -0.0346596166, 0.0095192017, 0....</td>\n",
       "      <td>academic interests</td>\n",
       "      <td>('chennai', 'engineering', 'graduate', 'bed', ...</td>\n",
       "      <td>243.0</td>\n",
       "    </tr>\n",
       "    <tr>\n",
       "      <th>2</th>\n",
       "      <td>[0.048127383, -0.0454384163, 0.012998187, 0.04...</td>\n",
       "      <td>academic interests</td>\n",
       "      <td>('london', 'indian', 'positive', 'child', 'tak...</td>\n",
       "      <td>293.0</td>\n",
       "    </tr>\n",
       "    <tr>\n",
       "      <th>3</th>\n",
       "      <td>[0.0435474627, -0.00376620353, 0.0347824506, 0...</td>\n",
       "      <td>academic interests</td>\n",
       "      <td>('rohtak', 'ongoing', 'policy', 'promote', 'co...</td>\n",
       "      <td>134.0</td>\n",
       "    </tr>\n",
       "    <tr>\n",
       "      <th>4</th>\n",
       "      <td>[0.03747706, -0.02551311, 0.00929986, 0.030947...</td>\n",
       "      <td>academic interests</td>\n",
       "      <td>('new', 'study', 'suggest', 'dinosaur', 'wipe'...</td>\n",
       "      <td>259.0</td>\n",
       "    </tr>\n",
       "    <tr>\n",
       "      <th>...</th>\n",
       "      <td>...</td>\n",
       "      <td>...</td>\n",
       "      <td>...</td>\n",
       "      <td>...</td>\n",
       "    </tr>\n",
       "    <tr>\n",
       "      <th>25995</th>\n",
       "      <td>[-0.0096949, -0.03182162, 0.04394349, -0.01106...</td>\n",
       "      <td>video gaming</td>\n",
       "      <td>('samsung', 'launch', 'flagship', 'galaxy', 's...</td>\n",
       "      <td>296.0</td>\n",
       "    </tr>\n",
       "    <tr>\n",
       "      <th>25996</th>\n",
       "      <td>[0.03216436, -0.01770613, 0.04899643, 0.066923...</td>\n",
       "      <td>video gaming</td>\n",
       "      <td>('inning', 'tendulkar', 'follow', 'former', 'a...</td>\n",
       "      <td>309.0</td>\n",
       "    </tr>\n",
       "    <tr>\n",
       "      <th>25997</th>\n",
       "      <td>[-0.0242476426, -0.0101837274, 0.0609096885, 0...</td>\n",
       "      <td>video gaming</td>\n",
       "      <td>('although', 'deepika', 'archive', 'fun', 'ins...</td>\n",
       "      <td>211.0</td>\n",
       "    </tr>\n",
       "    <tr>\n",
       "      <th>25998</th>\n",
       "      <td>[0.00509211281, -0.0240350142, 0.065707013, 0....</td>\n",
       "      <td>video gaming</td>\n",
       "      <td>('mumbai', 'r', 'ashwin', 'first', 'played', '...</td>\n",
       "      <td>266.0</td>\n",
       "    </tr>\n",
       "    <tr>\n",
       "      <th>25999</th>\n",
       "      <td>[0.00812605117, -0.0148538807, 0.0129225124, 0...</td>\n",
       "      <td>video gaming</td>\n",
       "      <td>('apple', 'tv', 'unveil', 'excite', 'new', 'te...</td>\n",
       "      <td>166.0</td>\n",
       "    </tr>\n",
       "  </tbody>\n",
       "</table>\n",
       "<p>26000 rows × 4 columns</p>\n",
       "</div>"
      ],
      "text/plain": [
       "                                               embedding              target  \\\n",
       "0      [0.0555544, -0.03734458, 0.01071035, 0.0271636...  academic interests   \n",
       "1      [0.0464008301, -0.0346596166, 0.0095192017, 0....  academic interests   \n",
       "2      [0.048127383, -0.0454384163, 0.012998187, 0.04...  academic interests   \n",
       "3      [0.0435474627, -0.00376620353, 0.0347824506, 0...  academic interests   \n",
       "4      [0.03747706, -0.02551311, 0.00929986, 0.030947...  academic interests   \n",
       "...                                                  ...                 ...   \n",
       "25995  [-0.0096949, -0.03182162, 0.04394349, -0.01106...        video gaming   \n",
       "25996  [0.03216436, -0.01770613, 0.04899643, 0.066923...        video gaming   \n",
       "25997  [-0.0242476426, -0.0101837274, 0.0609096885, 0...        video gaming   \n",
       "25998  [0.00509211281, -0.0240350142, 0.065707013, 0....        video gaming   \n",
       "25999  [0.00812605117, -0.0148538807, 0.0129225124, 0...        video gaming   \n",
       "\n",
       "                                                  tokens  num_words  \n",
       "0      ('new', 'delhi', 'child', 'currently', 'class'...      246.0  \n",
       "1      ('chennai', 'engineering', 'graduate', 'bed', ...      243.0  \n",
       "2      ('london', 'indian', 'positive', 'child', 'tak...      293.0  \n",
       "3      ('rohtak', 'ongoing', 'policy', 'promote', 'co...      134.0  \n",
       "4      ('new', 'study', 'suggest', 'dinosaur', 'wipe'...      259.0  \n",
       "...                                                  ...        ...  \n",
       "25995  ('samsung', 'launch', 'flagship', 'galaxy', 's...      296.0  \n",
       "25996  ('inning', 'tendulkar', 'follow', 'former', 'a...      309.0  \n",
       "25997  ('although', 'deepika', 'archive', 'fun', 'ins...      211.0  \n",
       "25998  ('mumbai', 'r', 'ashwin', 'first', 'played', '...      266.0  \n",
       "25999  ('apple', 'tv', 'unveil', 'excite', 'new', 'te...      166.0  \n",
       "\n",
       "[26000 rows x 4 columns]"
      ]
     },
     "execution_count": 5,
     "metadata": {},
     "output_type": "execute_result"
    }
   ],
   "source": [
    "sample_df = pd.DataFrame(columns=['embedding', 'target'])\n",
    "for category in categories:\n",
    "    category_samples = df[df['target'] == category].sample(1000)\n",
    "    sample_df = pd.concat([sample_df, category_samples])\n",
    "sample_df.reset_index(drop=True, inplace=True)\n",
    "sample_df"
   ]
  },
  {
   "cell_type": "code",
   "execution_count": 6,
   "id": "8089fe48",
   "metadata": {},
   "outputs": [
    {
     "name": "stdout",
     "output_type": "stream",
     "text": [
      "Note: you may need to restart the kernel to use updated packages.\n",
      "Requirement already satisfied: scikit-learn in c:\\users\\91836\\anaconda3\\envs\\fasttext_env\\lib\\site-packages (1.3.0)\n",
      "Requirement already satisfied: numpy>=1.17.3 in c:\\users\\91836\\anaconda3\\envs\\fasttext_env\\lib\\site-packages (from scikit-learn) (1.24.4)\n",
      "Requirement already satisfied: scipy>=1.5.0 in c:\\users\\91836\\anaconda3\\envs\\fasttext_env\\lib\\site-packages (from scikit-learn) (1.10.1)\n",
      "Requirement already satisfied: joblib>=1.1.1 in c:\\users\\91836\\anaconda3\\envs\\fasttext_env\\lib\\site-packages (from scikit-learn) (1.3.2)\n",
      "Requirement already satisfied: threadpoolctl>=2.0.0 in c:\\users\\91836\\anaconda3\\envs\\fasttext_env\\lib\\site-packages (from scikit-learn) (3.2.0)\n"
     ]
    }
   ],
   "source": [
    "pip install scikit-learn"
   ]
  },
  {
   "cell_type": "code",
   "execution_count": 7,
   "id": "4af2ab2e",
   "metadata": {},
   "outputs": [],
   "source": [
    "from sklearn.model_selection import train_test_split\n",
    "X = df['embedding'].tolist()\n",
    "y = df['target'].tolist()"
   ]
  },
  {
   "cell_type": "code",
   "execution_count": 8,
   "id": "718fd906",
   "metadata": {},
   "outputs": [],
   "source": [
    "X_train, X_test, y_train, y_test = train_test_split(X, y,train_size=0.8, stratify=y, random_state=42)"
   ]
  },
  {
   "cell_type": "code",
   "execution_count": 9,
   "id": "55f5823f",
   "metadata": {},
   "outputs": [],
   "source": [
    "from sklearn.svm import SVC\n",
    "from sklearn.metrics import accuracy_score, classification_report\n",
    "clf = SVC(kernel='linear', C=1, decision_function_shape='ovr')"
   ]
  },
  {
   "cell_type": "code",
   "execution_count": null,
   "id": "db620606",
   "metadata": {},
   "outputs": [],
   "source": [
    "clf.fit(X_train, y_train)\n",
    "y_pred = clf.predict(X_test)"
   ]
  },
  {
   "cell_type": "code",
   "execution_count": null,
   "id": "9a5bfdc2",
   "metadata": {},
   "outputs": [],
   "source": [
    "accuracy = accuracy_score(y_test, y_pred)\n",
    "print(f'Accuracy: {accuracy:.2f}')\n",
    "classification_rep = classification_report(y_test, y_pred)\n",
    "print('\\nClassification Report:')\n",
    "print(classification_rep)"
   ]
  },
  {
   "cell_type": "code",
   "execution_count": null,
   "id": "3de10a0f",
   "metadata": {},
   "outputs": [],
   "source": []
  }
 ],
 "metadata": {
  "kernelspec": {
   "display_name": "Python 3 (ipykernel)",
   "language": "python",
   "name": "python3"
  },
  "language_info": {
   "codemirror_mode": {
    "name": "ipython",
    "version": 3
   },
   "file_extension": ".py",
   "mimetype": "text/x-python",
   "name": "python",
   "nbconvert_exporter": "python",
   "pygments_lexer": "ipython3",
   "version": "3.9.7"
  }
 },
 "nbformat": 4,
 "nbformat_minor": 5
}
