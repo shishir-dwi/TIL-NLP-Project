{
 "cells": [
  {
   "cell_type": "markdown",
   "id": "5b5e9f6e",
   "metadata": {},
   "source": [
    "# Data Acquisition"
   ]
  },
  {
   "cell_type": "code",
   "execution_count": 1,
   "id": "36a0b466",
   "metadata": {},
   "outputs": [],
   "source": [
    "# Dependencies\n",
    "import numpy as nb\n",
    "import pandas as pd\n",
    "import matplotlib.pyplot as plt\n",
    "import seaborn as sns\n",
    "import re"
   ]
  },
  {
   "cell_type": "code",
   "execution_count": 2,
   "id": "7d8a9676",
   "metadata": {},
   "outputs": [],
   "source": [
    "categories = [\n",
    "    'Academic Interests',\n",
    "    'Arts and Culture',\n",
    "    'Automotive',\n",
    "    'Books and Literature',\n",
    "    'Business and Finance',\n",
    "    'Careers',\n",
    "    'Family and Relationships',\n",
    "    'Food and Drink',\n",
    "    'Health',\n",
    "    'Healthy Living',\n",
    "    'Hobbies and Interests',\n",
    "    'Home and Garden',\n",
    "    'Movies',\n",
    "    'Music and Audio',\n",
    "    'News and Politics',\n",
    "    'Personal Finance',\n",
    "    'Pets',\n",
    "    'Pharmaceuticals, Conditions, and Symptoms',\n",
    "    'Real Estate',\n",
    "    'Shopping',\n",
    "    'Sports',\n",
    "    'Style & Fashion',\n",
    "    'Technology & Computing',\n",
    "    'Television',\n",
    "    'Travel',\n",
    "    'Video Gaming'\n",
    "]"
   ]
  },
  {
   "cell_type": "markdown",
   "id": "7e5bd996",
   "metadata": {},
   "source": [
    "## Hugging Face Dataset"
   ]
  },
  {
   "cell_type": "code",
   "execution_count": 3,
   "id": "6089c58a",
   "metadata": {},
   "outputs": [
    {
     "data": {
      "text/html": [
       "<div>\n",
       "<style scoped>\n",
       "    .dataframe tbody tr th:only-of-type {\n",
       "        vertical-align: middle;\n",
       "    }\n",
       "\n",
       "    .dataframe tbody tr th {\n",
       "        vertical-align: top;\n",
       "    }\n",
       "\n",
       "    .dataframe thead th {\n",
       "        text-align: right;\n",
       "    }\n",
       "</style>\n",
       "<table border=\"1\" class=\"dataframe\">\n",
       "  <thead>\n",
       "    <tr style=\"text-align: right;\">\n",
       "      <th></th>\n",
       "      <th>text</th>\n",
       "      <th>target</th>\n",
       "    </tr>\n",
       "  </thead>\n",
       "  <tbody>\n",
       "    <tr>\n",
       "      <th>0</th>\n",
       "      <td>48 Hours in Hudson, NY. In March of 2021, I to...</td>\n",
       "      <td>Events_and_Attractions</td>\n",
       "    </tr>\n",
       "    <tr>\n",
       "      <th>1</th>\n",
       "      <td>Musik zu machen liegt uns im Blut. Einfach Kra...</td>\n",
       "      <td>Personal_Finance</td>\n",
       "    </tr>\n",
       "    <tr>\n",
       "      <th>2</th>\n",
       "      <td>Roohi’s trailer is haunting and hilarious at t...</td>\n",
       "      <td>Family_and_Relationships</td>\n",
       "    </tr>\n",
       "    <tr>\n",
       "      <th>3</th>\n",
       "      <td>2012 PLAYBOY JAZZ FESTIVAL FEATURES NEW ARTIST...</td>\n",
       "      <td>Music_and_Audio</td>\n",
       "    </tr>\n",
       "    <tr>\n",
       "      <th>4</th>\n",
       "      <td>FedEx Office Coupons &amp; Promo Codes. FedEx Offi...</td>\n",
       "      <td>Shopping</td>\n",
       "    </tr>\n",
       "    <tr>\n",
       "      <th>5</th>\n",
       "      <td>Selecting Words. 26) The Kumbh Mela is known f...</td>\n",
       "      <td>Technology___Computing</td>\n",
       "    </tr>\n",
       "    <tr>\n",
       "      <th>6</th>\n",
       "      <td>Sibley South. The wonderful Sibley Regional Vo...</td>\n",
       "      <td>Shopping</td>\n",
       "    </tr>\n",
       "    <tr>\n",
       "      <th>7</th>\n",
       "      <td>National Theatre: On Demand. In Schools. Natio...</td>\n",
       "      <td>Fine_Art</td>\n",
       "    </tr>\n",
       "    <tr>\n",
       "      <th>8</th>\n",
       "      <td>One Shot is Call of Duty: Advanced Warfare’s n...</td>\n",
       "      <td>Shopping</td>\n",
       "    </tr>\n",
       "    <tr>\n",
       "      <th>9</th>\n",
       "      <td>Pet Loss Books – Words Of Comfort From Pet Los...</td>\n",
       "      <td>Family_and_Relationships</td>\n",
       "    </tr>\n",
       "  </tbody>\n",
       "</table>\n",
       "</div>"
      ],
      "text/plain": [
       "                                                text                    target\n",
       "0  48 Hours in Hudson, NY. In March of 2021, I to...    Events_and_Attractions\n",
       "1  Musik zu machen liegt uns im Blut. Einfach Kra...          Personal_Finance\n",
       "2  Roohi’s trailer is haunting and hilarious at t...  Family_and_Relationships\n",
       "3  2012 PLAYBOY JAZZ FESTIVAL FEATURES NEW ARTIST...           Music_and_Audio\n",
       "4  FedEx Office Coupons & Promo Codes. FedEx Offi...                  Shopping\n",
       "5  Selecting Words. 26) The Kumbh Mela is known f...    Technology___Computing\n",
       "6  Sibley South. The wonderful Sibley Regional Vo...                  Shopping\n",
       "7  National Theatre: On Demand. In Schools. Natio...                  Fine_Art\n",
       "8  One Shot is Call of Duty: Advanced Warfare’s n...                  Shopping\n",
       "9  Pet Loss Books – Words Of Comfort From Pet Los...  Family_and_Relationships"
      ]
     },
     "execution_count": 3,
     "metadata": {},
     "output_type": "execute_result"
    }
   ],
   "source": [
    "df1 = pd.read_csv(\"C:\\\\Users\\\\asus\\\\NLP\\\\Hugging Face Dataset\\\\train.csv\")\n",
    "df1.head(10)"
   ]
  },
  {
   "cell_type": "code",
   "execution_count": 4,
   "id": "bcb7013c",
   "metadata": {
    "scrolled": true
   },
   "outputs": [
    {
     "data": {
      "text/html": [
       "<div>\n",
       "<style scoped>\n",
       "    .dataframe tbody tr th:only-of-type {\n",
       "        vertical-align: middle;\n",
       "    }\n",
       "\n",
       "    .dataframe tbody tr th {\n",
       "        vertical-align: top;\n",
       "    }\n",
       "\n",
       "    .dataframe thead th {\n",
       "        text-align: right;\n",
       "    }\n",
       "</style>\n",
       "<table border=\"1\" class=\"dataframe\">\n",
       "  <thead>\n",
       "    <tr style=\"text-align: right;\">\n",
       "      <th></th>\n",
       "      <th>text</th>\n",
       "      <th>target</th>\n",
       "    </tr>\n",
       "  </thead>\n",
       "  <tbody>\n",
       "    <tr>\n",
       "      <th>1</th>\n",
       "      <td>Musik zu machen liegt uns im Blut. Einfach Kra...</td>\n",
       "      <td>Personal_Finance</td>\n",
       "    </tr>\n",
       "    <tr>\n",
       "      <th>2</th>\n",
       "      <td>Roohi’s trailer is haunting and hilarious at t...</td>\n",
       "      <td>Family_and_Relationships</td>\n",
       "    </tr>\n",
       "    <tr>\n",
       "      <th>3</th>\n",
       "      <td>2012 PLAYBOY JAZZ FESTIVAL FEATURES NEW ARTIST...</td>\n",
       "      <td>Music_and_Audio</td>\n",
       "    </tr>\n",
       "    <tr>\n",
       "      <th>4</th>\n",
       "      <td>FedEx Office Coupons &amp; Promo Codes. FedEx Offi...</td>\n",
       "      <td>Shopping</td>\n",
       "    </tr>\n",
       "    <tr>\n",
       "      <th>5</th>\n",
       "      <td>Selecting Words. 26) The Kumbh Mela is known f...</td>\n",
       "      <td>Technology___Computing</td>\n",
       "    </tr>\n",
       "    <tr>\n",
       "      <th>6</th>\n",
       "      <td>Sibley South. The wonderful Sibley Regional Vo...</td>\n",
       "      <td>Shopping</td>\n",
       "    </tr>\n",
       "    <tr>\n",
       "      <th>7</th>\n",
       "      <td>National Theatre: On Demand. In Schools. Natio...</td>\n",
       "      <td>Fine_Art</td>\n",
       "    </tr>\n",
       "    <tr>\n",
       "      <th>8</th>\n",
       "      <td>One Shot is Call of Duty: Advanced Warfare’s n...</td>\n",
       "      <td>Shopping</td>\n",
       "    </tr>\n",
       "    <tr>\n",
       "      <th>9</th>\n",
       "      <td>Pet Loss Books – Words Of Comfort From Pet Los...</td>\n",
       "      <td>Family_and_Relationships</td>\n",
       "    </tr>\n",
       "    <tr>\n",
       "      <th>10</th>\n",
       "      <td>Store2Vec: DoorDash Recommendations with Mitch...</td>\n",
       "      <td>Technology___Computing</td>\n",
       "    </tr>\n",
       "  </tbody>\n",
       "</table>\n",
       "</div>"
      ],
      "text/plain": [
       "                                                 text  \\\n",
       "1   Musik zu machen liegt uns im Blut. Einfach Kra...   \n",
       "2   Roohi’s trailer is haunting and hilarious at t...   \n",
       "3   2012 PLAYBOY JAZZ FESTIVAL FEATURES NEW ARTIST...   \n",
       "4   FedEx Office Coupons & Promo Codes. FedEx Offi...   \n",
       "5   Selecting Words. 26) The Kumbh Mela is known f...   \n",
       "6   Sibley South. The wonderful Sibley Regional Vo...   \n",
       "7   National Theatre: On Demand. In Schools. Natio...   \n",
       "8   One Shot is Call of Duty: Advanced Warfare’s n...   \n",
       "9   Pet Loss Books – Words Of Comfort From Pet Los...   \n",
       "10  Store2Vec: DoorDash Recommendations with Mitch...   \n",
       "\n",
       "                      target  \n",
       "1           Personal_Finance  \n",
       "2   Family_and_Relationships  \n",
       "3            Music_and_Audio  \n",
       "4                   Shopping  \n",
       "5     Technology___Computing  \n",
       "6                   Shopping  \n",
       "7                   Fine_Art  \n",
       "8                   Shopping  \n",
       "9   Family_and_Relationships  \n",
       "10    Technology___Computing  "
      ]
     },
     "execution_count": 4,
     "metadata": {},
     "output_type": "execute_result"
    }
   ],
   "source": [
    "not_needed1 = ['Events_and_Attractions', 'Religion']\n",
    "df1 = df1[~df1['target'].isin(not_needed1)]\n",
    "df1.head(10)"
   ]
  },
  {
   "cell_type": "code",
   "execution_count": 5,
   "id": "aa59939f",
   "metadata": {
    "scrolled": false
   },
   "outputs": [
    {
     "data": {
      "text/html": [
       "<div>\n",
       "<style scoped>\n",
       "    .dataframe tbody tr th:only-of-type {\n",
       "        vertical-align: middle;\n",
       "    }\n",
       "\n",
       "    .dataframe tbody tr th {\n",
       "        vertical-align: top;\n",
       "    }\n",
       "\n",
       "    .dataframe thead th {\n",
       "        text-align: right;\n",
       "    }\n",
       "</style>\n",
       "<table border=\"1\" class=\"dataframe\">\n",
       "  <thead>\n",
       "    <tr style=\"text-align: right;\">\n",
       "      <th></th>\n",
       "      <th>text</th>\n",
       "      <th>target</th>\n",
       "    </tr>\n",
       "  </thead>\n",
       "  <tbody>\n",
       "    <tr>\n",
       "      <th>1</th>\n",
       "      <td>Musik zu machen liegt uns im Blut. Einfach Kra...</td>\n",
       "      <td>Personal Finance</td>\n",
       "    </tr>\n",
       "    <tr>\n",
       "      <th>2</th>\n",
       "      <td>Roohi’s trailer is haunting and hilarious at t...</td>\n",
       "      <td>Family and Relationships</td>\n",
       "    </tr>\n",
       "    <tr>\n",
       "      <th>3</th>\n",
       "      <td>2012 PLAYBOY JAZZ FESTIVAL FEATURES NEW ARTIST...</td>\n",
       "      <td>Music and Audio</td>\n",
       "    </tr>\n",
       "    <tr>\n",
       "      <th>4</th>\n",
       "      <td>FedEx Office Coupons &amp; Promo Codes. FedEx Offi...</td>\n",
       "      <td>Shopping</td>\n",
       "    </tr>\n",
       "    <tr>\n",
       "      <th>5</th>\n",
       "      <td>Selecting Words. 26) The Kumbh Mela is known f...</td>\n",
       "      <td>Technology and Computing</td>\n",
       "    </tr>\n",
       "    <tr>\n",
       "      <th>6</th>\n",
       "      <td>Sibley South. The wonderful Sibley Regional Vo...</td>\n",
       "      <td>Shopping</td>\n",
       "    </tr>\n",
       "    <tr>\n",
       "      <th>7</th>\n",
       "      <td>National Theatre: On Demand. In Schools. Natio...</td>\n",
       "      <td>Fine Art</td>\n",
       "    </tr>\n",
       "    <tr>\n",
       "      <th>8</th>\n",
       "      <td>One Shot is Call of Duty: Advanced Warfare’s n...</td>\n",
       "      <td>Shopping</td>\n",
       "    </tr>\n",
       "    <tr>\n",
       "      <th>9</th>\n",
       "      <td>Pet Loss Books – Words Of Comfort From Pet Los...</td>\n",
       "      <td>Family and Relationships</td>\n",
       "    </tr>\n",
       "    <tr>\n",
       "      <th>10</th>\n",
       "      <td>Store2Vec: DoorDash Recommendations with Mitch...</td>\n",
       "      <td>Technology and Computing</td>\n",
       "    </tr>\n",
       "  </tbody>\n",
       "</table>\n",
       "</div>"
      ],
      "text/plain": [
       "                                                 text  \\\n",
       "1   Musik zu machen liegt uns im Blut. Einfach Kra...   \n",
       "2   Roohi’s trailer is haunting and hilarious at t...   \n",
       "3   2012 PLAYBOY JAZZ FESTIVAL FEATURES NEW ARTIST...   \n",
       "4   FedEx Office Coupons & Promo Codes. FedEx Offi...   \n",
       "5   Selecting Words. 26) The Kumbh Mela is known f...   \n",
       "6   Sibley South. The wonderful Sibley Regional Vo...   \n",
       "7   National Theatre: On Demand. In Schools. Natio...   \n",
       "8   One Shot is Call of Duty: Advanced Warfare’s n...   \n",
       "9   Pet Loss Books – Words Of Comfort From Pet Los...   \n",
       "10  Store2Vec: DoorDash Recommendations with Mitch...   \n",
       "\n",
       "                      target  \n",
       "1           Personal Finance  \n",
       "2   Family and Relationships  \n",
       "3            Music and Audio  \n",
       "4                   Shopping  \n",
       "5   Technology and Computing  \n",
       "6                   Shopping  \n",
       "7                   Fine Art  \n",
       "8                   Shopping  \n",
       "9   Family and Relationships  \n",
       "10  Technology and Computing  "
      ]
     },
     "execution_count": 5,
     "metadata": {},
     "output_type": "execute_result"
    }
   ],
   "source": [
    "def fix_iab_category(category):\n",
    "    category = re.sub(r'_{3}', ' and ', category)\n",
    "    category = category.replace('_', ' ')\n",
    "\n",
    "    return category\n",
    "\n",
    "df1.target = df1.target.apply(fix_iab_category)\n",
    "df1.head(10)"
   ]
  },
  {
   "cell_type": "code",
   "execution_count": 6,
   "id": "7a0a7168",
   "metadata": {},
   "outputs": [],
   "source": [
    "df1.target = df1.target.replace({'Fine Art': 'Arts and Culture', 'Pop Culture': 'Arts and Culture',\n",
    "                                 'Medical Health': 'Health', 'Science':'Academic Interests'})"
   ]
  },
  {
   "cell_type": "code",
   "execution_count": 7,
   "id": "c16d6311",
   "metadata": {},
   "outputs": [
    {
     "data": {
      "text/plain": [
       "array(['Personal Finance', 'Family and Relationships', 'Music and Audio',\n",
       "       'Shopping', 'Technology and Computing', 'Arts and Culture',\n",
       "       'Business and Finance', 'Television', 'Healthy Living', 'Sports',\n",
       "       'Style and Fashion', 'Travel', 'Automotive', 'Health',\n",
       "       'Hobbies and Interests', 'Academic Interests', 'Pets', 'Careers',\n",
       "       'News and Politics', 'Movies', 'Home and Garden', 'Real Estate',\n",
       "       'Video Gaming'], dtype=object)"
      ]
     },
     "execution_count": 7,
     "metadata": {},
     "output_type": "execute_result"
    }
   ],
   "source": [
    "pd.unique(df1.target)"
   ]
  },
  {
   "cell_type": "code",
   "execution_count": 8,
   "id": "f7243009",
   "metadata": {},
   "outputs": [
    {
     "data": {
      "text/plain": [
       "23"
      ]
     },
     "execution_count": 8,
     "metadata": {},
     "output_type": "execute_result"
    }
   ],
   "source": [
    "len(pd.unique(df1.target))"
   ]
  },
  {
   "cell_type": "code",
   "execution_count": 9,
   "id": "0d7aa081",
   "metadata": {},
   "outputs": [
    {
     "data": {
      "text/plain": [
       "(4642, 2)"
      ]
     },
     "execution_count": 9,
     "metadata": {},
     "output_type": "execute_result"
    }
   ],
   "source": [
    "df1.shape"
   ]
  },
  {
   "cell_type": "code",
   "execution_count": 10,
   "id": "037fc835",
   "metadata": {
    "scrolled": true
   },
   "outputs": [
    {
     "data": {
      "image/png": "[encoded data removed]",
      "text/plain": [
       "<Figure size 432x288 with 1 Axes>"
      ]
     },
     "metadata": {
      "needs_background": "light"
     },
     "output_type": "display_data"
    }
   ],
   "source": [
    "sns.countplot(x = 'target', data = df1)\n",
    "plt.xlabel('Categories')\n",
    "plt.ylabel('Count')\n",
    "plt.title('Countplot: ')\n",
    "plt.show()"
   ]
  },
  {
   "cell_type": "code",
   "execution_count": 11,
   "id": "fbf9dbc0",
   "metadata": {
    "scrolled": false
   },
   "outputs": [
    {
     "data": {
      "text/plain": [
       "Sports                      586\n",
       "Business and Finance        471\n",
       "Technology and Computing    355\n",
       "Style and Fashion           345\n",
       "Health                      326\n",
       "Hobbies and Interests       297\n",
       "Music and Audio             290\n",
       "Personal Finance            258\n",
       "Travel                      224\n",
       "Automotive                  214\n",
       "Healthy Living              141\n",
       "Video Gaming                130\n",
       "Family and Relationships    115\n",
       "Television                  109\n",
       "Arts and Culture            100\n",
       "Home and Garden              98\n",
       "Movies                       96\n",
       "Shopping                     90\n",
       "News and Politics            86\n",
       "Real Estate                  85\n",
       "Academic Interests           82\n",
       "Pets                         76\n",
       "Careers                      68\n",
       "Name: target, dtype: int64"
      ]
     },
     "execution_count": 11,
     "metadata": {},
     "output_type": "execute_result"
    }
   ],
   "source": [
    "df1.target.value_counts()"
   ]
  },
  {
   "cell_type": "markdown",
   "id": "efc7c66b",
   "metadata": {},
   "source": [
    "#### Conclusion: Data is imbalanced and more data is needed"
   ]
  },
  {
   "cell_type": "markdown",
   "id": "a138cbc2",
   "metadata": {},
   "source": [
    "## Kaggle Dataset"
   ]
  },
  {
   "cell_type": "code",
   "execution_count": 12,
   "id": "d1d2433e",
   "metadata": {
    "scrolled": false
   },
   "outputs": [
    {
     "name": "stderr",
     "output_type": "stream",
     "text": [
      "C:\\Users\\asus\\AppData\\Local\\Temp/ipykernel_12672/780063045.py:1: DtypeWarning: Columns (6,7,8,9,10,11,12,13,14,15,16,17,18,19,20,21,27,28,29,30) have mixed types. Specify dtype option on import or set low_memory=False.\n",
      "  df2 = pd.read_csv('training_data_en.csv')\n"
     ]
    },
    {
     "data": {
      "text/html": [
       "<div>\n",
       "<style scoped>\n",
       "    .dataframe tbody tr th:only-of-type {\n",
       "        vertical-align: middle;\n",
       "    }\n",
       "\n",
       "    .dataframe tbody tr th {\n",
       "        vertical-align: top;\n",
       "    }\n",
       "\n",
       "    .dataframe thead th {\n",
       "        text-align: right;\n",
       "    }\n",
       "</style>\n",
       "<table border=\"1\" class=\"dataframe\">\n",
       "  <thead>\n",
       "    <tr style=\"text-align: right;\">\n",
       "      <th></th>\n",
       "      <th>target</th>\n",
       "      <th>text1</th>\n",
       "      <th>text2</th>\n",
       "      <th>text3</th>\n",
       "      <th>Unnamed: 4</th>\n",
       "      <th>Unnamed: 5</th>\n",
       "      <th>Unnamed: 6</th>\n",
       "      <th>Unnamed: 7</th>\n",
       "      <th>Unnamed: 8</th>\n",
       "      <th>Unnamed: 9</th>\n",
       "      <th>...</th>\n",
       "      <th>Unnamed: 21</th>\n",
       "      <th>Unnamed: 22</th>\n",
       "      <th>Unnamed: 23</th>\n",
       "      <th>Unnamed: 24</th>\n",
       "      <th>Unnamed: 25</th>\n",
       "      <th>Unnamed: 26</th>\n",
       "      <th>Unnamed: 27</th>\n",
       "      <th>Unnamed: 28</th>\n",
       "      <th>Unnamed: 29</th>\n",
       "      <th>Unnamed: 30</th>\n",
       "    </tr>\n",
       "  </thead>\n",
       "  <tbody>\n",
       "    <tr>\n",
       "      <th>0</th>\n",
       "      <td>/Travel</td>\n",
       "      <td>tourist scavenger hunt self guided walking tou...</td>\n",
       "      <td>explore the city with our 2-3 hour tourist sca...</td>\n",
       "      <td>NaN</td>\n",
       "      <td>NaN</td>\n",
       "      <td>NaN</td>\n",
       "      <td>NaN</td>\n",
       "      <td>NaN</td>\n",
       "      <td>NaN</td>\n",
       "      <td>NaN</td>\n",
       "      <td>...</td>\n",
       "      <td>NaN</td>\n",
       "      <td>NaN</td>\n",
       "      <td>NaN</td>\n",
       "      <td>NaN</td>\n",
       "      <td>NaN</td>\n",
       "      <td>NaN</td>\n",
       "      <td>NaN</td>\n",
       "      <td>NaN</td>\n",
       "      <td>NaN</td>\n",
       "      <td>NaN</td>\n",
       "    </tr>\n",
       "    <tr>\n",
       "      <th>1</th>\n",
       "      <td>/Books &amp; Literature</td>\n",
       "      <td>tween 2 teen book reviews</td>\n",
       "      <td>NaN</td>\n",
       "      <td>NaN</td>\n",
       "      <td>NaN</td>\n",
       "      <td>NaN</td>\n",
       "      <td>NaN</td>\n",
       "      <td>NaN</td>\n",
       "      <td>NaN</td>\n",
       "      <td>NaN</td>\n",
       "      <td>...</td>\n",
       "      <td>NaN</td>\n",
       "      <td>NaN</td>\n",
       "      <td>NaN</td>\n",
       "      <td>NaN</td>\n",
       "      <td>NaN</td>\n",
       "      <td>NaN</td>\n",
       "      <td>NaN</td>\n",
       "      <td>NaN</td>\n",
       "      <td>NaN</td>\n",
       "      <td>NaN</td>\n",
       "    </tr>\n",
       "    <tr>\n",
       "      <th>2</th>\n",
       "      <td>/Hobbies &amp; Leisure/Outdoors/Hiking &amp; Camping</td>\n",
       "      <td>planned spontaneity – a blog about hiking arou...</td>\n",
       "      <td>a blog about hiking around the midwest and beyond</td>\n",
       "      <td>NaN</td>\n",
       "      <td>NaN</td>\n",
       "      <td>NaN</td>\n",
       "      <td>NaN</td>\n",
       "      <td>NaN</td>\n",
       "      <td>NaN</td>\n",
       "      <td>NaN</td>\n",
       "      <td>...</td>\n",
       "      <td>NaN</td>\n",
       "      <td>NaN</td>\n",
       "      <td>NaN</td>\n",
       "      <td>NaN</td>\n",
       "      <td>NaN</td>\n",
       "      <td>NaN</td>\n",
       "      <td>NaN</td>\n",
       "      <td>NaN</td>\n",
       "      <td>NaN</td>\n",
       "      <td>NaN</td>\n",
       "    </tr>\n",
       "    <tr>\n",
       "      <th>3</th>\n",
       "      <td>Team Sports/</td>\n",
       "      <td>- soccerplayer.net</td>\n",
       "      <td>NaN</td>\n",
       "      <td>NaN</td>\n",
       "      <td>NaN</td>\n",
       "      <td>NaN</td>\n",
       "      <td>NaN</td>\n",
       "      <td>NaN</td>\n",
       "      <td>NaN</td>\n",
       "      <td>NaN</td>\n",
       "      <td>...</td>\n",
       "      <td>NaN</td>\n",
       "      <td>NaN</td>\n",
       "      <td>NaN</td>\n",
       "      <td>NaN</td>\n",
       "      <td>NaN</td>\n",
       "      <td>NaN</td>\n",
       "      <td>NaN</td>\n",
       "      <td>NaN</td>\n",
       "      <td>NaN</td>\n",
       "      <td>NaN</td>\n",
       "    </tr>\n",
       "    <tr>\n",
       "      <th>4</th>\n",
       "      <td>Soccer</td>\n",
       "      <td>- soccerplayer.net</td>\n",
       "      <td>NaN</td>\n",
       "      <td>NaN</td>\n",
       "      <td>NaN</td>\n",
       "      <td>NaN</td>\n",
       "      <td>NaN</td>\n",
       "      <td>NaN</td>\n",
       "      <td>NaN</td>\n",
       "      <td>NaN</td>\n",
       "      <td>...</td>\n",
       "      <td>NaN</td>\n",
       "      <td>NaN</td>\n",
       "      <td>NaN</td>\n",
       "      <td>NaN</td>\n",
       "      <td>NaN</td>\n",
       "      <td>NaN</td>\n",
       "      <td>NaN</td>\n",
       "      <td>NaN</td>\n",
       "      <td>NaN</td>\n",
       "      <td>NaN</td>\n",
       "    </tr>\n",
       "    <tr>\n",
       "      <th>5</th>\n",
       "      <td>/Sports/Team Sports/Soccer</td>\n",
       "      <td>- soccerplayer.net</td>\n",
       "      <td>NaN</td>\n",
       "      <td>NaN</td>\n",
       "      <td>NaN</td>\n",
       "      <td>NaN</td>\n",
       "      <td>NaN</td>\n",
       "      <td>NaN</td>\n",
       "      <td>NaN</td>\n",
       "      <td>NaN</td>\n",
       "      <td>...</td>\n",
       "      <td>NaN</td>\n",
       "      <td>NaN</td>\n",
       "      <td>NaN</td>\n",
       "      <td>NaN</td>\n",
       "      <td>NaN</td>\n",
       "      <td>NaN</td>\n",
       "      <td>NaN</td>\n",
       "      <td>NaN</td>\n",
       "      <td>NaN</td>\n",
       "      <td>NaN</td>\n",
       "    </tr>\n",
       "    <tr>\n",
       "      <th>6</th>\n",
       "      <td>/Autos &amp; Vehicles/Motor Vehicles (By Type)/Off...</td>\n",
       "      <td>utv accessories &amp; parts | find the best side b...</td>\n",
       "      <td>find the right side by side accessories for yo...</td>\n",
       "      <td>NaN</td>\n",
       "      <td>NaN</td>\n",
       "      <td>NaN</td>\n",
       "      <td>NaN</td>\n",
       "      <td>NaN</td>\n",
       "      <td>NaN</td>\n",
       "      <td>NaN</td>\n",
       "      <td>...</td>\n",
       "      <td>NaN</td>\n",
       "      <td>NaN</td>\n",
       "      <td>NaN</td>\n",
       "      <td>NaN</td>\n",
       "      <td>NaN</td>\n",
       "      <td>NaN</td>\n",
       "      <td>NaN</td>\n",
       "      <td>NaN</td>\n",
       "      <td>NaN</td>\n",
       "      <td>NaN</td>\n",
       "    </tr>\n",
       "    <tr>\n",
       "      <th>7</th>\n",
       "      <td>/Business &amp; Industrial/Construction &amp; Maintena...</td>\n",
       "      <td>tarps, large canvas tarp, &amp; canvas tarp manufa...</td>\n",
       "      <td>debrovy's is the ideal tarp manufacturer in th...</td>\n",
       "      <td>tarp  tarps and canvas  baseball field tarps  ...</td>\n",
       "      <td>NaN</td>\n",
       "      <td>NaN</td>\n",
       "      <td>NaN</td>\n",
       "      <td>NaN</td>\n",
       "      <td>NaN</td>\n",
       "      <td>NaN</td>\n",
       "      <td>...</td>\n",
       "      <td>NaN</td>\n",
       "      <td>NaN</td>\n",
       "      <td>NaN</td>\n",
       "      <td>NaN</td>\n",
       "      <td>NaN</td>\n",
       "      <td>NaN</td>\n",
       "      <td>NaN</td>\n",
       "      <td>NaN</td>\n",
       "      <td>NaN</td>\n",
       "      <td>NaN</td>\n",
       "    </tr>\n",
       "    <tr>\n",
       "      <th>8</th>\n",
       "      <td>/Arts &amp; Entertainment</td>\n",
       "      <td>perfectly disheveled</td>\n",
       "      <td>NaN</td>\n",
       "      <td>NaN</td>\n",
       "      <td>NaN</td>\n",
       "      <td>NaN</td>\n",
       "      <td>NaN</td>\n",
       "      <td>NaN</td>\n",
       "      <td>NaN</td>\n",
       "      <td>NaN</td>\n",
       "      <td>...</td>\n",
       "      <td>NaN</td>\n",
       "      <td>NaN</td>\n",
       "      <td>NaN</td>\n",
       "      <td>NaN</td>\n",
       "      <td>NaN</td>\n",
       "      <td>NaN</td>\n",
       "      <td>NaN</td>\n",
       "      <td>NaN</td>\n",
       "      <td>NaN</td>\n",
       "      <td>NaN</td>\n",
       "    </tr>\n",
       "    <tr>\n",
       "      <th>9</th>\n",
       "      <td>/Home &amp; Garden/Home Furnishings</td>\n",
       "      <td>urban barn</td>\n",
       "      <td>furniture and accessories for your home and of...</td>\n",
       "      <td>urban barn</td>\n",
       "      <td>NaN</td>\n",
       "      <td>NaN</td>\n",
       "      <td>NaN</td>\n",
       "      <td>NaN</td>\n",
       "      <td>NaN</td>\n",
       "      <td>NaN</td>\n",
       "      <td>...</td>\n",
       "      <td>NaN</td>\n",
       "      <td>NaN</td>\n",
       "      <td>NaN</td>\n",
       "      <td>NaN</td>\n",
       "      <td>NaN</td>\n",
       "      <td>NaN</td>\n",
       "      <td>NaN</td>\n",
       "      <td>NaN</td>\n",
       "      <td>NaN</td>\n",
       "      <td>NaN</td>\n",
       "    </tr>\n",
       "  </tbody>\n",
       "</table>\n",
       "<p>10 rows × 31 columns</p>\n",
       "</div>"
      ],
      "text/plain": [
       "                                              target  \\\n",
       "0                                            /Travel   \n",
       "1                                /Books & Literature   \n",
       "2       /Hobbies & Leisure/Outdoors/Hiking & Camping   \n",
       "3                                       Team Sports/   \n",
       "4                                             Soccer   \n",
       "5                         /Sports/Team Sports/Soccer   \n",
       "6  /Autos & Vehicles/Motor Vehicles (By Type)/Off...   \n",
       "7  /Business & Industrial/Construction & Maintena...   \n",
       "8                              /Arts & Entertainment   \n",
       "9                    /Home & Garden/Home Furnishings   \n",
       "\n",
       "                                               text1  \\\n",
       "0  tourist scavenger hunt self guided walking tou...   \n",
       "1                          tween 2 teen book reviews   \n",
       "2  planned spontaneity – a blog about hiking arou...   \n",
       "3                                 - soccerplayer.net   \n",
       "4                                 - soccerplayer.net   \n",
       "5                                 - soccerplayer.net   \n",
       "6  utv accessories & parts | find the best side b...   \n",
       "7  tarps, large canvas tarp, & canvas tarp manufa...   \n",
       "8                               perfectly disheveled   \n",
       "9                                         urban barn   \n",
       "\n",
       "                                               text2  \\\n",
       "0  explore the city with our 2-3 hour tourist sca...   \n",
       "1                                                NaN   \n",
       "2  a blog about hiking around the midwest and beyond   \n",
       "3                                                NaN   \n",
       "4                                                NaN   \n",
       "5                                                NaN   \n",
       "6  find the right side by side accessories for yo...   \n",
       "7  debrovy's is the ideal tarp manufacturer in th...   \n",
       "8                                                NaN   \n",
       "9  furniture and accessories for your home and of...   \n",
       "\n",
       "                                               text3 Unnamed: 4 Unnamed: 5  \\\n",
       "0                                                NaN        NaN        NaN   \n",
       "1                                                NaN        NaN        NaN   \n",
       "2                                                NaN        NaN        NaN   \n",
       "3                                                NaN        NaN        NaN   \n",
       "4                                                NaN        NaN        NaN   \n",
       "5                                                NaN        NaN        NaN   \n",
       "6                                                NaN        NaN        NaN   \n",
       "7  tarp  tarps and canvas  baseball field tarps  ...        NaN        NaN   \n",
       "8                                                NaN        NaN        NaN   \n",
       "9                                         urban barn        NaN        NaN   \n",
       "\n",
       "  Unnamed: 6 Unnamed: 7 Unnamed: 8 Unnamed: 9  ... Unnamed: 21 Unnamed: 22  \\\n",
       "0        NaN        NaN        NaN        NaN  ...         NaN         NaN   \n",
       "1        NaN        NaN        NaN        NaN  ...         NaN         NaN   \n",
       "2        NaN        NaN        NaN        NaN  ...         NaN         NaN   \n",
       "3        NaN        NaN        NaN        NaN  ...         NaN         NaN   \n",
       "4        NaN        NaN        NaN        NaN  ...         NaN         NaN   \n",
       "5        NaN        NaN        NaN        NaN  ...         NaN         NaN   \n",
       "6        NaN        NaN        NaN        NaN  ...         NaN         NaN   \n",
       "7        NaN        NaN        NaN        NaN  ...         NaN         NaN   \n",
       "8        NaN        NaN        NaN        NaN  ...         NaN         NaN   \n",
       "9        NaN        NaN        NaN        NaN  ...         NaN         NaN   \n",
       "\n",
       "  Unnamed: 23 Unnamed: 24 Unnamed: 25 Unnamed: 26 Unnamed: 27 Unnamed: 28  \\\n",
       "0         NaN         NaN         NaN         NaN         NaN         NaN   \n",
       "1         NaN         NaN         NaN         NaN         NaN         NaN   \n",
       "2         NaN         NaN         NaN         NaN         NaN         NaN   \n",
       "3         NaN         NaN         NaN         NaN         NaN         NaN   \n",
       "4         NaN         NaN         NaN         NaN         NaN         NaN   \n",
       "5         NaN         NaN         NaN         NaN         NaN         NaN   \n",
       "6         NaN         NaN         NaN         NaN         NaN         NaN   \n",
       "7         NaN         NaN         NaN         NaN         NaN         NaN   \n",
       "8         NaN         NaN         NaN         NaN         NaN         NaN   \n",
       "9         NaN         NaN         NaN         NaN         NaN         NaN   \n",
       "\n",
       "  Unnamed: 29 Unnamed: 30  \n",
       "0         NaN         NaN  \n",
       "1         NaN         NaN  \n",
       "2         NaN         NaN  \n",
       "3         NaN         NaN  \n",
       "4         NaN         NaN  \n",
       "5         NaN         NaN  \n",
       "6         NaN         NaN  \n",
       "7         NaN         NaN  \n",
       "8         NaN         NaN  \n",
       "9         NaN         NaN  \n",
       "\n",
       "[10 rows x 31 columns]"
      ]
     },
     "execution_count": 12,
     "metadata": {},
     "output_type": "execute_result"
    }
   ],
   "source": [
    "df2 = pd.read_csv('training_data_en.csv')\n",
    "df2.head(10)"
   ]
  },
  {
   "cell_type": "code",
   "execution_count": 13,
   "id": "bf23f513",
   "metadata": {},
   "outputs": [],
   "source": [
    "unnamed_columns = df2.columns[df2.columns.str.startswith('Unnamed:')]\n",
    "df2 = df2.drop(columns=unnamed_columns)"
   ]
  },
  {
   "cell_type": "code",
   "execution_count": 14,
   "id": "1e927c3d",
   "metadata": {},
   "outputs": [],
   "source": [
    "df2.text1 = df2.text1.fillna('')\n",
    "df2.text2 = df2.text2.fillna('')\n",
    "df2.text3 = df2.text3.fillna('')\n",
    "\n",
    "df2['text'] = df2['text1'] + \" \" + df2['text2'] + \" \" + df2['text3']"
   ]
  },
  {
   "cell_type": "code",
   "execution_count": 15,
   "id": "94eb67f0",
   "metadata": {},
   "outputs": [],
   "source": [
    "df2 = df2.drop(columns= ['text1', 'text2', 'text3'])"
   ]
  },
  {
   "cell_type": "code",
   "execution_count": 16,
   "id": "3a878b22",
   "metadata": {
    "scrolled": false
   },
   "outputs": [
    {
     "data": {
      "text/html": [
       "<div>\n",
       "<style scoped>\n",
       "    .dataframe tbody tr th:only-of-type {\n",
       "        vertical-align: middle;\n",
       "    }\n",
       "\n",
       "    .dataframe tbody tr th {\n",
       "        vertical-align: top;\n",
       "    }\n",
       "\n",
       "    .dataframe thead th {\n",
       "        text-align: right;\n",
       "    }\n",
       "</style>\n",
       "<table border=\"1\" class=\"dataframe\">\n",
       "  <thead>\n",
       "    <tr style=\"text-align: right;\">\n",
       "      <th></th>\n",
       "      <th>target</th>\n",
       "      <th>text</th>\n",
       "    </tr>\n",
       "  </thead>\n",
       "  <tbody>\n",
       "    <tr>\n",
       "      <th>0</th>\n",
       "      <td>Travel</td>\n",
       "      <td>tourist scavenger hunt self guided walking tou...</td>\n",
       "    </tr>\n",
       "    <tr>\n",
       "      <th>1</th>\n",
       "      <td>Books &amp; Literature</td>\n",
       "      <td>tween 2 teen book reviews</td>\n",
       "    </tr>\n",
       "    <tr>\n",
       "      <th>2</th>\n",
       "      <td>Hobbies &amp; Leisure</td>\n",
       "      <td>planned spontaneity – a blog about hiking arou...</td>\n",
       "    </tr>\n",
       "    <tr>\n",
       "      <th>3</th>\n",
       "      <td>Team Sports</td>\n",
       "      <td>- soccerplayer.net</td>\n",
       "    </tr>\n",
       "    <tr>\n",
       "      <th>4</th>\n",
       "      <td>Soccer</td>\n",
       "      <td>- soccerplayer.net</td>\n",
       "    </tr>\n",
       "    <tr>\n",
       "      <th>5</th>\n",
       "      <td>Sports</td>\n",
       "      <td>- soccerplayer.net</td>\n",
       "    </tr>\n",
       "    <tr>\n",
       "      <th>6</th>\n",
       "      <td>Autos &amp; Vehicles</td>\n",
       "      <td>utv accessories &amp; parts | find the best side b...</td>\n",
       "    </tr>\n",
       "    <tr>\n",
       "      <th>7</th>\n",
       "      <td>Business &amp; Industrial</td>\n",
       "      <td>tarps, large canvas tarp, &amp; canvas tarp manufa...</td>\n",
       "    </tr>\n",
       "    <tr>\n",
       "      <th>8</th>\n",
       "      <td>Arts &amp; Entertainment</td>\n",
       "      <td>perfectly disheveled</td>\n",
       "    </tr>\n",
       "    <tr>\n",
       "      <th>9</th>\n",
       "      <td>Home &amp; Garden</td>\n",
       "      <td>urban barn furniture and accessories for your ...</td>\n",
       "    </tr>\n",
       "  </tbody>\n",
       "</table>\n",
       "</div>"
      ],
      "text/plain": [
       "                  target                                               text\n",
       "0                 Travel  tourist scavenger hunt self guided walking tou...\n",
       "1     Books & Literature                        tween 2 teen book reviews  \n",
       "2      Hobbies & Leisure  planned spontaneity – a blog about hiking arou...\n",
       "3            Team Sports                               - soccerplayer.net  \n",
       "4                 Soccer                               - soccerplayer.net  \n",
       "5                 Sports                               - soccerplayer.net  \n",
       "6       Autos & Vehicles  utv accessories & parts | find the best side b...\n",
       "7  Business & Industrial  tarps, large canvas tarp, & canvas tarp manufa...\n",
       "8   Arts & Entertainment                             perfectly disheveled  \n",
       "9          Home & Garden  urban barn furniture and accessories for your ..."
      ]
     },
     "execution_count": 16,
     "metadata": {},
     "output_type": "execute_result"
    }
   ],
   "source": [
    "def create_target(inp):\n",
    "    inp = str(inp)\n",
    "    if inp[0] == '/':\n",
    "        inp = inp[1:]\n",
    "    res = inp.split('/')[0]\n",
    "    return res\n",
    "\n",
    "df2.target = df2.target.apply(create_target)\n",
    "df2.head(10)"
   ]
  },
  {
   "cell_type": "code",
   "execution_count": 17,
   "id": "15ca09bc",
   "metadata": {},
   "outputs": [],
   "source": [
    "def fix_target(inp):\n",
    "    inp = inp.replace(\"&\", \"and\")\n",
    "    return inp\n",
    "df2.target = df2.target.apply(fix_target)"
   ]
  },
  {
   "cell_type": "code",
   "execution_count": 18,
   "id": "23cc97b4",
   "metadata": {
    "scrolled": false
   },
   "outputs": [
    {
     "data": {
      "text/html": [
       "<div>\n",
       "<style scoped>\n",
       "    .dataframe tbody tr th:only-of-type {\n",
       "        vertical-align: middle;\n",
       "    }\n",
       "\n",
       "    .dataframe tbody tr th {\n",
       "        vertical-align: top;\n",
       "    }\n",
       "\n",
       "    .dataframe thead th {\n",
       "        text-align: right;\n",
       "    }\n",
       "</style>\n",
       "<table border=\"1\" class=\"dataframe\">\n",
       "  <thead>\n",
       "    <tr style=\"text-align: right;\">\n",
       "      <th></th>\n",
       "      <th>target</th>\n",
       "      <th>text</th>\n",
       "    </tr>\n",
       "  </thead>\n",
       "  <tbody>\n",
       "    <tr>\n",
       "      <th>0</th>\n",
       "      <td>Travel</td>\n",
       "      <td>tourist scavenger hunt self guided walking tou...</td>\n",
       "    </tr>\n",
       "    <tr>\n",
       "      <th>1</th>\n",
       "      <td>Books and Literature</td>\n",
       "      <td>tween 2 teen book reviews</td>\n",
       "    </tr>\n",
       "    <tr>\n",
       "      <th>2</th>\n",
       "      <td>Hobbies and Leisure</td>\n",
       "      <td>planned spontaneity – a blog about hiking arou...</td>\n",
       "    </tr>\n",
       "    <tr>\n",
       "      <th>3</th>\n",
       "      <td>Team Sports</td>\n",
       "      <td>- soccerplayer.net</td>\n",
       "    </tr>\n",
       "    <tr>\n",
       "      <th>4</th>\n",
       "      <td>Soccer</td>\n",
       "      <td>- soccerplayer.net</td>\n",
       "    </tr>\n",
       "    <tr>\n",
       "      <th>5</th>\n",
       "      <td>Sports</td>\n",
       "      <td>- soccerplayer.net</td>\n",
       "    </tr>\n",
       "    <tr>\n",
       "      <th>6</th>\n",
       "      <td>Autos and Vehicles</td>\n",
       "      <td>utv accessories &amp; parts | find the best side b...</td>\n",
       "    </tr>\n",
       "    <tr>\n",
       "      <th>7</th>\n",
       "      <td>Business and Industrial</td>\n",
       "      <td>tarps, large canvas tarp, &amp; canvas tarp manufa...</td>\n",
       "    </tr>\n",
       "    <tr>\n",
       "      <th>8</th>\n",
       "      <td>Arts and Entertainment</td>\n",
       "      <td>perfectly disheveled</td>\n",
       "    </tr>\n",
       "    <tr>\n",
       "      <th>9</th>\n",
       "      <td>Home and Garden</td>\n",
       "      <td>urban barn furniture and accessories for your ...</td>\n",
       "    </tr>\n",
       "  </tbody>\n",
       "</table>\n",
       "</div>"
      ],
      "text/plain": [
       "                    target                                               text\n",
       "0                   Travel  tourist scavenger hunt self guided walking tou...\n",
       "1     Books and Literature                        tween 2 teen book reviews  \n",
       "2      Hobbies and Leisure  planned spontaneity – a blog about hiking arou...\n",
       "3              Team Sports                               - soccerplayer.net  \n",
       "4                   Soccer                               - soccerplayer.net  \n",
       "5                   Sports                               - soccerplayer.net  \n",
       "6       Autos and Vehicles  utv accessories & parts | find the best side b...\n",
       "7  Business and Industrial  tarps, large canvas tarp, & canvas tarp manufa...\n",
       "8   Arts and Entertainment                             perfectly disheveled  \n",
       "9          Home and Garden  urban barn furniture and accessories for your ..."
      ]
     },
     "execution_count": 18,
     "metadata": {},
     "output_type": "execute_result"
    }
   ],
   "source": [
    "df2.head(10)"
   ]
  },
  {
   "cell_type": "code",
   "execution_count": 19,
   "id": "c4cd8715",
   "metadata": {
    "scrolled": true
   },
   "outputs": [
    {
     "data": {
      "text/plain": [
       "42"
      ]
     },
     "execution_count": 19,
     "metadata": {},
     "output_type": "execute_result"
    }
   ],
   "source": [
    "len(pd.unique(df2.target))"
   ]
  },
  {
   "cell_type": "code",
   "execution_count": 20,
   "id": "6d9b729e",
   "metadata": {
    "scrolled": false
   },
   "outputs": [
    {
     "data": {
      "text/plain": [
       "array(['Travel', 'Books and Literature', 'Hobbies and Leisure',\n",
       "       'Team Sports', 'Soccer', 'Sports', 'Autos and Vehicles',\n",
       "       'Business and Industrial', 'Arts and Entertainment',\n",
       "       'Home and Garden', 'Online Communities', 'Science', 'Shopping',\n",
       "       'People and Society', 'Law and Government', 'Reference',\n",
       "       'Beauty and Fitness', 'Jobs and Education', 'Health',\n",
       "       'Computers and Electronics', 'News', 'Games', 'Food and Drink',\n",
       "       'Adult', 'Finance', 'Internet and Telecom', 'Real Estate',\n",
       "       'Sensitive Subjects', 'Pets and Animals', 'nan',\n",
       "       'Business and Consumer Services',\n",
       "       'Computers Electronics and Technology', 'eCommerce and Shopping',\n",
       "       'Science and Education', 'Vehicles', 'Reference Materials',\n",
       "       'Travel and Tourism', 'Community and Society', 'Gambling',\n",
       "       'Lifestyle', 'Heavy Industry and Engineering', 'Jobs and Career'],\n",
       "      dtype=object)"
      ]
     },
     "execution_count": 20,
     "metadata": {},
     "output_type": "execute_result"
    }
   ],
   "source": [
    "pd.unique(df2.target)"
   ]
  },
  {
   "cell_type": "code",
   "execution_count": 21,
   "id": "b05d8314",
   "metadata": {},
   "outputs": [
    {
     "data": {
      "text/plain": [
       "(36256, 2)"
      ]
     },
     "execution_count": 21,
     "metadata": {},
     "output_type": "execute_result"
    }
   ],
   "source": [
    "df2.shape"
   ]
  },
  {
   "cell_type": "code",
   "execution_count": 22,
   "id": "352afbac",
   "metadata": {},
   "outputs": [],
   "source": [
    "not_needed2 = ['Soccer', 'Online Communities',\n",
    "       'People and Society', 'Law and Government', 'Reference',\n",
    "       'Adult','Internet and Telecom','Sensitive Subjects', 'nan', 'Reference Materials',\n",
    "       'Community and Society', 'Gambling',\n",
    "       'Heavy Industry and Engineering','Jobs and Education']"
   ]
  },
  {
   "cell_type": "code",
   "execution_count": 23,
   "id": "6d4d4e14",
   "metadata": {},
   "outputs": [
    {
     "data": {
      "text/html": [
       "<div>\n",
       "<style scoped>\n",
       "    .dataframe tbody tr th:only-of-type {\n",
       "        vertical-align: middle;\n",
       "    }\n",
       "\n",
       "    .dataframe tbody tr th {\n",
       "        vertical-align: top;\n",
       "    }\n",
       "\n",
       "    .dataframe thead th {\n",
       "        text-align: right;\n",
       "    }\n",
       "</style>\n",
       "<table border=\"1\" class=\"dataframe\">\n",
       "  <thead>\n",
       "    <tr style=\"text-align: right;\">\n",
       "      <th></th>\n",
       "      <th>target</th>\n",
       "      <th>text</th>\n",
       "    </tr>\n",
       "  </thead>\n",
       "  <tbody>\n",
       "    <tr>\n",
       "      <th>0</th>\n",
       "      <td>Travel</td>\n",
       "      <td>tourist scavenger hunt self guided walking tou...</td>\n",
       "    </tr>\n",
       "    <tr>\n",
       "      <th>1</th>\n",
       "      <td>Books and Literature</td>\n",
       "      <td>tween 2 teen book reviews</td>\n",
       "    </tr>\n",
       "    <tr>\n",
       "      <th>2</th>\n",
       "      <td>Hobbies and Leisure</td>\n",
       "      <td>planned spontaneity – a blog about hiking arou...</td>\n",
       "    </tr>\n",
       "    <tr>\n",
       "      <th>3</th>\n",
       "      <td>Team Sports</td>\n",
       "      <td>- soccerplayer.net</td>\n",
       "    </tr>\n",
       "    <tr>\n",
       "      <th>5</th>\n",
       "      <td>Sports</td>\n",
       "      <td>- soccerplayer.net</td>\n",
       "    </tr>\n",
       "    <tr>\n",
       "      <th>6</th>\n",
       "      <td>Autos and Vehicles</td>\n",
       "      <td>utv accessories &amp; parts | find the best side b...</td>\n",
       "    </tr>\n",
       "    <tr>\n",
       "      <th>7</th>\n",
       "      <td>Business and Industrial</td>\n",
       "      <td>tarps, large canvas tarp, &amp; canvas tarp manufa...</td>\n",
       "    </tr>\n",
       "    <tr>\n",
       "      <th>8</th>\n",
       "      <td>Arts and Entertainment</td>\n",
       "      <td>perfectly disheveled</td>\n",
       "    </tr>\n",
       "    <tr>\n",
       "      <th>9</th>\n",
       "      <td>Home and Garden</td>\n",
       "      <td>urban barn furniture and accessories for your ...</td>\n",
       "    </tr>\n",
       "    <tr>\n",
       "      <th>11</th>\n",
       "      <td>Hobbies and Leisure</td>\n",
       "      <td>fishing directory website for listings, report...</td>\n",
       "    </tr>\n",
       "  </tbody>\n",
       "</table>\n",
       "</div>"
      ],
      "text/plain": [
       "                     target                                               text\n",
       "0                    Travel  tourist scavenger hunt self guided walking tou...\n",
       "1      Books and Literature                        tween 2 teen book reviews  \n",
       "2       Hobbies and Leisure  planned spontaneity – a blog about hiking arou...\n",
       "3               Team Sports                               - soccerplayer.net  \n",
       "5                    Sports                               - soccerplayer.net  \n",
       "6        Autos and Vehicles  utv accessories & parts | find the best side b...\n",
       "7   Business and Industrial  tarps, large canvas tarp, & canvas tarp manufa...\n",
       "8    Arts and Entertainment                             perfectly disheveled  \n",
       "9           Home and Garden  urban barn furniture and accessories for your ...\n",
       "11      Hobbies and Leisure  fishing directory website for listings, report..."
      ]
     },
     "execution_count": 23,
     "metadata": {},
     "output_type": "execute_result"
    }
   ],
   "source": [
    "df2 = df2[~df2['target'].isin(not_needed2)]\n",
    "df2.head(10)"
   ]
  },
  {
   "cell_type": "code",
   "execution_count": 24,
   "id": "1b7d64c1",
   "metadata": {},
   "outputs": [
    {
     "data": {
      "text/plain": [
       "(26208, 2)"
      ]
     },
     "execution_count": 24,
     "metadata": {},
     "output_type": "execute_result"
    }
   ],
   "source": [
    "df2.shape"
   ]
  },
  {
   "cell_type": "code",
   "execution_count": 25,
   "id": "05c6a5a3",
   "metadata": {},
   "outputs": [],
   "source": [
    "df2.target = df2.target.replace({'Fine Art': 'Arts and Culture', 'Pop Culture': 'Arts and Culture', \n",
    "                                 'Business and Industrial': 'Business and Finance', 'Business and Consumer Services': 'Business and Finance', \n",
    "                                 'Jobs and Career':'Careers', 'Autos and Vehicles':'Automotive', 'Vehicles':'Automotive', \n",
    "                                 'Science':'Academic Interests', 'Science and Education':'Academic Interests', \n",
    "                                 'Hobbies and Leisure': 'Hobbies and Interests', 'News':'News and Politics', 'Finance':'Personal Finance', \n",
    "                                 'eCommerce and Shopping': 'Shopping', 'Team Sports':'Sports', 'Beauty and Fitness':'Style and Fashion', \n",
    "                                 'Lifestyle':'Style and Fashion', 'Computers and Electronics':'Technology and Computing', \n",
    "                                 'Computers Electronics and Technology':'Technology and Computing', 'Travel and Tourism':'Travel', \n",
    "                                 'Pets and Animals':'Pets', 'Games':'Video Gaming'})"
   ]
  },
  {
   "cell_type": "code",
   "execution_count": 26,
   "id": "b112659f",
   "metadata": {
    "scrolled": false
   },
   "outputs": [
    {
     "data": {
      "text/plain": [
       "Business and Finance        3725\n",
       "Arts and Entertainment      3457\n",
       "Shopping                    2805\n",
       "Hobbies and Interests       2094\n",
       "Technology and Computing    1818\n",
       "Home and Garden             1645\n",
       "Health                      1356\n",
       "Sports                      1188\n",
       "Food and Drink              1106\n",
       "News and Politics           1103\n",
       "Automotive                  1085\n",
       "Style and Fashion            870\n",
       "Video Gaming                 867\n",
       "Travel                       867\n",
       "Books and Literature         730\n",
       "Personal Finance             606\n",
       "Academic Interests           511\n",
       "Real Estate                  298\n",
       "Pets                          74\n",
       "Careers                        3\n",
       "Name: target, dtype: int64"
      ]
     },
     "execution_count": 26,
     "metadata": {},
     "output_type": "execute_result"
    }
   ],
   "source": [
    "df2.target.value_counts()"
   ]
  },
  {
   "cell_type": "code",
   "execution_count": 27,
   "id": "9d306b69",
   "metadata": {
    "scrolled": true
   },
   "outputs": [
    {
     "data": {
      "image/png": "[encoded data removed]",
      "text/plain": [
       "<Figure size 432x288 with 1 Axes>"
      ]
     },
     "metadata": {
      "needs_background": "light"
     },
     "output_type": "display_data"
    }
   ],
   "source": [
    "sns.countplot(x = 'target', data = df2)\n",
    "plt.xlabel('Categories')\n",
    "plt.ylabel('Count')\n",
    "plt.title('Countplot: ')\n",
    "plt.show()"
   ]
  },
  {
   "cell_type": "markdown",
   "id": "2203eb98",
   "metadata": {},
   "source": [
    "#### Conclusion: Data is imbalanced and much more data is needed"
   ]
  },
  {
   "cell_type": "markdown",
   "id": "e6917391",
   "metadata": {},
   "source": [
    "### Hugging Face dataset 2"
   ]
  },
  {
   "cell_type": "code",
   "execution_count": 28,
   "id": "46011333",
   "metadata": {
    "scrolled": true
   },
   "outputs": [
    {
     "data": {
      "text/html": [
       "<div>\n",
       "<style scoped>\n",
       "    .dataframe tbody tr th:only-of-type {\n",
       "        vertical-align: middle;\n",
       "    }\n",
       "\n",
       "    .dataframe tbody tr th {\n",
       "        vertical-align: top;\n",
       "    }\n",
       "\n",
       "    .dataframe thead th {\n",
       "        text-align: right;\n",
       "    }\n",
       "</style>\n",
       "<table border=\"1\" class=\"dataframe\">\n",
       "  <thead>\n",
       "    <tr style=\"text-align: right;\">\n",
       "      <th></th>\n",
       "      <th>article</th>\n",
       "      <th>headline</th>\n",
       "      <th>category</th>\n",
       "    </tr>\n",
       "  </thead>\n",
       "  <tbody>\n",
       "    <tr>\n",
       "      <th>0</th>\n",
       "      <td>Elon Musk, Amber Heard Something's Fishy On Wr...</td>\n",
       "      <td>Elon Musk and Amber Heard go on a sushi date a...</td>\n",
       "      <td>Entertainment</td>\n",
       "    </tr>\n",
       "    <tr>\n",
       "      <th>1</th>\n",
       "      <td>Scientists are developing more than 100 corona...</td>\n",
       "      <td>Scientists developing coronavirus vaccines usi...</td>\n",
       "      <td>World</td>\n",
       "    </tr>\n",
       "    <tr>\n",
       "      <th>2</th>\n",
       "      <td>Jared Fogle Shut Down By Judge In Bid for Earl...</td>\n",
       "      <td>Jared Fogle gets no love from judge who senten...</td>\n",
       "      <td>Entertainment</td>\n",
       "    </tr>\n",
       "    <tr>\n",
       "      <th>3</th>\n",
       "      <td>The agency had come under fire from members of...</td>\n",
       "      <td>F.D.A. cracks down on companies selling corona...</td>\n",
       "      <td>Health</td>\n",
       "    </tr>\n",
       "    <tr>\n",
       "      <th>4</th>\n",
       "      <td>Credit...Jim Wilson/The New York TimesJune 30,...</td>\n",
       "      <td>Free speech has become a weapon of the powerfu...</td>\n",
       "      <td>Politics</td>\n",
       "    </tr>\n",
       "    <tr>\n",
       "      <th>5</th>\n",
       "      <td>Before Coming Out, a Hard Time Growing UpVideo...</td>\n",
       "      <td>Michael Sam, NFL prospect who comes out, grew ...</td>\n",
       "      <td>Sports</td>\n",
       "    </tr>\n",
       "    <tr>\n",
       "      <th>6</th>\n",
       "      <td>Credit...Laurent Cipriani/Associated PressNov....</td>\n",
       "      <td>Russia's candidate for Interpol president has ...</td>\n",
       "      <td>World</td>\n",
       "    </tr>\n",
       "    <tr>\n",
       "      <th>7</th>\n",
       "      <td>Fortnites parent company, Epic Games, had brok...</td>\n",
       "      <td>Apple does not need to reinstate Epic Games vi...</td>\n",
       "      <td>Tech</td>\n",
       "    </tr>\n",
       "    <tr>\n",
       "      <th>8</th>\n",
       "      <td>Lil Pump Attention Record Companies ... $15 Mi...</td>\n",
       "      <td>Lil Pump drops quarter mil on bling in New Yor...</td>\n",
       "      <td>Entertainment</td>\n",
       "    </tr>\n",
       "    <tr>\n",
       "      <th>9</th>\n",
       "      <td>The InterpreterCredit...Jean-Paul Pelissier/Re...</td>\n",
       "      <td>A European Union nuclear weapons program is ga...</td>\n",
       "      <td>World</td>\n",
       "    </tr>\n",
       "  </tbody>\n",
       "</table>\n",
       "</div>"
      ],
      "text/plain": [
       "                                             article  \\\n",
       "0  Elon Musk, Amber Heard Something's Fishy On Wr...   \n",
       "1  Scientists are developing more than 100 corona...   \n",
       "2  Jared Fogle Shut Down By Judge In Bid for Earl...   \n",
       "3  The agency had come under fire from members of...   \n",
       "4  Credit...Jim Wilson/The New York TimesJune 30,...   \n",
       "5  Before Coming Out, a Hard Time Growing UpVideo...   \n",
       "6  Credit...Laurent Cipriani/Associated PressNov....   \n",
       "7  Fortnites parent company, Epic Games, had brok...   \n",
       "8  Lil Pump Attention Record Companies ... $15 Mi...   \n",
       "9  The InterpreterCredit...Jean-Paul Pelissier/Re...   \n",
       "\n",
       "                                            headline       category  \n",
       "0  Elon Musk and Amber Heard go on a sushi date a...  Entertainment  \n",
       "1  Scientists developing coronavirus vaccines usi...          World  \n",
       "2  Jared Fogle gets no love from judge who senten...  Entertainment  \n",
       "3  F.D.A. cracks down on companies selling corona...         Health  \n",
       "4  Free speech has become a weapon of the powerfu...       Politics  \n",
       "5  Michael Sam, NFL prospect who comes out, grew ...         Sports  \n",
       "6  Russia's candidate for Interpol president has ...          World  \n",
       "7  Apple does not need to reinstate Epic Games vi...           Tech  \n",
       "8  Lil Pump drops quarter mil on bling in New Yor...  Entertainment  \n",
       "9  A European Union nuclear weapons program is ga...          World  "
      ]
     },
     "execution_count": 28,
     "metadata": {},
     "output_type": "execute_result"
    }
   ],
   "source": [
    "df3 = pd.read_csv('news_article_categorization.csv')\n",
    "df3.head(10)"
   ]
  },
  {
   "cell_type": "code",
   "execution_count": 29,
   "id": "69609aff",
   "metadata": {
    "scrolled": true
   },
   "outputs": [
    {
     "data": {
      "text/html": [
       "<div>\n",
       "<style scoped>\n",
       "    .dataframe tbody tr th:only-of-type {\n",
       "        vertical-align: middle;\n",
       "    }\n",
       "\n",
       "    .dataframe tbody tr th {\n",
       "        vertical-align: top;\n",
       "    }\n",
       "\n",
       "    .dataframe thead th {\n",
       "        text-align: right;\n",
       "    }\n",
       "</style>\n",
       "<table border=\"1\" class=\"dataframe\">\n",
       "  <thead>\n",
       "    <tr style=\"text-align: right;\">\n",
       "      <th></th>\n",
       "      <th>category</th>\n",
       "      <th>text</th>\n",
       "    </tr>\n",
       "  </thead>\n",
       "  <tbody>\n",
       "    <tr>\n",
       "      <th>0</th>\n",
       "      <td>Entertainment</td>\n",
       "      <td>Elon Musk and Amber Heard go on a sushi date a...</td>\n",
       "    </tr>\n",
       "    <tr>\n",
       "      <th>1</th>\n",
       "      <td>World</td>\n",
       "      <td>Scientists developing coronavirus vaccines usi...</td>\n",
       "    </tr>\n",
       "    <tr>\n",
       "      <th>2</th>\n",
       "      <td>Entertainment</td>\n",
       "      <td>Jared Fogle gets no love from judge who senten...</td>\n",
       "    </tr>\n",
       "    <tr>\n",
       "      <th>3</th>\n",
       "      <td>Health</td>\n",
       "      <td>F.D.A. cracks down on companies selling corona...</td>\n",
       "    </tr>\n",
       "    <tr>\n",
       "      <th>4</th>\n",
       "      <td>Politics</td>\n",
       "      <td>Free speech has become a weapon of the powerfu...</td>\n",
       "    </tr>\n",
       "    <tr>\n",
       "      <th>5</th>\n",
       "      <td>Sports</td>\n",
       "      <td>Michael Sam, NFL prospect who comes out, grew ...</td>\n",
       "    </tr>\n",
       "    <tr>\n",
       "      <th>6</th>\n",
       "      <td>World</td>\n",
       "      <td>Russia's candidate for Interpol president has ...</td>\n",
       "    </tr>\n",
       "    <tr>\n",
       "      <th>7</th>\n",
       "      <td>Tech</td>\n",
       "      <td>Apple does not need to reinstate Epic Games vi...</td>\n",
       "    </tr>\n",
       "    <tr>\n",
       "      <th>8</th>\n",
       "      <td>Entertainment</td>\n",
       "      <td>Lil Pump drops quarter mil on bling in New Yor...</td>\n",
       "    </tr>\n",
       "    <tr>\n",
       "      <th>9</th>\n",
       "      <td>World</td>\n",
       "      <td>A European Union nuclear weapons program is ga...</td>\n",
       "    </tr>\n",
       "  </tbody>\n",
       "</table>\n",
       "</div>"
      ],
      "text/plain": [
       "        category                                               text\n",
       "0  Entertainment  Elon Musk and Amber Heard go on a sushi date a...\n",
       "1          World  Scientists developing coronavirus vaccines usi...\n",
       "2  Entertainment  Jared Fogle gets no love from judge who senten...\n",
       "3         Health  F.D.A. cracks down on companies selling corona...\n",
       "4       Politics  Free speech has become a weapon of the powerfu...\n",
       "5         Sports  Michael Sam, NFL prospect who comes out, grew ...\n",
       "6          World  Russia's candidate for Interpol president has ...\n",
       "7           Tech  Apple does not need to reinstate Epic Games vi...\n",
       "8  Entertainment  Lil Pump drops quarter mil on bling in New Yor...\n",
       "9          World  A European Union nuclear weapons program is ga..."
      ]
     },
     "execution_count": 29,
     "metadata": {},
     "output_type": "execute_result"
    }
   ],
   "source": [
    "df3['text'] = df3['headline'] + \" \" + df3['article']\n",
    "df3 = df3.drop(columns = ['article', 'headline'])\n",
    "df3.head(10)"
   ]
  },
  {
   "cell_type": "code",
   "execution_count": 30,
   "id": "842c2da9",
   "metadata": {},
   "outputs": [
    {
     "data": {
      "text/html": [
       "<div>\n",
       "<style scoped>\n",
       "    .dataframe tbody tr th:only-of-type {\n",
       "        vertical-align: middle;\n",
       "    }\n",
       "\n",
       "    .dataframe tbody tr th {\n",
       "        vertical-align: top;\n",
       "    }\n",
       "\n",
       "    .dataframe thead th {\n",
       "        text-align: right;\n",
       "    }\n",
       "</style>\n",
       "<table border=\"1\" class=\"dataframe\">\n",
       "  <thead>\n",
       "    <tr style=\"text-align: right;\">\n",
       "      <th></th>\n",
       "      <th>target</th>\n",
       "      <th>text</th>\n",
       "    </tr>\n",
       "  </thead>\n",
       "  <tbody>\n",
       "    <tr>\n",
       "      <th>0</th>\n",
       "      <td>Entertainment</td>\n",
       "      <td>Elon Musk and Amber Heard go on a sushi date a...</td>\n",
       "    </tr>\n",
       "    <tr>\n",
       "      <th>1</th>\n",
       "      <td>World</td>\n",
       "      <td>Scientists developing coronavirus vaccines usi...</td>\n",
       "    </tr>\n",
       "    <tr>\n",
       "      <th>2</th>\n",
       "      <td>Entertainment</td>\n",
       "      <td>Jared Fogle gets no love from judge who senten...</td>\n",
       "    </tr>\n",
       "    <tr>\n",
       "      <th>3</th>\n",
       "      <td>Health</td>\n",
       "      <td>F.D.A. cracks down on companies selling corona...</td>\n",
       "    </tr>\n",
       "    <tr>\n",
       "      <th>4</th>\n",
       "      <td>Politics</td>\n",
       "      <td>Free speech has become a weapon of the powerfu...</td>\n",
       "    </tr>\n",
       "    <tr>\n",
       "      <th>5</th>\n",
       "      <td>Sports</td>\n",
       "      <td>Michael Sam, NFL prospect who comes out, grew ...</td>\n",
       "    </tr>\n",
       "    <tr>\n",
       "      <th>6</th>\n",
       "      <td>World</td>\n",
       "      <td>Russia's candidate for Interpol president has ...</td>\n",
       "    </tr>\n",
       "    <tr>\n",
       "      <th>7</th>\n",
       "      <td>Tech</td>\n",
       "      <td>Apple does not need to reinstate Epic Games vi...</td>\n",
       "    </tr>\n",
       "    <tr>\n",
       "      <th>8</th>\n",
       "      <td>Entertainment</td>\n",
       "      <td>Lil Pump drops quarter mil on bling in New Yor...</td>\n",
       "    </tr>\n",
       "    <tr>\n",
       "      <th>9</th>\n",
       "      <td>World</td>\n",
       "      <td>A European Union nuclear weapons program is ga...</td>\n",
       "    </tr>\n",
       "  </tbody>\n",
       "</table>\n",
       "</div>"
      ],
      "text/plain": [
       "          target                                               text\n",
       "0  Entertainment  Elon Musk and Amber Heard go on a sushi date a...\n",
       "1          World  Scientists developing coronavirus vaccines usi...\n",
       "2  Entertainment  Jared Fogle gets no love from judge who senten...\n",
       "3         Health  F.D.A. cracks down on companies selling corona...\n",
       "4       Politics  Free speech has become a weapon of the powerfu...\n",
       "5         Sports  Michael Sam, NFL prospect who comes out, grew ...\n",
       "6          World  Russia's candidate for Interpol president has ...\n",
       "7           Tech  Apple does not need to reinstate Epic Games vi...\n",
       "8  Entertainment  Lil Pump drops quarter mil on bling in New Yor...\n",
       "9          World  A European Union nuclear weapons program is ga..."
      ]
     },
     "execution_count": 30,
     "metadata": {},
     "output_type": "execute_result"
    }
   ],
   "source": [
    "df3.rename(columns={'category': 'target'}, inplace=True)\n",
    "df3.head(10)"
   ]
  },
  {
   "cell_type": "code",
   "execution_count": 31,
   "id": "79afb409",
   "metadata": {},
   "outputs": [
    {
     "data": {
      "text/plain": [
       "8"
      ]
     },
     "execution_count": 31,
     "metadata": {},
     "output_type": "execute_result"
    }
   ],
   "source": [
    "len(pd.unique(df3.target))"
   ]
  },
  {
   "cell_type": "code",
   "execution_count": 32,
   "id": "188b67f2",
   "metadata": {
    "scrolled": true
   },
   "outputs": [
    {
     "data": {
      "text/plain": [
       "array(['Entertainment', 'World', 'Health', 'Politics', 'Sports', 'Tech',\n",
       "       'Business', 'science'], dtype=object)"
      ]
     },
     "execution_count": 32,
     "metadata": {},
     "output_type": "execute_result"
    }
   ],
   "source": [
    "pd.unique(df3.target)"
   ]
  },
  {
   "cell_type": "code",
   "execution_count": 33,
   "id": "097dab56",
   "metadata": {},
   "outputs": [
    {
     "data": {
      "text/html": [
       "<div>\n",
       "<style scoped>\n",
       "    .dataframe tbody tr th:only-of-type {\n",
       "        vertical-align: middle;\n",
       "    }\n",
       "\n",
       "    .dataframe tbody tr th {\n",
       "        vertical-align: top;\n",
       "    }\n",
       "\n",
       "    .dataframe thead th {\n",
       "        text-align: right;\n",
       "    }\n",
       "</style>\n",
       "<table border=\"1\" class=\"dataframe\">\n",
       "  <thead>\n",
       "    <tr style=\"text-align: right;\">\n",
       "      <th></th>\n",
       "      <th>target</th>\n",
       "      <th>text</th>\n",
       "    </tr>\n",
       "  </thead>\n",
       "  <tbody>\n",
       "    <tr>\n",
       "      <th>3</th>\n",
       "      <td>Health</td>\n",
       "      <td>F.D.A. cracks down on companies selling corona...</td>\n",
       "    </tr>\n",
       "    <tr>\n",
       "      <th>4</th>\n",
       "      <td>Politics</td>\n",
       "      <td>Free speech has become a weapon of the powerfu...</td>\n",
       "    </tr>\n",
       "    <tr>\n",
       "      <th>5</th>\n",
       "      <td>Sports</td>\n",
       "      <td>Michael Sam, NFL prospect who comes out, grew ...</td>\n",
       "    </tr>\n",
       "    <tr>\n",
       "      <th>7</th>\n",
       "      <td>Tech</td>\n",
       "      <td>Apple does not need to reinstate Epic Games vi...</td>\n",
       "    </tr>\n",
       "    <tr>\n",
       "      <th>10</th>\n",
       "      <td>Politics</td>\n",
       "      <td>Jason D. Greenblatt, Trump's special represent...</td>\n",
       "    </tr>\n",
       "    <tr>\n",
       "      <th>12</th>\n",
       "      <td>Health</td>\n",
       "      <td>F.D.A. approves new form of super-potent opioi...</td>\n",
       "    </tr>\n",
       "    <tr>\n",
       "      <th>14</th>\n",
       "      <td>Business</td>\n",
       "      <td>Pandora is steeling itself for a legal decisio...</td>\n",
       "    </tr>\n",
       "    <tr>\n",
       "      <th>22</th>\n",
       "      <td>Politics</td>\n",
       "      <td>Trumps presidential challenge coins set off a ...</td>\n",
       "    </tr>\n",
       "    <tr>\n",
       "      <th>23</th>\n",
       "      <td>Health</td>\n",
       "      <td>Health insurers scramble to decide whether to ...</td>\n",
       "    </tr>\n",
       "    <tr>\n",
       "      <th>24</th>\n",
       "      <td>science</td>\n",
       "      <td>Whats the No. 1 cause of blindness in older ad...</td>\n",
       "    </tr>\n",
       "  </tbody>\n",
       "</table>\n",
       "</div>"
      ],
      "text/plain": [
       "      target                                               text\n",
       "3     Health  F.D.A. cracks down on companies selling corona...\n",
       "4   Politics  Free speech has become a weapon of the powerfu...\n",
       "5     Sports  Michael Sam, NFL prospect who comes out, grew ...\n",
       "7       Tech  Apple does not need to reinstate Epic Games vi...\n",
       "10  Politics  Jason D. Greenblatt, Trump's special represent...\n",
       "12    Health  F.D.A. approves new form of super-potent opioi...\n",
       "14  Business  Pandora is steeling itself for a legal decisio...\n",
       "22  Politics  Trumps presidential challenge coins set off a ...\n",
       "23    Health  Health insurers scramble to decide whether to ...\n",
       "24   science  Whats the No. 1 cause of blindness in older ad..."
      ]
     },
     "execution_count": 33,
     "metadata": {},
     "output_type": "execute_result"
    }
   ],
   "source": [
    "not_needed3 = ['Entertainment', 'World']\n",
    "df3 = df3[~df3['target'].isin(not_needed3)]\n",
    "df3.head(10)"
   ]
  },
  {
   "cell_type": "code",
   "execution_count": 34,
   "id": "aff7752e",
   "metadata": {
    "scrolled": false
   },
   "outputs": [
    {
     "data": {
      "text/html": [
       "<div>\n",
       "<style scoped>\n",
       "    .dataframe tbody tr th:only-of-type {\n",
       "        vertical-align: middle;\n",
       "    }\n",
       "\n",
       "    .dataframe tbody tr th {\n",
       "        vertical-align: top;\n",
       "    }\n",
       "\n",
       "    .dataframe thead th {\n",
       "        text-align: right;\n",
       "    }\n",
       "</style>\n",
       "<table border=\"1\" class=\"dataframe\">\n",
       "  <thead>\n",
       "    <tr style=\"text-align: right;\">\n",
       "      <th></th>\n",
       "      <th>target</th>\n",
       "      <th>text</th>\n",
       "    </tr>\n",
       "  </thead>\n",
       "  <tbody>\n",
       "    <tr>\n",
       "      <th>3</th>\n",
       "      <td>Health</td>\n",
       "      <td>F.D.A. cracks down on companies selling corona...</td>\n",
       "    </tr>\n",
       "    <tr>\n",
       "      <th>4</th>\n",
       "      <td>News and Politics</td>\n",
       "      <td>Free speech has become a weapon of the powerfu...</td>\n",
       "    </tr>\n",
       "    <tr>\n",
       "      <th>5</th>\n",
       "      <td>Sports</td>\n",
       "      <td>Michael Sam, NFL prospect who comes out, grew ...</td>\n",
       "    </tr>\n",
       "    <tr>\n",
       "      <th>7</th>\n",
       "      <td>Technology and Computing</td>\n",
       "      <td>Apple does not need to reinstate Epic Games vi...</td>\n",
       "    </tr>\n",
       "    <tr>\n",
       "      <th>10</th>\n",
       "      <td>News and Politics</td>\n",
       "      <td>Jason D. Greenblatt, Trump's special represent...</td>\n",
       "    </tr>\n",
       "    <tr>\n",
       "      <th>12</th>\n",
       "      <td>Health</td>\n",
       "      <td>F.D.A. approves new form of super-potent opioi...</td>\n",
       "    </tr>\n",
       "    <tr>\n",
       "      <th>14</th>\n",
       "      <td>Business and Finance</td>\n",
       "      <td>Pandora is steeling itself for a legal decisio...</td>\n",
       "    </tr>\n",
       "    <tr>\n",
       "      <th>22</th>\n",
       "      <td>News and Politics</td>\n",
       "      <td>Trumps presidential challenge coins set off a ...</td>\n",
       "    </tr>\n",
       "    <tr>\n",
       "      <th>23</th>\n",
       "      <td>Health</td>\n",
       "      <td>Health insurers scramble to decide whether to ...</td>\n",
       "    </tr>\n",
       "    <tr>\n",
       "      <th>24</th>\n",
       "      <td>Academic Interests</td>\n",
       "      <td>Whats the No. 1 cause of blindness in older ad...</td>\n",
       "    </tr>\n",
       "  </tbody>\n",
       "</table>\n",
       "</div>"
      ],
      "text/plain": [
       "                      target  \\\n",
       "3                     Health   \n",
       "4          News and Politics   \n",
       "5                     Sports   \n",
       "7   Technology and Computing   \n",
       "10         News and Politics   \n",
       "12                    Health   \n",
       "14      Business and Finance   \n",
       "22         News and Politics   \n",
       "23                    Health   \n",
       "24        Academic Interests   \n",
       "\n",
       "                                                 text  \n",
       "3   F.D.A. cracks down on companies selling corona...  \n",
       "4   Free speech has become a weapon of the powerfu...  \n",
       "5   Michael Sam, NFL prospect who comes out, grew ...  \n",
       "7   Apple does not need to reinstate Epic Games vi...  \n",
       "10  Jason D. Greenblatt, Trump's special represent...  \n",
       "12  F.D.A. approves new form of super-potent opioi...  \n",
       "14  Pandora is steeling itself for a legal decisio...  \n",
       "22  Trumps presidential challenge coins set off a ...  \n",
       "23  Health insurers scramble to decide whether to ...  \n",
       "24  Whats the No. 1 cause of blindness in older ad...  "
      ]
     },
     "execution_count": 34,
     "metadata": {},
     "output_type": "execute_result"
    }
   ],
   "source": [
    "df3.target = df3.target.replace({'science': 'Academic Interests', 'Business': 'Business and Finance', \n",
    "                                 'Politics':'News and Politics', 'Tech':'Technology and Computing', })\n",
    "df3.head(10)"
   ]
  },
  {
   "cell_type": "code",
   "execution_count": 35,
   "id": "a4c820db",
   "metadata": {},
   "outputs": [
    {
     "data": {
      "text/html": [
       "<div>\n",
       "<style scoped>\n",
       "    .dataframe tbody tr th:only-of-type {\n",
       "        vertical-align: middle;\n",
       "    }\n",
       "\n",
       "    .dataframe tbody tr th {\n",
       "        vertical-align: top;\n",
       "    }\n",
       "\n",
       "    .dataframe thead th {\n",
       "        text-align: right;\n",
       "    }\n",
       "</style>\n",
       "<table border=\"1\" class=\"dataframe\">\n",
       "  <thead>\n",
       "    <tr style=\"text-align: right;\">\n",
       "      <th></th>\n",
       "      <th>target</th>\n",
       "      <th>text</th>\n",
       "    </tr>\n",
       "  </thead>\n",
       "  <tbody>\n",
       "    <tr>\n",
       "      <th>0</th>\n",
       "      <td>Health</td>\n",
       "      <td>F.D.A. cracks down on companies selling corona...</td>\n",
       "    </tr>\n",
       "    <tr>\n",
       "      <th>1</th>\n",
       "      <td>News and Politics</td>\n",
       "      <td>Free speech has become a weapon of the powerfu...</td>\n",
       "    </tr>\n",
       "    <tr>\n",
       "      <th>2</th>\n",
       "      <td>Sports</td>\n",
       "      <td>Michael Sam, NFL prospect who comes out, grew ...</td>\n",
       "    </tr>\n",
       "    <tr>\n",
       "      <th>3</th>\n",
       "      <td>Technology and Computing</td>\n",
       "      <td>Apple does not need to reinstate Epic Games vi...</td>\n",
       "    </tr>\n",
       "    <tr>\n",
       "      <th>4</th>\n",
       "      <td>News and Politics</td>\n",
       "      <td>Jason D. Greenblatt, Trump's special represent...</td>\n",
       "    </tr>\n",
       "    <tr>\n",
       "      <th>...</th>\n",
       "      <td>...</td>\n",
       "      <td>...</td>\n",
       "    </tr>\n",
       "    <tr>\n",
       "      <th>2307</th>\n",
       "      <td>Business and Finance</td>\n",
       "      <td>Gerald Fraser, 90, who covered the Attica pris...</td>\n",
       "    </tr>\n",
       "    <tr>\n",
       "      <th>2308</th>\n",
       "      <td>Academic Interests</td>\n",
       "      <td>New study suggests dinosaurs were wiped out by...</td>\n",
       "    </tr>\n",
       "    <tr>\n",
       "      <th>2309</th>\n",
       "      <td>News and Politics</td>\n",
       "      <td>House votes to rescind $15 billion in unspent ...</td>\n",
       "    </tr>\n",
       "    <tr>\n",
       "      <th>2310</th>\n",
       "      <td>News and Politics</td>\n",
       "      <td>The vice president will preside on Wednesday w...</td>\n",
       "    </tr>\n",
       "    <tr>\n",
       "      <th>2311</th>\n",
       "      <td>Business and Finance</td>\n",
       "      <td>I.P.O.s in the U.S. end 2015 with an empty Dec...</td>\n",
       "    </tr>\n",
       "  </tbody>\n",
       "</table>\n",
       "<p>2312 rows × 2 columns</p>\n",
       "</div>"
      ],
      "text/plain": [
       "                        target  \\\n",
       "0                       Health   \n",
       "1            News and Politics   \n",
       "2                       Sports   \n",
       "3     Technology and Computing   \n",
       "4            News and Politics   \n",
       "...                        ...   \n",
       "2307      Business and Finance   \n",
       "2308        Academic Interests   \n",
       "2309         News and Politics   \n",
       "2310         News and Politics   \n",
       "2311      Business and Finance   \n",
       "\n",
       "                                                   text  \n",
       "0     F.D.A. cracks down on companies selling corona...  \n",
       "1     Free speech has become a weapon of the powerfu...  \n",
       "2     Michael Sam, NFL prospect who comes out, grew ...  \n",
       "3     Apple does not need to reinstate Epic Games vi...  \n",
       "4     Jason D. Greenblatt, Trump's special represent...  \n",
       "...                                                 ...  \n",
       "2307  Gerald Fraser, 90, who covered the Attica pris...  \n",
       "2308  New study suggests dinosaurs were wiped out by...  \n",
       "2309  House votes to rescind $15 billion in unspent ...  \n",
       "2310  The vice president will preside on Wednesday w...  \n",
       "2311  I.P.O.s in the U.S. end 2015 with an empty Dec...  \n",
       "\n",
       "[2312 rows x 2 columns]"
      ]
     },
     "execution_count": 35,
     "metadata": {},
     "output_type": "execute_result"
    }
   ],
   "source": [
    "df3.reset_index(drop = True)"
   ]
  },
  {
   "cell_type": "code",
   "execution_count": 36,
   "id": "d9f720f7",
   "metadata": {},
   "outputs": [
    {
     "data": {
      "text/plain": [
       "(2312, 2)"
      ]
     },
     "execution_count": 36,
     "metadata": {},
     "output_type": "execute_result"
    }
   ],
   "source": [
    "df3.shape"
   ]
  },
  {
   "cell_type": "code",
   "execution_count": 37,
   "id": "beaef93c",
   "metadata": {
    "scrolled": true
   },
   "outputs": [
    {
     "data": {
      "image/png": "[encoded data removed]",
      "text/plain": [
       "<Figure size 432x288 with 1 Axes>"
      ]
     },
     "metadata": {
      "needs_background": "light"
     },
     "output_type": "display_data"
    }
   ],
   "source": [
    "sns.countplot(x = 'target', data = df3)\n",
    "plt.xlabel('Categories')\n",
    "plt.ylabel('Count')\n",
    "plt.title('Countplot: ')\n",
    "plt.show()"
   ]
  },
  {
   "cell_type": "code",
   "execution_count": 38,
   "id": "bcd244c4",
   "metadata": {
    "scrolled": false
   },
   "outputs": [
    {
     "data": {
      "text/plain": [
       "Health                      436\n",
       "News and Politics           421\n",
       "Academic Interests          407\n",
       "Business and Finance        372\n",
       "Sports                      361\n",
       "Technology and Computing    315\n",
       "Name: target, dtype: int64"
      ]
     },
     "execution_count": 38,
     "metadata": {},
     "output_type": "execute_result"
    }
   ],
   "source": [
    "df3.target.value_counts()"
   ]
  },
  {
   "cell_type": "markdown",
   "id": "12b52cdb",
   "metadata": {},
   "source": [
    "#### Conclusion: Data is balanced but value counts are too low"
   ]
  },
  {
   "cell_type": "markdown",
   "id": "f0ff6286",
   "metadata": {},
   "source": [
    "## Combining different datasets"
   ]
  },
  {
   "cell_type": "code",
   "execution_count": 39,
   "id": "5c74e7bd",
   "metadata": {},
   "outputs": [],
   "source": [
    "df4 = pd.read_csv('d4.csv')\n",
    "df4.rename(columns={'category': 'target', 'categories':'target', 'Category':'target','article':'text', 'Text':'text'}, inplace=True)"
   ]
  },
  {
   "cell_type": "code",
   "execution_count": 40,
   "id": "334ab9de",
   "metadata": {},
   "outputs": [],
   "source": [
    "df5 = pd.read_csv('d5.csv')\n",
    "df5.rename(columns={'category': 'target', 'categories':'target', 'Category':'target','article':'text', 'Text':'text'}, inplace=True)"
   ]
  },
  {
   "cell_type": "code",
   "execution_count": 41,
   "id": "cd67a056",
   "metadata": {},
   "outputs": [],
   "source": [
    "df6 = pd.read_csv('d6.csv')\n",
    "df6.rename(columns={'category': 'target', 'categories':'target', 'Category':'target','article':'text', 'Text':'text'}, inplace=True)"
   ]
  },
  {
   "cell_type": "code",
   "execution_count": 42,
   "id": "b88629ed",
   "metadata": {},
   "outputs": [],
   "source": [
    "df7 = pd.read_csv('d7.csv')\n",
    "df7.rename(columns={'category': 'target', 'categories':'target', 'Category':'target','article':'text', 'Text':'text'}, inplace=True)"
   ]
  },
  {
   "cell_type": "code",
   "execution_count": 43,
   "id": "d8e36c8c",
   "metadata": {},
   "outputs": [],
   "source": [
    "df8 = pd.read_csv('d8.csv')\n",
    "df8.rename(columns={'category': 'target', 'categories':'target', 'Category':'target','article':'text', 'Text':'text'}, inplace=True)"
   ]
  },
  {
   "cell_type": "code",
   "execution_count": 44,
   "id": "b1a4e2d6",
   "metadata": {},
   "outputs": [],
   "source": [
    "df9 = pd.read_csv('d9.csv')\n",
    "df9.rename(columns={'category': 'target', 'categories':'target', 'Category':'target','article':'text', 'Text':'text'}, inplace=True)"
   ]
  },
  {
   "cell_type": "code",
   "execution_count": 45,
   "id": "203bacaf",
   "metadata": {},
   "outputs": [],
   "source": [
    "df10 = pd.read_csv('d10.csv')\n",
    "df10.rename(columns={'category': 'target', 'categories':'target', 'Category':'target','article':'text', 'Text':'text'}, inplace=True)"
   ]
  },
  {
   "cell_type": "code",
   "execution_count": 46,
   "id": "9d12f31d",
   "metadata": {},
   "outputs": [],
   "source": [
    "df11 = pd.read_csv('d11.csv')\n",
    "df11.rename(columns={'category': 'target', 'categories':'target', 'Category':'target','article':'text', 'Text':'text'}, inplace=True)"
   ]
  },
  {
   "cell_type": "code",
   "execution_count": 47,
   "id": "22b67eec",
   "metadata": {},
   "outputs": [],
   "source": [
    "df12 = pd.read_csv('d12.csv', nrows = 35001, encoding='ISO-8859-1')\n",
    "df12.rename(columns={'category': 'target', 'categories':'target', 'Category':'target','article':'text', 'Text':'text'}, inplace=True)\n",
    "# df12 = df12.sample(n=35000, random_state=42)"
   ]
  },
  {
   "cell_type": "code",
   "execution_count": 48,
   "id": "a22b6aee",
   "metadata": {},
   "outputs": [],
   "source": [
    "df13 = pd.read_csv('d13.csv')\n",
    "df13.rename(columns={'category': 'target', 'categories':'target', 'Category':'target','article':'text', 'Text':'text', 'Title':'target'}, inplace=True)\n",
    "df13 = df13.sample(n=35001, random_state=42)"
   ]
  },
  {
   "cell_type": "code",
   "execution_count": 49,
   "id": "630c0a12",
   "metadata": {},
   "outputs": [],
   "source": [
    "# this datset is prepared from Web Scraping \n",
    "df14 = pd.read_csv('scraped_dataset.csv')"
   ]
  },
  {
   "cell_type": "markdown",
   "id": "fabdd765",
   "metadata": {},
   "source": [
    "#### 'df14' is scraped_dataset which contains scraped articles of different categories from different sources like TOI, Economic Times, etc."
   ]
  },
  {
   "cell_type": "code",
   "execution_count": 50,
   "id": "32b6b876",
   "metadata": {
    "scrolled": true
   },
   "outputs": [],
   "source": [
    "df = pd.concat([df1, df2, df3, df4, df5, df6, df7, df8, df9, df10, df11, df12, df13, df14], axis = 0, ignore_index = True)\n",
    "df.target = df.target.str.lower()"
   ]
  },
  {
   "cell_type": "code",
   "execution_count": 51,
   "id": "da22886c",
   "metadata": {},
   "outputs": [
    {
     "data": {
      "text/html": [
       "<div>\n",
       "<style scoped>\n",
       "    .dataframe tbody tr th:only-of-type {\n",
       "        vertical-align: middle;\n",
       "    }\n",
       "\n",
       "    .dataframe tbody tr th {\n",
       "        vertical-align: top;\n",
       "    }\n",
       "\n",
       "    .dataframe thead th {\n",
       "        text-align: right;\n",
       "    }\n",
       "</style>\n",
       "<table border=\"1\" class=\"dataframe\">\n",
       "  <thead>\n",
       "    <tr style=\"text-align: right;\">\n",
       "      <th></th>\n",
       "      <th>text</th>\n",
       "      <th>target</th>\n",
       "    </tr>\n",
       "  </thead>\n",
       "  <tbody>\n",
       "    <tr>\n",
       "      <th>0</th>\n",
       "      <td>Musik zu machen liegt uns im Blut. Einfach Kra...</td>\n",
       "      <td>personal finance</td>\n",
       "    </tr>\n",
       "    <tr>\n",
       "      <th>1</th>\n",
       "      <td>Roohi’s trailer is haunting and hilarious at t...</td>\n",
       "      <td>family and relationships</td>\n",
       "    </tr>\n",
       "    <tr>\n",
       "      <th>2</th>\n",
       "      <td>2012 PLAYBOY JAZZ FESTIVAL FEATURES NEW ARTIST...</td>\n",
       "      <td>music and audio</td>\n",
       "    </tr>\n",
       "    <tr>\n",
       "      <th>3</th>\n",
       "      <td>FedEx Office Coupons &amp; Promo Codes. FedEx Offi...</td>\n",
       "      <td>shopping</td>\n",
       "    </tr>\n",
       "    <tr>\n",
       "      <th>4</th>\n",
       "      <td>Selecting Words. 26) The Kumbh Mela is known f...</td>\n",
       "      <td>technology and computing</td>\n",
       "    </tr>\n",
       "    <tr>\n",
       "      <th>...</th>\n",
       "      <td>...</td>\n",
       "      <td>...</td>\n",
       "    </tr>\n",
       "    <tr>\n",
       "      <th>1137680</th>\n",
       "      <td>Pollywood diva Monica Gill is currently baskin...</td>\n",
       "      <td>hobbies and interests</td>\n",
       "    </tr>\n",
       "    <tr>\n",
       "      <th>1137681</th>\n",
       "      <td>Father of two&lt;br /&gt;&lt;br /&gt;Family car: Alto &lt;br ...</td>\n",
       "      <td>hobbies and interests</td>\n",
       "    </tr>\n",
       "    <tr>\n",
       "      <th>1137682</th>\n",
       "      <td>Sad part is that you suffered for that defeat....</td>\n",
       "      <td>hobbies and interests</td>\n",
       "    </tr>\n",
       "    <tr>\n",
       "      <th>1137683</th>\n",
       "      <td>Today, Sharma has a very serious assignment - ...</td>\n",
       "      <td>hobbies and interests</td>\n",
       "    </tr>\n",
       "    <tr>\n",
       "      <th>1137684</th>\n",
       "      <td>See You Again Andrew Cedar, Justin Franks, Cha...</td>\n",
       "      <td>hobbies and interests</td>\n",
       "    </tr>\n",
       "  </tbody>\n",
       "</table>\n",
       "<p>1137685 rows × 2 columns</p>\n",
       "</div>"
      ],
      "text/plain": [
       "                                                      text  \\\n",
       "0        Musik zu machen liegt uns im Blut. Einfach Kra...   \n",
       "1        Roohi’s trailer is haunting and hilarious at t...   \n",
       "2        2012 PLAYBOY JAZZ FESTIVAL FEATURES NEW ARTIST...   \n",
       "3        FedEx Office Coupons & Promo Codes. FedEx Offi...   \n",
       "4        Selecting Words. 26) The Kumbh Mela is known f...   \n",
       "...                                                    ...   \n",
       "1137680  Pollywood diva Monica Gill is currently baskin...   \n",
       "1137681  Father of two<br /><br />Family car: Alto <br ...   \n",
       "1137682  Sad part is that you suffered for that defeat....   \n",
       "1137683  Today, Sharma has a very serious assignment - ...   \n",
       "1137684  See You Again Andrew Cedar, Justin Franks, Cha...   \n",
       "\n",
       "                           target  \n",
       "0                personal finance  \n",
       "1        family and relationships  \n",
       "2                 music and audio  \n",
       "3                        shopping  \n",
       "4        technology and computing  \n",
       "...                           ...  \n",
       "1137680     hobbies and interests  \n",
       "1137681     hobbies and interests  \n",
       "1137682     hobbies and interests  \n",
       "1137683     hobbies and interests  \n",
       "1137684     hobbies and interests  \n",
       "\n",
       "[1137685 rows x 2 columns]"
      ]
     },
     "execution_count": 51,
     "metadata": {},
     "output_type": "execute_result"
    }
   ],
   "source": [
    "df"
   ]
  },
  {
   "cell_type": "code",
   "execution_count": 52,
   "id": "0112cd67",
   "metadata": {},
   "outputs": [],
   "source": [
    "df.target = df.target.replace({'style and faishon':'style and fashion'})"
   ]
  },
  {
   "cell_type": "code",
   "execution_count": 53,
   "id": "9cd8a152",
   "metadata": {},
   "outputs": [
    {
     "data": {
      "text/html": [
       "<div>\n",
       "<style scoped>\n",
       "    .dataframe tbody tr th:only-of-type {\n",
       "        vertical-align: middle;\n",
       "    }\n",
       "\n",
       "    .dataframe tbody tr th {\n",
       "        vertical-align: top;\n",
       "    }\n",
       "\n",
       "    .dataframe thead th {\n",
       "        text-align: right;\n",
       "    }\n",
       "</style>\n",
       "<table border=\"1\" class=\"dataframe\">\n",
       "  <thead>\n",
       "    <tr style=\"text-align: right;\">\n",
       "      <th></th>\n",
       "      <th>text</th>\n",
       "      <th>target</th>\n",
       "    </tr>\n",
       "  </thead>\n",
       "  <tbody>\n",
       "    <tr>\n",
       "      <th>0</th>\n",
       "      <td>Musik zu machen liegt uns im Blut. Einfach Kra...</td>\n",
       "      <td>personal finance</td>\n",
       "    </tr>\n",
       "    <tr>\n",
       "      <th>1</th>\n",
       "      <td>Roohi’s trailer is haunting and hilarious at t...</td>\n",
       "      <td>family and relationships</td>\n",
       "    </tr>\n",
       "    <tr>\n",
       "      <th>2</th>\n",
       "      <td>2012 PLAYBOY JAZZ FESTIVAL FEATURES NEW ARTIST...</td>\n",
       "      <td>music and audio</td>\n",
       "    </tr>\n",
       "    <tr>\n",
       "      <th>3</th>\n",
       "      <td>FedEx Office Coupons &amp; Promo Codes. FedEx Offi...</td>\n",
       "      <td>shopping</td>\n",
       "    </tr>\n",
       "    <tr>\n",
       "      <th>4</th>\n",
       "      <td>Selecting Words. 26) The Kumbh Mela is known f...</td>\n",
       "      <td>technology and computing</td>\n",
       "    </tr>\n",
       "    <tr>\n",
       "      <th>...</th>\n",
       "      <td>...</td>\n",
       "      <td>...</td>\n",
       "    </tr>\n",
       "    <tr>\n",
       "      <th>1137680</th>\n",
       "      <td>Pollywood diva Monica Gill is currently baskin...</td>\n",
       "      <td>hobbies and interests</td>\n",
       "    </tr>\n",
       "    <tr>\n",
       "      <th>1137681</th>\n",
       "      <td>Father of two&lt;br /&gt;&lt;br /&gt;Family car: Alto &lt;br ...</td>\n",
       "      <td>hobbies and interests</td>\n",
       "    </tr>\n",
       "    <tr>\n",
       "      <th>1137682</th>\n",
       "      <td>Sad part is that you suffered for that defeat....</td>\n",
       "      <td>hobbies and interests</td>\n",
       "    </tr>\n",
       "    <tr>\n",
       "      <th>1137683</th>\n",
       "      <td>Today, Sharma has a very serious assignment - ...</td>\n",
       "      <td>hobbies and interests</td>\n",
       "    </tr>\n",
       "    <tr>\n",
       "      <th>1137684</th>\n",
       "      <td>See You Again Andrew Cedar, Justin Franks, Cha...</td>\n",
       "      <td>hobbies and interests</td>\n",
       "    </tr>\n",
       "  </tbody>\n",
       "</table>\n",
       "<p>988174 rows × 2 columns</p>\n",
       "</div>"
      ],
      "text/plain": [
       "                                                      text  \\\n",
       "0        Musik zu machen liegt uns im Blut. Einfach Kra...   \n",
       "1        Roohi’s trailer is haunting and hilarious at t...   \n",
       "2        2012 PLAYBOY JAZZ FESTIVAL FEATURES NEW ARTIST...   \n",
       "3        FedEx Office Coupons & Promo Codes. FedEx Offi...   \n",
       "4        Selecting Words. 26) The Kumbh Mela is known f...   \n",
       "...                                                    ...   \n",
       "1137680  Pollywood diva Monica Gill is currently baskin...   \n",
       "1137681  Father of two<br /><br />Family car: Alto <br ...   \n",
       "1137682  Sad part is that you suffered for that defeat....   \n",
       "1137683  Today, Sharma has a very serious assignment - ...   \n",
       "1137684  See You Again Andrew Cedar, Justin Franks, Cha...   \n",
       "\n",
       "                           target  \n",
       "0                personal finance  \n",
       "1        family and relationships  \n",
       "2                 music and audio  \n",
       "3                        shopping  \n",
       "4        technology and computing  \n",
       "...                           ...  \n",
       "1137680     hobbies and interests  \n",
       "1137681     hobbies and interests  \n",
       "1137682     hobbies and interests  \n",
       "1137683     hobbies and interests  \n",
       "1137684     hobbies and interests  \n",
       "\n",
       "[988174 rows x 2 columns]"
      ]
     },
     "execution_count": 53,
     "metadata": {},
     "output_type": "execute_result"
    }
   ],
   "source": [
    "df = df[df['target'] != 'arts and entertainment']\n",
    "df"
   ]
  },
  {
   "cell_type": "code",
   "execution_count": 54,
   "id": "0cb215f5",
   "metadata": {
    "scrolled": true
   },
   "outputs": [
    {
     "name": "stdout",
     "output_type": "stream",
     "text": [
      "text      18\n",
      "target     0\n",
      "dtype: int64\n"
     ]
    }
   ],
   "source": [
    "print(df.isnull().sum())"
   ]
  },
  {
   "cell_type": "code",
   "execution_count": 55,
   "id": "00a06f22",
   "metadata": {},
   "outputs": [
    {
     "name": "stdout",
     "output_type": "stream",
     "text": [
      "21847\n"
     ]
    }
   ],
   "source": [
    "print(df.duplicated().sum())"
   ]
  },
  {
   "cell_type": "code",
   "execution_count": 56,
   "id": "c3616d94",
   "metadata": {},
   "outputs": [
    {
     "data": {
      "text/plain": [
       "(988174, 2)"
      ]
     },
     "execution_count": 56,
     "metadata": {},
     "output_type": "execute_result"
    }
   ],
   "source": [
    "df.shape"
   ]
  },
  {
   "cell_type": "code",
   "execution_count": 57,
   "id": "312c7007",
   "metadata": {
    "scrolled": true
   },
   "outputs": [],
   "source": [
    "def merge_rows(group):\n",
    "    merged_text = \"\"\n",
    "    rows_to_remove = []\n",
    "\n",
    "    for i, text in enumerate(group['text']):\n",
    "        text = str(text)\n",
    "        if len(merged_text.split()) + len(text.split()) <= 150:\n",
    "            merged_text += text + \" \"\n",
    "            rows_to_remove.append(group.index[i])\n",
    "        else:\n",
    "            break\n",
    "\n",
    "    if merged_text.strip():\n",
    "        group.at[group.index[-1], 'text'] = merged_text.strip()\n",
    "\n",
    "    group.drop(rows_to_remove, inplace=True)\n",
    "\n",
    "    return group\n",
    "\n",
    "df = df.groupby('target', group_keys=False).apply(merge_rows).reset_index(drop=True)"
   ]
  },
  {
   "cell_type": "code",
   "execution_count": 58,
   "id": "1a1c310b",
   "metadata": {},
   "outputs": [
    {
     "data": {
      "text/plain": [
       "(988100, 2)"
      ]
     },
     "execution_count": 58,
     "metadata": {},
     "output_type": "execute_result"
    }
   ],
   "source": [
    "df.shape"
   ]
  },
  {
   "cell_type": "code",
   "execution_count": 59,
   "id": "e88cf113",
   "metadata": {},
   "outputs": [],
   "source": [
    "df.dropna(subset=['text', 'target'], inplace=True)"
   ]
  },
  {
   "cell_type": "code",
   "execution_count": 60,
   "id": "c53179bb",
   "metadata": {},
   "outputs": [],
   "source": [
    "df.drop_duplicates(subset='text', keep='first', inplace=True)"
   ]
  },
  {
   "cell_type": "code",
   "execution_count": 61,
   "id": "a10a06f7",
   "metadata": {},
   "outputs": [],
   "source": [
    "df.reset_index(drop=True, inplace=True)"
   ]
  },
  {
   "cell_type": "code",
   "execution_count": 62,
   "id": "c73c9709",
   "metadata": {},
   "outputs": [
    {
     "data": {
      "text/html": [
       "<div>\n",
       "<style scoped>\n",
       "    .dataframe tbody tr th:only-of-type {\n",
       "        vertical-align: middle;\n",
       "    }\n",
       "\n",
       "    .dataframe tbody tr th {\n",
       "        vertical-align: top;\n",
       "    }\n",
       "\n",
       "    .dataframe thead th {\n",
       "        text-align: right;\n",
       "    }\n",
       "</style>\n",
       "<table border=\"1\" class=\"dataframe\">\n",
       "  <thead>\n",
       "    <tr style=\"text-align: right;\">\n",
       "      <th></th>\n",
       "      <th>text</th>\n",
       "      <th>target</th>\n",
       "    </tr>\n",
       "  </thead>\n",
       "  <tbody>\n",
       "    <tr>\n",
       "      <th>0</th>\n",
       "      <td>The Hierarchy Problem. What is the Hierarchy P...</td>\n",
       "      <td>academic interests</td>\n",
       "    </tr>\n",
       "    <tr>\n",
       "      <th>1</th>\n",
       "      <td>Digging the Root Canal. Digging the Root Canal...</td>\n",
       "      <td>academic interests</td>\n",
       "    </tr>\n",
       "    <tr>\n",
       "      <th>2</th>\n",
       "      <td>Turning spit and data into treasure. By the ti...</td>\n",
       "      <td>academic interests</td>\n",
       "    </tr>\n",
       "    <tr>\n",
       "      <th>3</th>\n",
       "      <td>Plastics. Overview\\nPlastic waste is choking o...</td>\n",
       "      <td>academic interests</td>\n",
       "    </tr>\n",
       "    <tr>\n",
       "      <th>4</th>\n",
       "      <td>New To Motorhomes. Just bought a motorhome or ...</td>\n",
       "      <td>academic interests</td>\n",
       "    </tr>\n",
       "    <tr>\n",
       "      <th>...</th>\n",
       "      <td>...</td>\n",
       "      <td>...</td>\n",
       "    </tr>\n",
       "    <tr>\n",
       "      <th>965541</th>\n",
       "      <td>\\nJames Cameron’s long-awaited sequel Avatar: ...</td>\n",
       "      <td>video gaming</td>\n",
       "    </tr>\n",
       "    <tr>\n",
       "      <th>965542</th>\n",
       "      <td>\\nBethesda’s Todd Howard says he expects every...</td>\n",
       "      <td>video gaming</td>\n",
       "    </tr>\n",
       "    <tr>\n",
       "      <th>965543</th>\n",
       "      <td>\\nPokemon Scarlet and Violet just got their fi...</td>\n",
       "      <td>video gaming</td>\n",
       "    </tr>\n",
       "    <tr>\n",
       "      <th>965544</th>\n",
       "      <td>\\nQuantic Dream founder David Cage says the st...</td>\n",
       "      <td>video gaming</td>\n",
       "    </tr>\n",
       "    <tr>\n",
       "      <th>965545</th>\n",
       "      <td>Biology Resume Examples [Also for Entry-Level ...</td>\n",
       "      <td>video gaming</td>\n",
       "    </tr>\n",
       "  </tbody>\n",
       "</table>\n",
       "<p>965546 rows × 2 columns</p>\n",
       "</div>"
      ],
      "text/plain": [
       "                                                     text              target\n",
       "0       The Hierarchy Problem. What is the Hierarchy P...  academic interests\n",
       "1       Digging the Root Canal. Digging the Root Canal...  academic interests\n",
       "2       Turning spit and data into treasure. By the ti...  academic interests\n",
       "3       Plastics. Overview\\nPlastic waste is choking o...  academic interests\n",
       "4       New To Motorhomes. Just bought a motorhome or ...  academic interests\n",
       "...                                                   ...                 ...\n",
       "965541  \\nJames Cameron’s long-awaited sequel Avatar: ...        video gaming\n",
       "965542  \\nBethesda’s Todd Howard says he expects every...        video gaming\n",
       "965543  \\nPokemon Scarlet and Violet just got their fi...        video gaming\n",
       "965544  \\nQuantic Dream founder David Cage says the st...        video gaming\n",
       "965545  Biology Resume Examples [Also for Entry-Level ...        video gaming\n",
       "\n",
       "[965546 rows x 2 columns]"
      ]
     },
     "execution_count": 62,
     "metadata": {},
     "output_type": "execute_result"
    }
   ],
   "source": [
    "df"
   ]
  },
  {
   "cell_type": "code",
   "execution_count": 63,
   "id": "2f617afb",
   "metadata": {
    "scrolled": true
   },
   "outputs": [
    {
     "data": {
      "text/plain": [
       "array(['academic interests', 'arts and culture', 'automotive',\n",
       "       'books and literature', 'business and finance', 'careers',\n",
       "       'family and relationships', 'food and drink', 'health',\n",
       "       'healthy living', 'hobbies and interests', 'home and garden',\n",
       "       'movies', 'music and audio', 'news and politics',\n",
       "       'personal finance', 'pets',\n",
       "       'pharmaceuticals, conditions, and symptoms', 'real estate',\n",
       "       'shopping', 'sports', 'style and fashion',\n",
       "       'technology and computing', 'television', 'travel', 'video gaming'],\n",
       "      dtype=object)"
      ]
     },
     "execution_count": 63,
     "metadata": {},
     "output_type": "execute_result"
    }
   ],
   "source": [
    "df.target.unique()"
   ]
  },
  {
   "cell_type": "code",
   "execution_count": 64,
   "id": "fec59f53",
   "metadata": {
    "scrolled": false
   },
   "outputs": [
    {
     "data": {
      "text/plain": [
       "technology and computing                     104895\n",
       "news and politics                             93555\n",
       "academic interests                            69360\n",
       "books and literature                          52122\n",
       "automotive                                    51589\n",
       "health                                        44567\n",
       "arts and culture                              40729\n",
       "business and finance                          40361\n",
       "careers                                       38073\n",
       "pharmaceuticals, conditions, and symptoms     35000\n",
       "sports                                        31779\n",
       "travel                                        29900\n",
       "movies                                        28449\n",
       "healthy living                                28207\n",
       "style and fashion                             28158\n",
       "food and drink                                27791\n",
       "pets                                          26081\n",
       "music and audio                               25703\n",
       "real estate                                   25697\n",
       "video gaming                                  22910\n",
       "shopping                                      22441\n",
       "home and garden                               20393\n",
       "personal finance                              20074\n",
       "family and relationships                      19837\n",
       "television                                    19025\n",
       "hobbies and interests                         18850\n",
       "Name: target, dtype: int64"
      ]
     },
     "execution_count": 64,
     "metadata": {},
     "output_type": "execute_result"
    }
   ],
   "source": [
    "df.target.value_counts()"
   ]
  },
  {
   "cell_type": "code",
   "execution_count": 65,
   "id": "ba9dab27",
   "metadata": {},
   "outputs": [
    {
     "data": {
      "text/plain": [
       "37136.38461538462"
      ]
     },
     "execution_count": 65,
     "metadata": {},
     "output_type": "execute_result"
    }
   ],
   "source": [
    "count = df['target'].value_counts()\n",
    "count.mean()"
   ]
  },
  {
   "cell_type": "code",
   "execution_count": 66,
   "id": "443decc7",
   "metadata": {},
   "outputs": [],
   "source": [
    "df.to_csv('TIL Dataset.csv', index = False)"
   ]
  },
  {
   "cell_type": "markdown",
   "id": "60900fc8",
   "metadata": {},
   "source": [
    "### Creating dataset with contains 20000 samples per category"
   ]
  },
  {
   "cell_type": "code",
   "execution_count": 67,
   "id": "a49c6d8e",
   "metadata": {},
   "outputs": [],
   "source": [
    "categories = df['target'].unique()\n",
    "sampled_dfs = []\n",
    "\n",
    "for category in categories:\n",
    "    category_df = df[df['target'] == category]\n",
    "    num_samples = min(20000, category_df.shape[0])\n",
    "    sampled_df = category_df.sample(num_samples, random_state=42)\n",
    "    sampled_dfs.append(sampled_df)"
   ]
  },
  {
   "cell_type": "code",
   "execution_count": 68,
   "id": "51f113c3",
   "metadata": {
    "scrolled": false
   },
   "outputs": [
    {
     "data": {
      "text/html": [
       "<div>\n",
       "<style scoped>\n",
       "    .dataframe tbody tr th:only-of-type {\n",
       "        vertical-align: middle;\n",
       "    }\n",
       "\n",
       "    .dataframe tbody tr th {\n",
       "        vertical-align: top;\n",
       "    }\n",
       "\n",
       "    .dataframe thead th {\n",
       "        text-align: right;\n",
       "    }\n",
       "</style>\n",
       "<table border=\"1\" class=\"dataframe\">\n",
       "  <thead>\n",
       "    <tr style=\"text-align: right;\">\n",
       "      <th></th>\n",
       "      <th>text</th>\n",
       "      <th>target</th>\n",
       "    </tr>\n",
       "  </thead>\n",
       "  <tbody>\n",
       "    <tr>\n",
       "      <th>0</th>\n",
       "      <td>Last summer my granddaughter, Brooke, played i...</td>\n",
       "      <td>academic interests</td>\n",
       "    </tr>\n",
       "    <tr>\n",
       "      <th>1</th>\n",
       "      <td>NEW DELHI: Uttar Pradesh Police Recruitment Bo...</td>\n",
       "      <td>academic interests</td>\n",
       "    </tr>\n",
       "    <tr>\n",
       "      <th>2</th>\n",
       "      <td>BELGAUM: Karnataka Higher Education minister ...</td>\n",
       "      <td>academic interests</td>\n",
       "    </tr>\n",
       "    <tr>\n",
       "      <th>3</th>\n",
       "      <td>Lincoln University has welcomed the governmen...</td>\n",
       "      <td>academic interests</td>\n",
       "    </tr>\n",
       "    <tr>\n",
       "      <th>4</th>\n",
       "      <td>NEW DELHI: The Uttar Pradesh Public Service Co...</td>\n",
       "      <td>academic interests</td>\n",
       "    </tr>\n",
       "    <tr>\n",
       "      <th>...</th>\n",
       "      <td>...</td>\n",
       "      <td>...</td>\n",
       "    </tr>\n",
       "    <tr>\n",
       "      <th>517707</th>\n",
       "      <td>\\nDeath Stranding 2 has been announced at The ...</td>\n",
       "      <td>video gaming</td>\n",
       "    </tr>\n",
       "    <tr>\n",
       "      <th>517708</th>\n",
       "      <td>Raj Kundra dons multiple hats, but one thing t...</td>\n",
       "      <td>video gaming</td>\n",
       "    </tr>\n",
       "    <tr>\n",
       "      <th>517709</th>\n",
       "      <td>\\nMario + Rabbids Sparks of Hope, one of the b...</td>\n",
       "      <td>video gaming</td>\n",
       "    </tr>\n",
       "    <tr>\n",
       "      <th>517710</th>\n",
       "      <td>Ahmedabad: A 38-year-old man from Adalaj who m...</td>\n",
       "      <td>video gaming</td>\n",
       "    </tr>\n",
       "    <tr>\n",
       "      <th>517711</th>\n",
       "      <td>Actress Varada Jishin is multi-tasking, by bei...</td>\n",
       "      <td>video gaming</td>\n",
       "    </tr>\n",
       "  </tbody>\n",
       "</table>\n",
       "<p>517712 rows × 2 columns</p>\n",
       "</div>"
      ],
      "text/plain": [
       "                                                     text              target\n",
       "0       Last summer my granddaughter, Brooke, played i...  academic interests\n",
       "1       NEW DELHI: Uttar Pradesh Police Recruitment Bo...  academic interests\n",
       "2        BELGAUM: Karnataka Higher Education minister ...  academic interests\n",
       "3        Lincoln University has welcomed the governmen...  academic interests\n",
       "4       NEW DELHI: The Uttar Pradesh Public Service Co...  academic interests\n",
       "...                                                   ...                 ...\n",
       "517707  \\nDeath Stranding 2 has been announced at The ...        video gaming\n",
       "517708  Raj Kundra dons multiple hats, but one thing t...        video gaming\n",
       "517709  \\nMario + Rabbids Sparks of Hope, one of the b...        video gaming\n",
       "517710  Ahmedabad: A 38-year-old man from Adalaj who m...        video gaming\n",
       "517711  Actress Varada Jishin is multi-tasking, by bei...        video gaming\n",
       "\n",
       "[517712 rows x 2 columns]"
      ]
     },
     "execution_count": 68,
     "metadata": {},
     "output_type": "execute_result"
    }
   ],
   "source": [
    "res_df = pd.concat(sampled_dfs, ignore_index = True)\n",
    "res_df"
   ]
  },
  {
   "cell_type": "code",
   "execution_count": 69,
   "id": "98496e47",
   "metadata": {},
   "outputs": [
    {
     "data": {
      "text/plain": [
       "academic interests                           20000\n",
       "arts and culture                             20000\n",
       "travel                                       20000\n",
       "technology and computing                     20000\n",
       "style and fashion                            20000\n",
       "sports                                       20000\n",
       "shopping                                     20000\n",
       "real estate                                  20000\n",
       "pharmaceuticals, conditions, and symptoms    20000\n",
       "pets                                         20000\n",
       "personal finance                             20000\n",
       "news and politics                            20000\n",
       "music and audio                              20000\n",
       "movies                                       20000\n",
       "home and garden                              20000\n",
       "healthy living                               20000\n",
       "health                                       20000\n",
       "food and drink                               20000\n",
       "careers                                      20000\n",
       "business and finance                         20000\n",
       "books and literature                         20000\n",
       "automotive                                   20000\n",
       "video gaming                                 20000\n",
       "family and relationships                     19837\n",
       "television                                   19025\n",
       "hobbies and interests                        18850\n",
       "Name: target, dtype: int64"
      ]
     },
     "execution_count": 69,
     "metadata": {},
     "output_type": "execute_result"
    }
   ],
   "source": [
    "res_df.target.value_counts()"
   ]
  },
  {
   "cell_type": "code",
   "execution_count": 70,
   "id": "a4f4d71f",
   "metadata": {},
   "outputs": [],
   "source": [
    "res_df.to_csv('res_df.csv', index = False)"
   ]
  },
  {
   "cell_type": "code",
   "execution_count": 71,
   "id": "343e1fc7",
   "metadata": {},
   "outputs": [
    {
     "data": {
      "text/plain": [
       "\"Art and culture department provides grants to educational institutions for imparting cultural education by conducting regular classes in music, dance etc. The grants are available for the purchase of musical equipment, remuneration of music teachers, accompanists, maintenance and TA to music teachers and accompanists. Eligibility criteria Non-government or aided high schools can apply to art and culture department for the grants Schools are at liberty to select the field of their choice-vocal, instrumental, classical dance, western music etc Pattern of assistance Grant of Rs 20,000 per school shall be sanctioned and paid towards purchase of musical equipment as initial grant to start classes A senior artist or musician (senior teacher) will be paid up to Rs 7,000 per month as remuneration Artist or musician (accompanist) will be paid up to Rs 5,000 per month as remuneration The school has to present utilization certificate for the year ending and the unutilized amount is to be remitted to the art and culture department An annual grant of Rs 2,000 will be paid as maintenance and for TA to music teachers during official visits to the art and culture department Rs 10,000 once in three years will be granted to take care or add to the earlier musical equipment Appointment of music teacher/accompanist Schools are at liberty to engage the services of one music teacher and one accompanist The senior music teacher for Indian classical music should have a Visharad degree of Gandharv Mahavidhyalaya or bachelor degree of college of music-sangeet parangat of Kala Academy The accompanist should be Madhyama Purna or Kushal of Kala Academy Music teachers and accompanists appointed for western music should possess a degree from Trinity College of London, Royal College of Music, Kala Academy. Teacher should have the 5th grade and the accompanist should have 3rd grade Music teachers or accompanists already working in schools and not having the degree/diploma have to obtain it within a period of three years or their services will be discontinued Music teachers or accompanists who do not possess a diploma or degree but who are excellent in teaching will have to undergo a test conducted by art and culture department and, if found suitable, will be allowed to teach. They must then complete their qualification within a period of three years Conditions for release of grant Schools must furnish a certificate of utilization at the end of the year to the department to continue receiving grants Schools should encourage students to appear for exams conducted for the courses leading to certificates, diplomas, degrees by various institutions Address/Contact details Directorate of Art & Culture, Sanskruti Bhavan, Patto, Panaji - Goa - 403 001, Phone - 0832-2404600/2404601, Email: dir-dac.goa@nic.in If you need more details on the procedures mentioned above, email us at toi.goa@timesgroup.com with '@ your fingertips' in the subject line. You can also write to us at: At your fingertips, c/o Times of India, Vivenda de Hassan, D Bandodkar Road, Miramar, Panaji - 403001 (Compiled by Elida Monserrate)\""
      ]
     },
     "execution_count": 71,
     "metadata": {},
     "output_type": "execute_result"
    }
   ],
   "source": [
    "res_df.iloc[23412].text"
   ]
  },
  {
   "cell_type": "code",
   "execution_count": null,
   "id": "0475fa12",
   "metadata": {},
   "outputs": [],
   "source": []
  }
 ],
 "metadata": {
  "kernelspec": {
   "display_name": "Python 3 (ipykernel)",
   "language": "python",
   "name": "python3"
  },
  "language_info": {
   "codemirror_mode": {
    "name": "ipython",
    "version": 3
   },
   "file_extension": ".py",
   "mimetype": "text/x-python",
   "name": "python",
   "nbconvert_exporter": "python",
   "pygments_lexer": "ipython3",
   "version": "3.9.7"
  }
 },
 "nbformat": 4,
 "nbformat_minor": 5
}
