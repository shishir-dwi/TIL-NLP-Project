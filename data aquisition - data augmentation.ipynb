{
 "cells": [
  {
   "cell_type": "code",
   "execution_count": 1,
   "id": "918ff615",
   "metadata": {},
   "outputs": [],
   "source": [
    "import numpy as np\n",
    "import pandas as pd"
   ]
  },
  {
   "cell_type": "code",
   "execution_count": 2,
   "id": "2c275f6b",
   "metadata": {
    "scrolled": false
   },
   "outputs": [
    {
     "data": {
      "text/html": [
       "<div>\n",
       "<style scoped>\n",
       "    .dataframe tbody tr th:only-of-type {\n",
       "        vertical-align: middle;\n",
       "    }\n",
       "\n",
       "    .dataframe tbody tr th {\n",
       "        vertical-align: top;\n",
       "    }\n",
       "\n",
       "    .dataframe thead th {\n",
       "        text-align: right;\n",
       "    }\n",
       "</style>\n",
       "<table border=\"1\" class=\"dataframe\">\n",
       "  <thead>\n",
       "    <tr style=\"text-align: right;\">\n",
       "      <th></th>\n",
       "      <th>text</th>\n",
       "      <th>target</th>\n",
       "    </tr>\n",
       "  </thead>\n",
       "  <tbody>\n",
       "    <tr>\n",
       "      <th>0</th>\n",
       "      <td>Musik zu machen liegt uns im Blut. Einfach Kra...</td>\n",
       "      <td>personal finance</td>\n",
       "    </tr>\n",
       "    <tr>\n",
       "      <th>1</th>\n",
       "      <td>Roohi’s trailer is haunting and hilarious at t...</td>\n",
       "      <td>family and relationships</td>\n",
       "    </tr>\n",
       "    <tr>\n",
       "      <th>2</th>\n",
       "      <td>2012 PLAYBOY JAZZ FESTIVAL FEATURES NEW ARTIST...</td>\n",
       "      <td>music and audio</td>\n",
       "    </tr>\n",
       "    <tr>\n",
       "      <th>3</th>\n",
       "      <td>FedEx Office Coupons &amp; Promo Codes. FedEx Offi...</td>\n",
       "      <td>shopping</td>\n",
       "    </tr>\n",
       "    <tr>\n",
       "      <th>4</th>\n",
       "      <td>Selecting Words. 26) The Kumbh Mela is known f...</td>\n",
       "      <td>technology and computing</td>\n",
       "    </tr>\n",
       "    <tr>\n",
       "      <th>5</th>\n",
       "      <td>Sibley South. The wonderful Sibley Regional Vo...</td>\n",
       "      <td>shopping</td>\n",
       "    </tr>\n",
       "    <tr>\n",
       "      <th>6</th>\n",
       "      <td>National Theatre: On Demand. In Schools. Natio...</td>\n",
       "      <td>arts and culture</td>\n",
       "    </tr>\n",
       "    <tr>\n",
       "      <th>7</th>\n",
       "      <td>One Shot is Call of Duty: Advanced Warfare’s n...</td>\n",
       "      <td>shopping</td>\n",
       "    </tr>\n",
       "    <tr>\n",
       "      <th>8</th>\n",
       "      <td>Pet Loss Books – Words Of Comfort From Pet Los...</td>\n",
       "      <td>family and relationships</td>\n",
       "    </tr>\n",
       "    <tr>\n",
       "      <th>9</th>\n",
       "      <td>Store2Vec: DoorDash Recommendations with Mitch...</td>\n",
       "      <td>technology and computing</td>\n",
       "    </tr>\n",
       "  </tbody>\n",
       "</table>\n",
       "</div>"
      ],
      "text/plain": [
       "                                                text                    target\n",
       "0  Musik zu machen liegt uns im Blut. Einfach Kra...          personal finance\n",
       "1  Roohi’s trailer is haunting and hilarious at t...  family and relationships\n",
       "2  2012 PLAYBOY JAZZ FESTIVAL FEATURES NEW ARTIST...           music and audio\n",
       "3  FedEx Office Coupons & Promo Codes. FedEx Offi...                  shopping\n",
       "4  Selecting Words. 26) The Kumbh Mela is known f...  technology and computing\n",
       "5  Sibley South. The wonderful Sibley Regional Vo...                  shopping\n",
       "6  National Theatre: On Demand. In Schools. Natio...          arts and culture\n",
       "7  One Shot is Call of Duty: Advanced Warfare’s n...                  shopping\n",
       "8  Pet Loss Books – Words Of Comfort From Pet Los...  family and relationships\n",
       "9  Store2Vec: DoorDash Recommendations with Mitch...  technology and computing"
      ]
     },
     "execution_count": 2,
     "metadata": {},
     "output_type": "execute_result"
    }
   ],
   "source": [
    "df1 = pd.read_csv(\"C:\\\\Users\\\\asus\\\\NLP\\\\TIL Dataset.csv\")\n",
    "df1.head(10)"
   ]
  },
  {
   "cell_type": "code",
   "execution_count": 6,
   "id": "3c309821",
   "metadata": {},
   "outputs": [
    {
     "data": {
      "text/html": [
       "<div>\n",
       "<style scoped>\n",
       "    .dataframe tbody tr th:only-of-type {\n",
       "        vertical-align: middle;\n",
       "    }\n",
       "\n",
       "    .dataframe tbody tr th {\n",
       "        vertical-align: top;\n",
       "    }\n",
       "\n",
       "    .dataframe thead th {\n",
       "        text-align: right;\n",
       "    }\n",
       "</style>\n",
       "<table border=\"1\" class=\"dataframe\">\n",
       "  <thead>\n",
       "    <tr style=\"text-align: right;\">\n",
       "      <th></th>\n",
       "      <th>text</th>\n",
       "      <th>target</th>\n",
       "    </tr>\n",
       "  </thead>\n",
       "  <tbody>\n",
       "    <tr>\n",
       "      <th>39</th>\n",
       "      <td>The Academy Museum of Motion Pictures Opening ...</td>\n",
       "      <td>pets</td>\n",
       "    </tr>\n",
       "    <tr>\n",
       "      <th>141</th>\n",
       "      <td>Employee Stock Purchase Plans. Get information...</td>\n",
       "      <td>pets</td>\n",
       "    </tr>\n",
       "    <tr>\n",
       "      <th>429</th>\n",
       "      <td>Another Bird Blog. The publication of new book...</td>\n",
       "      <td>pets</td>\n",
       "    </tr>\n",
       "    <tr>\n",
       "      <th>490</th>\n",
       "      <td>5 Tips on How To Effectively Use Tanning Drops...</td>\n",
       "      <td>pets</td>\n",
       "    </tr>\n",
       "    <tr>\n",
       "      <th>520</th>\n",
       "      <td>what are they carrying. Emmy Rossum: Christian...</td>\n",
       "      <td>pets</td>\n",
       "    </tr>\n",
       "    <tr>\n",
       "      <th>...</th>\n",
       "      <td>...</td>\n",
       "      <td>...</td>\n",
       "    </tr>\n",
       "    <tr>\n",
       "      <th>246409</th>\n",
       "      <td>birds now - birds and parrots for sale and ado...</td>\n",
       "      <td>pets</td>\n",
       "    </tr>\n",
       "    <tr>\n",
       "      <th>246410</th>\n",
       "      <td>the 2hr aquarist the ultimate guide to m...</td>\n",
       "      <td>pets</td>\n",
       "    </tr>\n",
       "    <tr>\n",
       "      <th>246449</th>\n",
       "      <td>pipa | racing pigeons for sale | pigeon news |...</td>\n",
       "      <td>pets</td>\n",
       "    </tr>\n",
       "    <tr>\n",
       "      <th>246624</th>\n",
       "      <td>\\tveterinary information networkÂ®, inc. - vin...</td>\n",
       "      <td>pets</td>\n",
       "    </tr>\n",
       "    <tr>\n",
       "      <th>246718</th>\n",
       "      <td>pond informer - garden pond resources, reviews...</td>\n",
       "      <td>pets</td>\n",
       "    </tr>\n",
       "  </tbody>\n",
       "</table>\n",
       "<p>211 rows × 2 columns</p>\n",
       "</div>"
      ],
      "text/plain": [
       "                                                     text target\n",
       "39      The Academy Museum of Motion Pictures Opening ...   pets\n",
       "141     Employee Stock Purchase Plans. Get information...   pets\n",
       "429     Another Bird Blog. The publication of new book...   pets\n",
       "490     5 Tips on How To Effectively Use Tanning Drops...   pets\n",
       "520     what are they carrying. Emmy Rossum: Christian...   pets\n",
       "...                                                   ...    ...\n",
       "246409  birds now - birds and parrots for sale and ado...   pets\n",
       "246410        the 2hr aquarist the ultimate guide to m...   pets\n",
       "246449  pipa | racing pigeons for sale | pigeon news |...   pets\n",
       "246624  \\tveterinary information networkÂ®, inc. - vin...   pets\n",
       "246718  pond informer - garden pond resources, reviews...   pets\n",
       "\n",
       "[211 rows x 2 columns]"
      ]
     },
     "execution_count": 6,
     "metadata": {},
     "output_type": "execute_result"
    }
   ],
   "source": [
    "df1[df1.target == 'pets']"
   ]
  },
  {
   "cell_type": "code",
   "execution_count": 7,
   "id": "4f0ed8f9",
   "metadata": {},
   "outputs": [
    {
     "name": "stderr",
     "output_type": "stream",
     "text": [
      "C:\\Users\\asus\\AppData\\Local\\Programs\\Python\\Python39\\lib\\site-packages\\tqdm\\auto.py:22: TqdmWarning: IProgress not found. Please update jupyter and ipywidgets. See https://ipywidgets.readthedocs.io/en/stable/user_install.html\n",
      "  from .autonotebook import tqdm as notebook_tqdm\n"
     ]
    }
   ],
   "source": [
    "import spacy\n",
    "import random\n",
    "\n",
    "nlp = spacy.load('en_core_web_lg')"
   ]
  },
  {
   "cell_type": "code",
   "execution_count": 8,
   "id": "f2611b79",
   "metadata": {},
   "outputs": [],
   "source": [
    "def get_synonyms_spacy(word):\n",
    "    word_vector = nlp.vocab[word].vector\n",
    "    most_similar = nlp.vocab.vectors.most_similar(word_vector.reshape(1, -1), n=5)\n",
    "    synonyms = [nlp.vocab.strings[similar] for similar in most_similar[0][0]]\n",
    "    if word in synonyms:\n",
    "        synonyms.remove(word)\n",
    "    return synonyms\n",
    "\n",
    "def synonym_replacement_spacy(text, n=2):\n",
    "    doc = nlp(text)\n",
    "    augmented_texts = []\n",
    "    for _ in range(n):\n",
    "        augmented_text = [token.text for token in doc]\n",
    "        for token in doc:\n",
    "            if random.random() < 0.15:\n",
    "                synonyms = get_synonyms_spacy(token.text)\n",
    "                if synonyms:\n",
    "                    augmented_text[token.i] = random.choice(synonyms)\n",
    "        augmented_texts.append(' '.join(augmented_text))\n",
    "    return augmented_texts"
   ]
  },
  {
   "cell_type": "code",
   "execution_count": 9,
   "id": "88bcd118",
   "metadata": {},
   "outputs": [],
   "source": [
    "def random_deletion_spacy(text, n=2, p=0.15):\n",
    "    doc = nlp(text)\n",
    "    augmented_texts = []\n",
    "    for _ in range(n):\n",
    "        augmented_text = [token.text for token in doc if random.random() > p]\n",
    "        augmented_texts.append(' '.join(augmented_text))\n",
    "    return augmented_texts"
   ]
  },
  {
   "cell_type": "code",
   "execution_count": 10,
   "id": "966297b8",
   "metadata": {},
   "outputs": [],
   "source": [
    "def text_rotation_spacy(text, n=2):\n",
    "    augmented_texts = []\n",
    "    sentences = list(nlp(text).sents)\n",
    "    for _ in range(n):\n",
    "        random.shuffle(sentences)\n",
    "        augmented_texts.append(' '.join([sent.text for sent in sentences]))\n",
    "    return augmented_texts"
   ]
  },
  {
   "cell_type": "code",
   "execution_count": 11,
   "id": "833d768d",
   "metadata": {},
   "outputs": [],
   "source": [
    "from googletrans import Translator\n",
    "\n",
    "def back_translate(text, target_lang, source_lang=\"en\"):\n",
    "    translator = Translator()\n",
    "    translated_text = translator.translate(text, dest=target_lang, src=source_lang).text\n",
    "    back_translated_text = translator.translate(translated_text, dest=source_lang, src=target_lang).text\n",
    "    return back_translated_text"
   ]
  },
  {
   "cell_type": "code",
   "execution_count": 13,
   "id": "1ef3c789",
   "metadata": {},
   "outputs": [],
   "source": [
    "desired_category = 'pets'\n",
    "\n",
    "selected_rows = df1[df1['target'] == desired_category]\n",
    "augmented_texts = selected_rows['text'].apply(random_deletion_spacy)\n",
    "\n",
    "augmented_df = pd.DataFrame({\n",
    "    'text': augmented_texts.explode(),\n",
    "    'target': desired_category\n",
    "})\n",
    "\n",
    "df = pd.concat([df1, augmented_df], ignore_index=True)"
   ]
  },
  {
   "cell_type": "code",
   "execution_count": 14,
   "id": "aa0a4fa0",
   "metadata": {},
   "outputs": [
    {
     "data": {
      "text/plain": [
       "text      633\n",
       "target    633\n",
       "dtype: int64"
      ]
     },
     "execution_count": 14,
     "metadata": {},
     "output_type": "execute_result"
    }
   ],
   "source": [
    "df[df.target == 'pets'].count()"
   ]
  }
 ],
 "metadata": {
  "kernelspec": {
   "display_name": "Python 3 (ipykernel)",
   "language": "python",
   "name": "python3"
  },
  "language_info": {
   "codemirror_mode": {
    "name": "ipython",
    "version": 3
   },
   "file_extension": ".py",
   "mimetype": "text/x-python",
   "name": "python",
   "nbconvert_exporter": "python",
   "pygments_lexer": "ipython3",
   "version": "3.9.7"
  }
 },
 "nbformat": 4,
 "nbformat_minor": 5
}
