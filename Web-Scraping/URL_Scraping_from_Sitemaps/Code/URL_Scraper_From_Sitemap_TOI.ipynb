{
 "cells": [
  {
   "cell_type": "code",
   "execution_count": null,
   "id": "a70e71a2",
   "metadata": {},
   "outputs": [],
   "source": [
    "import csv\n",
    "import xml.etree.ElementTree as ET\n",
    "import requests\n",
    "from urllib.parse import urlparse\n",
    "\n",
    "def extract_sports_related_urls(csv_file, output_csv_file):\n",
    "    sports_related_urls = []\n",
    "\n",
    "    # Read URLs from the CSV file\n",
    "    with open(csv_file, 'r') as file:\n",
    "        reader = csv.DictReader(file)\n",
    "        for row in reader:\n",
    "            url = row.get('URL')\n",
    "            if url:\n",
    "                response = requests.get(url)\n",
    "                if response.status_code == 200:\n",
    "                    xml_content = response.content\n",
    "                    xml_root = ET.fromstring(xml_content)\n",
    "\n",
    "                    for loc_element in xml_root.findall(\".//{http://www.sitemaps.org/schemas/sitemap/0.9}loc\"):\n",
    "                        loc_url = loc_element.text\n",
    "                        if \"sports\" in loc_url.lower():\n",
    "                          sports_related_urls.append(loc_url)\n",
    "\n",
    "    with open(output_csv_file, 'w', newline='', encoding='utf-8') as file:\n",
    "        writer = csv.writer(file)\n",
    "        writer.writerow([\"URL\"])  # Header\n",
    "        writer.writerows([[url] for url in sports_related_urls])\n",
    "\n",
    "\n",
    "input_csv_file = \"Input_URLs_TOI.csv\"  \n",
    "output_csv_file = \"sports_related_urls.csv\"  \n",
    "extract_sports_related_urls(input_csv_file, output_csv_file)"
   ]
  }
 ],
 "metadata": {
  "kernelspec": {
   "display_name": "Python 3 (ipykernel)",
   "language": "python",
   "name": "python3"
  },
  "language_info": {
   "codemirror_mode": {
    "name": "ipython",
    "version": 3
   },
   "file_extension": ".py",
   "mimetype": "text/x-python",
   "name": "python",
   "nbconvert_exporter": "python",
   "pygments_lexer": "ipython3",
   "version": "3.9.17"
  }
 },
 "nbformat": 4,
 "nbformat_minor": 5
}
